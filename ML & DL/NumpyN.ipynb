{
 "cells": [
  {
   "cell_type": "code",
   "execution_count": 2,
   "id": "674e9352-fd09-4777-9b89-6b9879a92d0a",
   "metadata": {},
   "outputs": [],
   "source": [
    "import numpy as np"
   ]
  },
  {
   "cell_type": "code",
   "execution_count": 3,
   "id": "1b6cb76d-b009-4950-9fd3-fbe663e48bf8",
   "metadata": {},
   "outputs": [],
   "source": [
    "#create a list of 1000000 integers\n",
    "list_1=list(range(1000000))"
   ]
  },
  {
   "cell_type": "code",
   "execution_count": 4,
   "id": "b6195e48-1e38-41ff-b026-09f38bc17f09",
   "metadata": {},
   "outputs": [],
   "source": [
    "#create a numpy array\n",
    "array_1=np.arange(100000)"
   ]
  },
  {
   "cell_type": "code",
   "execution_count": 5,
   "id": "4804103c-745c-418b-965e-ba79d18c3412",
   "metadata": {},
   "outputs": [],
   "source": [
    "#Numpy ARRAYS AND METHODS"
   ]
  },
  {
   "cell_type": "raw",
   "id": "e9f88c19-4c4b-4fef-94dc-9e7d3a2be68b",
   "metadata": {},
   "source": [
    "Np.arange() is a function used to create an array with regularly spaced values with in a specified range and its syntax is \n",
    "#numpy.arange(start, stop, step, dtype=None)\n",
    ".start: optional, the start of interval(inclusive), default is 0\n",
    ".stop The end of interval(exclusive)\n",
    ".step: Optional, the step size between values, default is 1\n",
    ".dtype:Optional, the data type of the array , if not specified, the data type is inferred from the other input arguments."
   ]
  },
  {
   "cell_type": "code",
   "execution_count": 6,
   "id": "1ce4403f-52b5-40ea-8a9c-dd7c07a85858",
   "metadata": {},
   "outputs": [
    {
     "name": "stdout",
     "output_type": "stream",
     "text": [
      "[0 3 6 9]\n",
      "[-4 -6 -8]\n"
     ]
    }
   ],
   "source": [
    "#create an array range from 0 to 9\n",
    "arr =np.arange(0,10,3)#  same as range\n",
    "print(arr)\n",
    "new_arr=np.arange(-4,-10,-2,dtype=int)\n",
    "print(new_arr)"
   ]
  },
  {
   "cell_type": "code",
   "execution_count": 7,
   "id": "51980b8b-4970-45ec-83b0-dfa3998ed9e2",
   "metadata": {},
   "outputs": [
    {
     "name": "stdout",
     "output_type": "stream",
     "text": [
      "[1 2 3 4 5 6]\n"
     ]
    }
   ],
   "source": [
    "# 1D ARRAYS\n",
    "arr_1d=np.array([1,2,3,4,5,6])\n",
    "print(arr_1d)"
   ]
  },
  {
   "cell_type": "code",
   "execution_count": 8,
   "id": "2592e43a-d58b-4836-b775-afd9b9b2a7da",
   "metadata": {},
   "outputs": [
    {
     "name": "stdout",
     "output_type": "stream",
     "text": [
      "[[1 2 3]\n",
      " [4 5 6]\n",
      " [6 7 8]]\n"
     ]
    },
    {
     "data": {
      "text/plain": [
       "array([6, 7, 8])"
      ]
     },
     "execution_count": 8,
     "metadata": {},
     "output_type": "execute_result"
    }
   ],
   "source": [
    "#2d array\n",
    "arr_2d=np.array([[1,2,3],[4,5,6],[6,7,8]])\n",
    "print(arr_2d)\n",
    "arr_2d[2]"
   ]
  },
  {
   "cell_type": "code",
   "execution_count": 9,
   "id": "c4b3212a-201d-43c5-ae6d-5060a751cd45",
   "metadata": {},
   "outputs": [],
   "source": [
    "#properties of nd arrays"
   ]
  },
  {
   "cell_type": "markdown",
   "id": "892b2f88-b612-4209-a921-adc9907d7fc2",
   "metadata": {},
   "source": [
    "1. Shape"
   ]
  },
  {
   "cell_type": "code",
   "execution_count": 10,
   "id": "b2216912-7e97-4d59-a4ca-ef4430b1fa10",
   "metadata": {},
   "outputs": [
    {
     "name": "stdout",
     "output_type": "stream",
     "text": [
      "(2, 3)\n"
     ]
    }
   ],
   "source": [
    "arr_2d=np.array([[1,2,4],[4,5,6]])\n",
    "#shape of an 2d array\n",
    "shape=arr_2d.shape\n",
    "print(shape)"
   ]
  },
  {
   "cell_type": "markdown",
   "id": "60622196-3a81-473d-83d6-862714d88a69",
   "metadata": {},
   "source": [
    "2. Data Type"
   ]
  },
  {
   "cell_type": "code",
   "execution_count": 11,
   "id": "33b3e9ee-527c-44c1-814c-a4365b4c494a",
   "metadata": {},
   "outputs": [
    {
     "name": "stdout",
     "output_type": "stream",
     "text": [
      "[0.  0.5 1.  1.5 2.  2.5 3.  3.5 4.  4.5 5.  5.5 6.  6.5 7.  7.5 8.  8.5\n",
      " 9.  9.5]\n",
      "[1.1 2.2 3.3]\n",
      "float64 float32\n",
      "[1 2 3] int64\n"
     ]
    }
   ],
   "source": [
    "arr_float=np.arange(0,10,0.5,dtype=float)\n",
    "print(arr_float)\n",
    "arr_float_1=np.array([1.1,2.2,3.3],dtype=np.float32)\n",
    "print(arr_float_1)\n",
    "print(arr_float.dtype,arr_float_1.dtype)\n",
    "arr_ints=np.array([1.04,2.12,3.12],dtype=int)\n",
    "print(arr_ints,arr_ints.dtype)"
   ]
  },
  {
   "cell_type": "markdown",
   "id": "d7e5bace-2837-48e2-9795-2d4ea4ea1168",
   "metadata": {},
   "source": [
    "3. Size"
   ]
  },
  {
   "cell_type": "code",
   "execution_count": 12,
   "id": "6271f3e5-e4ca-4e26-8a42-e87728e766c3",
   "metadata": {},
   "outputs": [
    {
     "name": "stdout",
     "output_type": "stream",
     "text": [
      "[[[0. 0. 0. 0.]\n",
      "  [0. 0. 0. 0.]\n",
      "  [0. 0. 0. 0.]]\n",
      "\n",
      " [[0. 0. 0. 0.]\n",
      "  [0. 0. 0. 0.]\n",
      "  [0. 0. 0. 0.]]] 24\n"
     ]
    }
   ],
   "source": [
    "arr_3d=np.zeros((2,3,4))\n",
    "print(arr_3d,arr_3d.size)##2*3*4=24"
   ]
  },
  {
   "cell_type": "code",
   "execution_count": 13,
   "id": "89ef0d4d-732a-4239-8197-ec78ce8afa2c",
   "metadata": {},
   "outputs": [
    {
     "name": "stdout",
     "output_type": "stream",
     "text": [
      "[[[[1. 1.]\n",
      "   [1. 1.]\n",
      "   [1. 1.]\n",
      "   [1. 1.]]\n",
      "\n",
      "  [[1. 1.]\n",
      "   [1. 1.]\n",
      "   [1. 1.]\n",
      "   [1. 1.]]\n",
      "\n",
      "  [[1. 1.]\n",
      "   [1. 1.]\n",
      "   [1. 1.]\n",
      "   [1. 1.]]]\n",
      "\n",
      "\n",
      " [[[1. 1.]\n",
      "   [1. 1.]\n",
      "   [1. 1.]\n",
      "   [1. 1.]]\n",
      "\n",
      "  [[1. 1.]\n",
      "   [1. 1.]\n",
      "   [1. 1.]\n",
      "   [1. 1.]]\n",
      "\n",
      "  [[1. 1.]\n",
      "   [1. 1.]\n",
      "   [1. 1.]\n",
      "   [1. 1.]]]] 48 (2, 3, 4, 2) float64\n"
     ]
    }
   ],
   "source": [
    "arr_4d=np.ones((2,3,4,2))\n",
    "print(arr_4d,arr_4d.size,arr_4d.shape,arr_4d.dtype)#2*3*4*2=48"
   ]
  },
  {
   "cell_type": "markdown",
   "id": "38c8efbb-3bce-4af9-927d-1ddc4b425d30",
   "metadata": {},
   "source": [
    "5.Itemsize"
   ]
  },
  {
   "cell_type": "code",
   "execution_count": 14,
   "id": "0c4c7d47-4bae-4dbc-afac-8e43578d02e0",
   "metadata": {},
   "outputs": [
    {
     "name": "stdout",
     "output_type": "stream",
     "text": [
      "int64\n",
      "size of each element:  8\n"
     ]
    }
   ],
   "source": [
    "arr_int=np.array([1,2,3])\n",
    "print(arr_int.dtype)\n",
    "##print the item size\n",
    "print(\"size of each element: \",arr_int.itemsize)#output : 8 (for 64-bit integer)"
   ]
  },
  {
   "cell_type": "markdown",
   "id": "49389121-87a6-4f94-b1d2-281e8c4ce6b4",
   "metadata": {},
   "source": [
    "6. Precision"
   ]
  },
  {
   "cell_type": "code",
   "execution_count": 15,
   "id": "f4d3ec70-4229-417f-8a43-51a7da14c742",
   "metadata": {},
   "outputs": [
    {
     "name": "stdout",
     "output_type": "stream",
     "text": [
      "memory usage for 32 type:  12 bytes\n",
      "memory usage for 64 type:  24 bytes\n"
     ]
    }
   ],
   "source": [
    "arr_int32=np.array([1234567890,1234567890],dtype=np.int32)\n",
    "arr_int64=np.array([1234567890,1234567890],dtype=np.int64)\n",
    "print(\"memory usage for 32 type: \",arr_int32.itemsize*arr_int.size,\"bytes\")\n",
    "print(\"memory usage for 64 type: \",arr_int64.itemsize*arr_int.size,\"bytes\")"
   ]
  },
  {
   "cell_type": "markdown",
   "id": "ab20bfdc-2305-4d55-86bb-01af7a65e571",
   "metadata": {},
   "source": [
    "7. Zeros, ones, full"
   ]
  },
  {
   "cell_type": "code",
   "execution_count": 16,
   "id": "8d332091-a730-43ef-9d9c-fa2389e395cd",
   "metadata": {},
   "outputs": [
    {
     "name": "stdout",
     "output_type": "stream",
     "text": [
      "[[0 0 0]\n",
      " [0 0 0]]\n"
     ]
    }
   ],
   "source": [
    "arr_zeros=np.zeros([2,3], dtype=np.int64) #default if float64\n",
    "print(arr_zeros)"
   ]
  },
  {
   "cell_type": "code",
   "execution_count": 17,
   "id": "0a09bd64-cfd4-4ae1-a2be-e743b09e22be",
   "metadata": {},
   "outputs": [
    {
     "name": "stdout",
     "output_type": "stream",
     "text": [
      "[[1. 1. 1.]\n",
      " [1. 1. 1.]]\n"
     ]
    }
   ],
   "source": [
    "arr_zeros=np.ones([2,3],dtype=np.float64)\n",
    "print(arr_zeros)"
   ]
  },
  {
   "cell_type": "code",
   "execution_count": 18,
   "id": "284c37f3-efe5-472f-b8a4-03102253e5ed",
   "metadata": {},
   "outputs": [],
   "source": [
    "#np.full create an array filled with a speified constant value , \n",
    "#it takes the shape of desired array and the constant value as input and\n",
    "#return an array of that shape filled with the specified value"
   ]
  },
  {
   "cell_type": "code",
   "execution_count": 19,
   "id": "218fb76e-ed09-489c-b7fe-8f5154bfbd1b",
   "metadata": {},
   "outputs": [
    {
     "name": "stdout",
     "output_type": "stream",
     "text": [
      "[[5. 5. 5.]\n",
      " [5. 5. 5.]]\n"
     ]
    }
   ],
   "source": [
    "arr_const=np.full((2,3),5,dtype=np.float32)\n",
    "print(arr_const)"
   ]
  },
  {
   "cell_type": "code",
   "execution_count": 20,
   "id": "a523ea41-b5f7-4d95-92ba-9d19562f20d1",
   "metadata": {},
   "outputs": [
    {
     "name": "stdout",
     "output_type": "stream",
     "text": [
      "[[[1.23 1.23 1.23 1.23]\n",
      "  [1.23 1.23 1.23 1.23]\n",
      "  [1.23 1.23 1.23 1.23]]\n",
      "\n",
      " [[1.23 1.23 1.23 1.23]\n",
      "  [1.23 1.23 1.23 1.23]\n",
      "  [1.23 1.23 1.23 1.23]]]\n"
     ]
    }
   ],
   "source": [
    "arr_of_4d_const=np.full((2,3,4),1.23,dtype=np.float32)\n",
    "print(arr_of_4d_const)"
   ]
  },
  {
   "cell_type": "markdown",
   "id": "bd084321-4b40-47c3-aab3-f7fbe95f6783",
   "metadata": {},
   "source": [
    "ARRAY OPERATIONS"
   ]
  },
  {
   "cell_type": "markdown",
   "id": "9f47656d-1dce-4096-ba30-9156f12d7f63",
   "metadata": {},
   "source": [
    "1. Arithmatic Operations"
   ]
  },
  {
   "cell_type": "code",
   "execution_count": 21,
   "id": "bbaa03b6-28a8-4804-b7c1-dbf5ef772d94",
   "metadata": {},
   "outputs": [
    {
     "name": "stdout",
     "output_type": "stream",
     "text": [
      "addition:  [[5 7 9]\n",
      " [2 3 4]]\n",
      "subtraction:  [[-3. -3. -3.]\n",
      " [ 0.  1.  2.]]\n",
      "multily:  [[ 4. 10. 18.]\n",
      " [ 1.  2.  3.]]\n",
      "division:  [[0.25 0.4  0.5 ]\n",
      " [1.   2.   3.  ]]\n",
      "modulus:  [[1. 2. 3.]\n",
      " [0. 0. 0.]]\n",
      "power:  [[  1.  32. 729.]\n",
      " [  1.   2.   3.]]\n"
     ]
    }
   ],
   "source": [
    "arr_1=np.array([1,2,3],dtype=np.int64)\n",
    "arr_2=np.array([[4,5,6],[1,1,1]],dtype=np.int64)\n",
    "\n",
    "#addition\n",
    "arr_add=np.add(arr_1,arr_2,dtype=np.int32)\n",
    "print(\"addition: \",arr_add)\n",
    "\n",
    "\n",
    "#subtraction\n",
    "arr_sub=np.subtract(arr_1,arr_2,dtype=np.float64)\n",
    "print(\"subtraction: \",arr_sub)\n",
    "#multiplication\n",
    "arr_mul=np.multiply(arr_1,arr_2,dtype=np.float64)\n",
    "print(\"multily: \",arr_mul)\n",
    "\n",
    "#division\n",
    "arr_div=np.divide(arr_1,arr_2)\n",
    "print(\"division: \",arr_div)\n",
    "\n",
    "#Modulus %\n",
    "arr_mod=np.mod(arr_1,arr_2,dtype=np.float64)\n",
    "print(\"modulus: \",arr_mod)\n",
    "\n",
    "#Exponent i.e power\n",
    "arr_pow=np.power(arr_1,arr_2,dtype=np.float64)\n",
    "print(\"power: \",arr_pow)"
   ]
  },
  {
   "cell_type": "markdown",
   "id": "581cdfea-c13c-455b-9871-370e2ef54449",
   "metadata": {},
   "source": [
    "2. RELATIONAL OPERATORS"
   ]
  },
  {
   "cell_type": "code",
   "execution_count": 22,
   "id": "e333ba64-4f0a-48c3-835f-25106b529959",
   "metadata": {},
   "outputs": [
    {
     "name": "stdout",
     "output_type": "stream",
     "text": [
      "Equal:  [False False  True  True]\n",
      "Not equal:  [ True  True False False]\n",
      "Greater than [False False False False]\n",
      "Less than:  [ True  True False False]\n",
      "greater than or equal:  [False False  True  True]\n",
      "less than or equal :  [ True  True  True  True]\n"
     ]
    }
   ],
   "source": [
    "arr_1=np.array([1,2,3,4])\n",
    "arr_2=np.array([2,3,3,4])\n",
    "## equality\n",
    "print(\"Equal: \",arr_1==arr_2)#element by elelmenvt comparision\n",
    "\n",
    "##not eqaul\n",
    "print(\"Not equal: \",arr_1!=arr_2)#element by element comparision\n",
    "\n",
    "## greater than\n",
    "print(\"Greater than\",arr_1>arr_2)##element by element comparision\n",
    "\n",
    "##less than\n",
    "print(\"Less than: \",arr_1<arr_2)##element by elementcomparision\n",
    "\n",
    "##greater than equal to \n",
    "print(\"greater than or equal: \",arr_1>=arr_2) #element by element comparision\n",
    "\n",
    "##less that or equal\n",
    "print(\"less than or equal : \",arr_1<=arr_2) #element by elemnt comaparision"
   ]
  },
  {
   "cell_type": "markdown",
   "id": "e031741e-2b25-434e-9f2a-0e7e13282b0e",
   "metadata": {},
   "source": [
    "Indexing and slicing 1D Arrays"
   ]
  },
  {
   "cell_type": "markdown",
   "id": "c3fba4ce-ec5c-4b64-a966-80ecf0ded8b2",
   "metadata": {},
   "source": [
    "1. INDEXING"
   ]
  },
  {
   "cell_type": "code",
   "execution_count": 23,
   "id": "8613a0c9-8e07-4ec8-a4f4-650ec4224a75",
   "metadata": {},
   "outputs": [
    {
     "name": "stdout",
     "output_type": "stream",
     "text": [
      "2\n",
      "[4 5 6]\n"
     ]
    }
   ],
   "source": [
    "arr_1d=np.array([[1,2,3],[4,5,6]])\n",
    "print(arr_1d[0][1])\n",
    "print(arr_1d[1])\n"
   ]
  },
  {
   "cell_type": "markdown",
   "id": "8eba1297-53dd-45f1-95ae-c439dc826c11",
   "metadata": {},
   "source": [
    "2. SLICING"
   ]
  },
  {
   "cell_type": "code",
   "execution_count": 24,
   "id": "5b89707f-1880-4bea-9061-8ee858b0bcb9",
   "metadata": {},
   "outputs": [
    {
     "name": "stdout",
     "output_type": "stream",
     "text": [
      "Slice:  [2 4 6]\n",
      "with step size:  [0 0]\n"
     ]
    }
   ],
   "source": [
    "arr_1d=np.array([[1,2,3,4,5,6,7,8,9],[0,0,0,0,0,0,0,0,0],[1,1,1,1,1,1,1,1,1]],dtype=np.int64)\n",
    "print(\"Slice: \",arr_1d[0][1:6:2])\n",
    "print(\"with step size: \",arr_1d[1][0:4:2])"
   ]
  },
  {
   "cell_type": "markdown",
   "id": "5d179b61-3348-4d56-a21d-b0d38e38b850",
   "metadata": {},
   "source": [
    "3. Negative Indexing"
   ]
  },
  {
   "cell_type": "code",
   "execution_count": 25,
   "id": "d94ad859-0fd7-4811-88b5-309fe5a444c4",
   "metadata": {},
   "outputs": [
    {
     "name": "stdout",
     "output_type": "stream",
     "text": [
      "3\n"
     ]
    }
   ],
   "source": [
    "arr_neg=np.array([1,2,3],dtype=np.int64)\n",
    "print(arr_neg[-1])"
   ]
  },
  {
   "cell_type": "markdown",
   "id": "87cfb384-eb5f-4451-a639-7c464d27b88b",
   "metadata": {},
   "source": [
    "4. Slicing with Omitted Indices"
   ]
  },
  {
   "cell_type": "code",
   "execution_count": 26,
   "id": "c488f593-61c2-4676-abbc-4d2dac900413",
   "metadata": {},
   "outputs": [
    {
     "name": "stdout",
     "output_type": "stream",
     "text": [
      "[1 4 7]\n",
      "[3 5 7 9]\n",
      "[1 3 5 7 9]\n"
     ]
    }
   ],
   "source": [
    "arr_1=np.array([1,2,3,4,5,6,7,8,9],dtype=np.int64)\n",
    "print(arr_1[::3])\n",
    "print(arr_1[2::2])\n",
    "print(arr_1[::2])#considers whole array"
   ]
  },
  {
   "cell_type": "markdown",
   "id": "afec9edc-f944-415b-b727-85c3c3b09aa4",
   "metadata": {},
   "source": [
    "INDEXING AND SLICING 2D ARRAY"
   ]
  },
  {
   "cell_type": "code",
   "execution_count": 27,
   "id": "9192eb8f-3a7b-4020-a28e-84ae6e3a3a07",
   "metadata": {},
   "outputs": [
    {
     "name": "stdout",
     "output_type": "stream",
     "text": [
      "1\n",
      "6\n"
     ]
    }
   ],
   "source": [
    "arr_2d=np.array([[1,2,3],[4,5,6],[7,8,9]])\n",
    "print(arr_2d[0,0])\n",
    "print(arr_2d[1,2])"
   ]
  },
  {
   "cell_type": "code",
   "execution_count": 28,
   "id": "9194f190-36e4-4eb5-b275-153e6f5a629b",
   "metadata": {},
   "outputs": [],
   "source": [
    "##slicing"
   ]
  },
  {
   "cell_type": "code",
   "execution_count": 29,
   "id": "7ad3ed36-c38e-4eb5-8e73-741eafa98f82",
   "metadata": {},
   "outputs": [
    {
     "name": "stdout",
     "output_type": "stream",
     "text": [
      "[[1 2]\n",
      " [4 5]]\n"
     ]
    }
   ],
   "source": [
    "print(arr_2d[0:2,0:2])"
   ]
  },
  {
   "cell_type": "code",
   "execution_count": 30,
   "id": "edd63db6-8d82-4328-8253-da6565ae1162",
   "metadata": {},
   "outputs": [
    {
     "name": "stdout",
     "output_type": "stream",
     "text": [
      "[[10 20  3]\n",
      " [30 40  6]\n",
      " [ 7  8  9]]\n"
     ]
    }
   ],
   "source": [
    "#modify slice\n",
    "arr_2d[0:2,0:2]=[[10,20],[30,40]]\n",
    "print(arr_2d)"
   ]
  },
  {
   "cell_type": "code",
   "execution_count": 31,
   "id": "a680b0ca-4359-4ac8-ad9b-83ba361769dd",
   "metadata": {},
   "outputs": [],
   "source": [
    "#negative indexes"
   ]
  },
  {
   "cell_type": "code",
   "execution_count": 32,
   "id": "583de004-a906-4e9f-8b26-d87fe88d7910",
   "metadata": {},
   "outputs": [
    {
     "name": "stdout",
     "output_type": "stream",
     "text": [
      "[[ 9  8  7]\n",
      " [ 6 40 30]\n",
      " [ 3 20 10]]\n",
      "9\n",
      "8\n"
     ]
    }
   ],
   "source": [
    "print(arr_2d[::-1,::-1])###reverse of 2d array\n",
    "print(arr_2d[-1, -1])##accesing last element[row, column]\n",
    "print(arr_2d[-1,-2])"
   ]
  },
  {
   "cell_type": "code",
   "execution_count": 33,
   "id": "7a1f1725-3d0c-44d1-9cce-8f9270d2684a",
   "metadata": {},
   "outputs": [
    {
     "name": "stdout",
     "output_type": "stream",
     "text": [
      "[[4 5 6]\n",
      " [7 8 9]]\n",
      "[[1]\n",
      " [4]\n",
      " [7]]\n"
     ]
    }
   ],
   "source": [
    "#slicing with omitted indices\n",
    "arr=np.array([[1,2,3],[4,5,6],[7,8,9]])\n",
    "print(arr[1::])\n",
    "print(arr[:,0:2:2])"
   ]
  },
  {
   "cell_type": "markdown",
   "id": "f4b94aa0-4837-4dd2-8234-8763bbebc103",
   "metadata": {},
   "source": [
    "Mass Level indexing and slicing"
   ]
  },
  {
   "cell_type": "code",
   "execution_count": 34,
   "id": "20ea6761-035f-4863-87db-a208e79ad4cd",
   "metadata": {},
   "outputs": [
    {
     "name": "stdout",
     "output_type": "stream",
     "text": [
      "[False False  True  True  True]\n"
     ]
    }
   ],
   "source": [
    "arr_m=np.array([1,2,3,4,5])\n",
    "print(arr_m>2)"
   ]
  },
  {
   "cell_type": "code",
   "execution_count": 35,
   "id": "6cd97a13-8b00-489b-a0c0-8c6ee5094c2f",
   "metadata": {},
   "outputs": [
    {
     "name": "stdout",
     "output_type": "stream",
     "text": [
      "[[False  True  True]\n",
      " [ True  True  True]]\n"
     ]
    }
   ],
   "source": [
    "arr_2m=np.array([[1,2,3],[4,5,6]])\n",
    "print(arr_2m>=2)"
   ]
  },
  {
   "cell_type": "code",
   "execution_count": 36,
   "id": "c9237a20-89d4-4276-8b88-a0ca2d47347a",
   "metadata": {},
   "outputs": [
    {
     "name": "stdout",
     "output_type": "stream",
     "text": [
      "[1 3 5]\n"
     ]
    }
   ],
   "source": [
    "arr_1d=np.array([1,2,3,4,5,6])\n",
    "print(arr_1d[[0,2,4]])"
   ]
  },
  {
   "cell_type": "code",
   "execution_count": 42,
   "id": "36f216fe-22a5-40fc-b550-aae3317c4628",
   "metadata": {},
   "outputs": [
    {
     "name": "stdout",
     "output_type": "stream",
     "text": [
      "[[1 2 3]\n",
      " [4 5 6]]\n"
     ]
    }
   ],
   "source": [
    "arr_2d=np.array([[1,2,3,],[4,5,6]])\n",
    "print(arr_2d[[0,1]])"
   ]
  },
  {
   "cell_type": "code",
   "execution_count": 59,
   "id": "1bae627a-f3d3-4d8d-99ac-fe653dba3259",
   "metadata": {},
   "outputs": [
    {
     "name": "stdout",
     "output_type": "stream",
     "text": [
      "[[1 2 3]\n",
      " [4 5 6]]\n",
      "[[1 4]\n",
      " [2 5]\n",
      " [3 6]]\n"
     ]
    }
   ],
   "source": [
    "#Transpose of a matrix\n",
    "arr_2d=np.array([[1,2,3],[4,5,6]])\n",
    "arr_transpose=arr_2d.T\n",
    "print(arr_2d)\n",
    "print(arr_transpose)"
   ]
  },
  {
   "cell_type": "code",
   "execution_count": 47,
   "id": "048c887c-a31f-4156-8870-98a184bc2aa3",
   "metadata": {},
   "outputs": [],
   "source": [
    "#swaping"
   ]
  },
  {
   "cell_type": "code",
   "execution_count": 60,
   "id": "e178e308-e036-4cc3-8275-3b58c5893550",
   "metadata": {},
   "outputs": [
    {
     "name": "stdout",
     "output_type": "stream",
     "text": [
      "[[1 4]\n",
      " [2 5]\n",
      " [3 6]]\n"
     ]
    }
   ],
   "source": [
    "print(arr_2d.swapaxes(0,1))"
   ]
  },
  {
   "cell_type": "code",
   "execution_count": 69,
   "id": "85a7ebb3-6612-4a60-a85e-4242de864e59",
   "metadata": {},
   "outputs": [
    {
     "name": "stdout",
     "output_type": "stream",
     "text": [
      "(2, 3, 4)\n",
      "(3, 2, 4)\n",
      "[[[ 1  2  3  0]\n",
      "  [10 11 12  3]]\n",
      "\n",
      " [[ 4  5  6  1]\n",
      "  [13 14 15  4]]\n",
      "\n",
      " [[ 7  8  9  2]\n",
      "  [16 17 18  5]]]\n"
     ]
    }
   ],
   "source": [
    "arr_3d=np.array([[[1,2,3,0],[4,5,6,1],[7,8,9,2]],[[10,11,12,3],[13,14,15,4],[16,17,18,5]]])\n",
    "print(arr_3d.shape)\n",
    "swapped_arr_3d=np.swapaxes(arr_3d,0,1)\n",
    "print(swapped_arr_3d.shape)\n",
    "print(swapped_arr_3d)"
   ]
  },
  {
   "cell_type": "code",
   "execution_count": 70,
   "id": "c5938bd7-79f3-4b52-adaa-1c37951e9a24",
   "metadata": {},
   "outputs": [],
   "source": [
    "#random generators"
   ]
  },
  {
   "cell_type": "code",
   "execution_count": 72,
   "id": "9565cb1c-cbdd-4979-8260-ae5eb0afb508",
   "metadata": {},
   "outputs": [
    {
     "name": "stdout",
     "output_type": "stream",
     "text": [
      "[1 5 8 2 9]\n"
     ]
    }
   ],
   "source": [
    "random_integers=np.random.randint(1,10,size=5)\n",
    "print(random_integers)"
   ]
  },
  {
   "cell_type": "code",
   "execution_count": 89,
   "id": "89076b54-69d0-4b6a-805f-3c7acdd4eb03",
   "metadata": {},
   "outputs": [
    {
     "name": "stdout",
     "output_type": "stream",
     "text": [
      "[[[ 8.83021004 13.02258208 11.34422559]\n",
      "  [10.74057801 11.76004139  9.36808974]]\n",
      "\n",
      " [[ 3.31706119  7.15159974 15.81895904]\n",
      "  [11.44843073 12.40128606 14.50928478]]]\n"
     ]
    }
   ],
   "source": [
    "random_normal=np.random.normal(10,3,size=(2,2,3))#two2d array\n",
    "print(random_normal)"
   ]
  },
  {
   "cell_type": "code",
   "execution_count": 95,
   "id": "47a7e694-e89a-4789-bb0f-6afabb1cdc70",
   "metadata": {},
   "outputs": [
    {
     "name": "stdout",
     "output_type": "stream",
     "text": [
      "(2, 3)\n",
      "(3, 2) 6\n",
      "[[ -1 -10]\n",
      " [ 11  -7]]\n"
     ]
    }
   ],
   "source": [
    "#Matrix multiplication:\n",
    "arr_1=np.array([[1,2,3],[4,5,6]])\n",
    "print(arr_1.shape)\n",
    "arr_2=np.array([[7,8],[-1,-3],[-2,-4]])\n",
    "print(arr_2.shape,arr_2.size)\n",
    "arr_3=np.matmul(arr_1,arr_2)\n",
    "print(arr_3)"
   ]
  },
  {
   "cell_type": "code",
   "execution_count": 98,
   "id": "9c09c51e-5401-4114-8897-80dfd9c598b9",
   "metadata": {},
   "outputs": [
    {
     "name": "stdout",
     "output_type": "stream",
     "text": [
      "[1 2 3 4 5 6 7 8 9]\n",
      "[[1 2 3]\n",
      " [4 5 6]\n",
      " [7 8 9]]\n"
     ]
    },
    {
     "ename": "ValueError",
     "evalue": "cannot reshape array of size 9 into shape (3,2)",
     "output_type": "error",
     "traceback": [
      "\u001b[1;31m---------------------------------------------------------------------------\u001b[0m",
      "\u001b[1;31mValueError\u001b[0m                                Traceback (most recent call last)",
      "Cell \u001b[1;32mIn[98], line 6\u001b[0m\n\u001b[0;32m      4\u001b[0m reshape_arr\u001b[38;5;241m=\u001b[39marr\u001b[38;5;241m.\u001b[39mreshape(\u001b[38;5;241m3\u001b[39m,\u001b[38;5;241m3\u001b[39m)\n\u001b[0;32m      5\u001b[0m \u001b[38;5;28mprint\u001b[39m(reshape_arr)\n\u001b[1;32m----> 6\u001b[0m reshape_arr\u001b[38;5;241m=\u001b[39marr\u001b[38;5;241m.\u001b[39mreshape(\u001b[38;5;241m3\u001b[39m,\u001b[38;5;241m2\u001b[39m)\n\u001b[0;32m      7\u001b[0m \u001b[38;5;28mprint\u001b[39m(reshape_arr)\n",
      "\u001b[1;31mValueError\u001b[0m: cannot reshape array of size 9 into shape (3,2)"
     ]
    }
   ],
   "source": [
    "#reshape of a matrix\n",
    "arr=np.arange(1,10)\n",
    "print(arr)\n",
    "reshape_arr=arr.reshape(3,3)\n",
    "print(reshape_arr)\n",
    "reshape_arr=arr.reshape(3,2)\n",
    "print(reshape_arr)"
   ]
  },
  {
   "cell_type": "code",
   "execution_count": 102,
   "id": "61883bb0-4ee5-4425-881c-be3aad25081f",
   "metadata": {},
   "outputs": [
    {
     "name": "stdout",
     "output_type": "stream",
     "text": [
      "[[1 4]\n",
      " [2 5]\n",
      " [3 6]]\n",
      "[[1 4]\n",
      " [2 5]\n",
      " [3 6]]\n"
     ]
    }
   ],
   "source": [
    "###Transpose of matrix\n",
    "arr=np.array([[1,2,3],[4,5,6]])\n",
    "transpose_arr=arr.T\n",
    "print(transpose_arr)\n",
    "transpose_1=np.transpose(arr)\n",
    "print(transpose_1)"
   ]
  },
  {
   "cell_type": "code",
   "execution_count": 103,
   "id": "8d74e789-27dc-41b8-9f54-02e2e6f972a7",
   "metadata": {},
   "outputs": [],
   "source": [
    "#Aggregate Functions"
   ]
  },
  {
   "cell_type": "code",
   "execution_count": 104,
   "id": "545fa478-de2c-49ca-9861-b5531919373b",
   "metadata": {},
   "outputs": [
    {
     "name": "stdout",
     "output_type": "stream",
     "text": [
      "sum of all elements:  23\n",
      "maximum element:  6\n",
      "minimum element:  1\n",
      "mean of all elements:  3.8333333333333335\n"
     ]
    }
   ],
   "source": [
    "matrix=np.array([[1,2,3],[6,5,6]])\n",
    "print(\"sum of all elements: \",np.sum(matrix))\n",
    "print(\"maximum element: \",np.max(matrix))\n",
    "print(\"minimum element: \",np.min(matrix))\n",
    "print(\"mean of all elements: \",np.mean(matrix))"
   ]
  },
  {
   "cell_type": "code",
   "execution_count": 105,
   "id": "fdb91baa-fc3f-4533-9d4d-62eef2621761",
   "metadata": {},
   "outputs": [],
   "source": [
    "#universal functions"
   ]
  },
  {
   "cell_type": "code",
   "execution_count": 109,
   "id": "acc1895c-b1ff-4c61-a9c7-48a91fd24494",
   "metadata": {},
   "outputs": [
    {
     "name": "stdout",
     "output_type": "stream",
     "text": [
      "[0.         1.04719755 1.57079633 0.78539816]\n",
      "[0.         0.8660254  1.         0.70710678]\n",
      "[1.00000000e+00 5.00000000e-01 6.12323400e-17 7.07106781e-01]\n"
     ]
    }
   ],
   "source": [
    "#trigonometric functions\n",
    "angles=np.array([0,np.pi/3,np.pi/2,np.pi/4])\n",
    "print(angles)\n",
    "result_sin=np.sin(angles)\n",
    "print(result_sin)\n",
    "result_cos=np.cos(angles)\n",
    "print(result_cos)"
   ]
  },
  {
   "cell_type": "code",
   "execution_count": 110,
   "id": "15f7e78a-630e-433d-b139-480d42c1ded6",
   "metadata": {},
   "outputs": [],
   "source": [
    "#exponential and logorithmic"
   ]
  },
  {
   "cell_type": "code",
   "execution_count": 114,
   "id": "b03041a5-8902-4343-84c8-2d496597c7e1",
   "metadata": {},
   "outputs": [
    {
     "name": "stdout",
     "output_type": "stream",
     "text": [
      "[1.         2.84965391 4.81047738 2.19328005]\n",
      "[[0.         0.69314718 1.09861229]\n",
      " [1.38629436 1.60943791 1.79175947]]\n"
     ]
    }
   ],
   "source": [
    "result_exp=np.exp(angles)\n",
    "print(result_exp)\n",
    "result_logs=np.log(arr)\n",
    "print(result_logs)"
   ]
  },
  {
   "cell_type": "code",
   "execution_count": 115,
   "id": "5c986078-67cd-475e-b530-7abf883a2026",
   "metadata": {},
   "outputs": [],
   "source": [
    "##statistical functions"
   ]
  },
  {
   "cell_type": "code",
   "execution_count": 117,
   "id": "cc8f1573-120c-4919-a8b8-a54f643f276f",
   "metadata": {},
   "outputs": [
    {
     "name": "stdout",
     "output_type": "stream",
     "text": [
      "3.0\n",
      "3.0\n",
      "1.707825127659933\n"
     ]
    }
   ],
   "source": [
    "arr_2d=np.array([[1,2,3,4],[2,3,4,5]])\n",
    "result_mean=np.mean(arr_2d)\n",
    "print(result_mean)\n",
    "result_median=np.median(arr_2d)\n",
    "print(result_median)\n",
    "result_std=np.std(arr)\n",
    "print(result_std)"
   ]
  },
  {
   "cell_type": "code",
   "execution_count": 118,
   "id": "c8a05a2e-e089-4c39-90b2-2cf1fdf96266",
   "metadata": {},
   "outputs": [],
   "source": [
    "#Comparision Functions"
   ]
  },
  {
   "cell_type": "code",
   "execution_count": 123,
   "id": "9eee2423-26a1-45b7-9954-8f62f7e503d8",
   "metadata": {},
   "outputs": [
    {
     "name": "stdout",
     "output_type": "stream",
     "text": [
      "[False False False False  True]\n",
      "[ True  True  True  True False]\n"
     ]
    }
   ],
   "source": [
    "arr1=np.array([1,2,3,4,5])\n",
    "arr2=np.array([2,3,3,4,4])\n",
    "#greater than\n",
    "result_gt =np.greater(arr1,arr2)\n",
    "print(result_gt)\n",
    "result_less=np.less_equal(arr1,arr2)\n",
    "print(result_less)"
   ]
  },
  {
   "cell_type": "code",
   "execution_count": 124,
   "id": "38aeb152-1eff-42a8-95a2-6a89814b4ff5",
   "metadata": {},
   "outputs": [],
   "source": [
    "#Broadcasting"
   ]
  },
  {
   "cell_type": "code",
   "execution_count": 131,
   "id": "ffec37b2-c077-4bcb-9b37-c4248f53973c",
   "metadata": {},
   "outputs": [
    {
     "name": "stdout",
     "output_type": "stream",
     "text": [
      "[1 2 3 4 5 6 7 8 9]\n"
     ]
    }
   ],
   "source": [
    "arr=np.arange(1,10)\n",
    "print(arr)"
   ]
  },
  {
   "cell_type": "code",
   "execution_count": 132,
   "id": "7ff8a84a-82d5-474c-b8ac-a3788e65e17d",
   "metadata": {},
   "outputs": [
    {
     "data": {
      "text/plain": [
       "array([ 3,  4,  5,  6,  7,  8,  9, 10, 11])"
      ]
     },
     "execution_count": 132,
     "metadata": {},
     "output_type": "execute_result"
    }
   ],
   "source": [
    "arr=arr+2\n",
    "arr"
   ]
  },
  {
   "cell_type": "code",
   "execution_count": 136,
   "id": "f9cc8b43-718f-43d5-8cf9-3f06ed712a8a",
   "metadata": {},
   "outputs": [
    {
     "name": "stdout",
     "output_type": "stream",
     "text": [
      "[[ 3  4  5  6  7]\n",
      " [ 8  9 10 11  3]]\n"
     ]
    }
   ],
   "source": [
    "a=np.resize(arr,(2,5))\n",
    "print(a)"
   ]
  },
  {
   "cell_type": "code",
   "execution_count": 140,
   "id": "01263252-e4fd-4ee9-a12d-379ed6e03a7c",
   "metadata": {},
   "outputs": [
    {
     "name": "stdout",
     "output_type": "stream",
     "text": [
      "raveled:  [[100   2]\n",
      " [  3   4]] b:  [100   2   3   4]\n",
      "flatten:  [[100   2]\n",
      " [  3   4]] c:  [100 200   3   4]\n",
      "[100 200   3   4]\n"
     ]
    }
   ],
   "source": [
    "#ravel and flattened\n",
    "a=np.array([[1,2],[3,4]])\n",
    "\n",
    "##ravel changes the original one\n",
    "## flattened created a new one and modifies new one\n",
    "b=a.ravel()\n",
    "b[0]=100\n",
    "print(\"raveled: \",a,\"b: \",b)\n",
    "\n",
    "\n",
    "c=a.flatten()\n",
    "c[1]=200\n",
    "print(\"flatten: \",a,\"c: \",c)\n",
    "\n",
    "print(c.squeeze())\n"
   ]
  },
  {
   "cell_type": "code",
   "execution_count": 141,
   "id": "29079d2a-296e-49fd-a18a-3b08198d1920",
   "metadata": {},
   "outputs": [],
   "source": [
    "##splitting and joining"
   ]
  },
  {
   "cell_type": "code",
   "execution_count": 145,
   "id": "bd65188e-5870-4fa7-af43-8eb696bb4d00",
   "metadata": {},
   "outputs": [
    {
     "name": "stdout",
     "output_type": "stream",
     "text": [
      "[array([0, 1, 2]), array([3, 4, 5]), array([6, 7, 8])]\n",
      "[array([0, 1, 2]), array([3, 4]), array([5, 6]), array([7, 8])]\n",
      "[array([[1],\n",
      "       [4]]), array([[2],\n",
      "       [5]]), array([[3],\n",
      "       [6]])]\n",
      "[array([[1, 2, 3]]), array([[4, 5, 6]])]\n"
     ]
    }
   ],
   "source": [
    "#np.split splits into multiple arrays\n",
    "x=np.arange(9)\n",
    "x_split=np.split(x,3)##equal arrays\n",
    "print(x_split)\n",
    "x_array_split=np.array_split(x,4)###unequal subarray\n",
    "print(x_array_split)\n",
    "\n",
    "\n",
    "y=np.array([[1,2,3],[4,5,6]])\n",
    "\n",
    "###horizontal split\n",
    "h_split=np.hsplit(y,3)\n",
    "print(h_split)\n",
    "v_split=np.vsplit(y,2)\n",
    "print(v_split)"
   ]
  },
  {
   "cell_type": "code",
   "execution_count": 150,
   "id": "fcf4f6dd-88ca-49a7-9577-5a9da6fa0df2",
   "metadata": {},
   "outputs": [
    {
     "name": "stdout",
     "output_type": "stream",
     "text": [
      "[0 1 2 3 4 5 6 7 8 0 1 2 3 4 5 6 7 8]\n",
      "horizontally stacked:  [0 1 2 3 4 5]\n",
      "verticallly stacked:  [[0 1 2]\n",
      " [3 4 5]]\n"
     ]
    }
   ],
   "source": [
    "##concatenate\n",
    "arr_3=np.concatenate((x,x))\n",
    "print(arr_3)\n",
    "a=np.arange(0,3,1)\n",
    "b=np.arange(3,6,1)\n",
    "print(\"horizontally stacked: \",np.hstack((a,b)))\n",
    "print(\"verticallly stacked: \",np.vstack((a,b)))"
   ]
  },
  {
   "cell_type": "code",
   "execution_count": 151,
   "id": "36e516ac-38dc-43fb-9a17-8339e25aaab5",
   "metadata": {},
   "outputs": [
    {
     "name": "stdout",
     "output_type": "stream",
     "text": [
      "[1 2 7 8]\n",
      "[ 1  9 10  2]\n",
      "[1]\n"
     ]
    }
   ],
   "source": [
    "##adding and removing elements\n",
    "a=np.array([[1,2]])\n",
    "\n",
    "##adding\n",
    "appended =np.append(a,[7,8])\n",
    "print(appended)\n",
    "inserted=np.insert(a,1,[9,10])\n",
    "print(inserted)\n",
    "deleted=np.delete(a,1)#delete(a,[0,3],axis=0) delete multiplt indices, 0-->horixontal,1-->vertical\n",
    "print(deleted)"
   ]
  },
  {
   "cell_type": "code",
   "execution_count": null,
   "id": "f44d9918-6119-4fac-992a-c893591f611e",
   "metadata": {},
   "outputs": [],
   "source": []
  }
 ],
 "metadata": {
  "kernelspec": {
   "display_name": "Python 3 (ipykernel)",
   "language": "python",
   "name": "python3"
  },
  "language_info": {
   "codemirror_mode": {
    "name": "ipython",
    "version": 3
   },
   "file_extension": ".py",
   "mimetype": "text/x-python",
   "name": "python",
   "nbconvert_exporter": "python",
   "pygments_lexer": "ipython3",
   "version": "3.12.4"
  }
 },
 "nbformat": 4,
 "nbformat_minor": 5
}
