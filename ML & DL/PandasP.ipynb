{
 "cells": [
  {
   "cell_type": "code",
   "execution_count": 5,
   "id": "8b878d49-097a-4b7d-bd30-5f20aca64aa6",
   "metadata": {},
   "outputs": [],
   "source": [
    "import pandas as pd\n",
    "import numpy as np"
   ]
  },
  {
   "cell_type": "markdown",
   "id": "53602448-67b5-446b-9cae-8328c58e32fa",
   "metadata": {},
   "source": [
    "#Series Creation"
   ]
  },
  {
   "cell_type": "code",
   "execution_count": 8,
   "id": "b1ac0292-de1f-4575-9278-af92f269b7c0",
   "metadata": {},
   "outputs": [
    {
     "name": "stdout",
     "output_type": "stream",
     "text": [
      "0    1\n",
      "1    2\n",
      "2    3\n",
      "3    4\n",
      "4    5\n",
      "dtype: int64\n"
     ]
    }
   ],
   "source": [
    "s=pd.Series([1,2,3,4,5])\n",
    "print(s)"
   ]
  },
  {
   "cell_type": "code",
   "execution_count": 10,
   "id": "5dec4d95-19d4-4d69-9789-dc82e34802f4",
   "metadata": {},
   "outputs": [
    {
     "name": "stdout",
     "output_type": "stream",
     "text": [
      "0        1\n",
      "1        2\n",
      "2        3\n",
      "3        4\n",
      "4    Apple\n",
      "dtype: object\n"
     ]
    }
   ],
   "source": [
    "# we can create diffrent dataypes then datatyps is object\n",
    "s1=pd.Series([1,2,3,4,\"Apple\"])\n",
    "print(s1)"
   ]
  },
  {
   "cell_type": "code",
   "execution_count": 12,
   "id": "8f9f0a20-cc37-4d99-b8f3-9a87c4a8609d",
   "metadata": {},
   "outputs": [
    {
     "name": "stdout",
     "output_type": "stream",
     "text": [
      "count    5.000000\n",
      "mean     3.000000\n",
      "std      1.581139\n",
      "min      1.000000\n",
      "25%      2.000000\n",
      "50%      3.000000\n",
      "75%      4.000000\n",
      "max      5.000000\n",
      "dtype: float64\n"
     ]
    }
   ],
   "source": [
    "#Descriptive statistics\n",
    "s= pd.Series([1,2,3,4,5])\n",
    "print(s.describe())"
   ]
  },
  {
   "cell_type": "markdown",
   "id": "7ed13ca4-3d17-4461-ab39-0e044c53ef10",
   "metadata": {},
   "source": [
    "#Mean, Median and Standdeviation of a series"
   ]
  },
  {
   "cell_type": "code",
   "execution_count": 22,
   "id": "c17ffaf4-2291-4b61-bdd6-be386e581d66",
   "metadata": {},
   "outputs": [
    {
     "name": "stdout",
     "output_type": "stream",
     "text": [
      "3.0\n",
      "3.0\n",
      "1.5811388300841898\n"
     ]
    }
   ],
   "source": [
    "print(s.mean())\n",
    "print(s.median())\n",
    "print(s.std())"
   ]
  },
  {
   "cell_type": "markdown",
   "id": "bb233e94-8b68-434b-b31a-d342f741fc7d",
   "metadata": {},
   "source": [
    "Min value, Max Value"
   ]
  },
  {
   "cell_type": "code",
   "execution_count": 20,
   "id": "975b2812-2a61-4373-b005-56fc3cda7501",
   "metadata": {},
   "outputs": [
    {
     "name": "stdout",
     "output_type": "stream",
     "text": [
      "1\n",
      "5\n"
     ]
    }
   ],
   "source": [
    "print(s.min())\n",
    "print(s.max())"
   ]
  },
  {
   "cell_type": "markdown",
   "id": "7a11bf6d-8553-4561-bbc9-a1fcaf9f63f7",
   "metadata": {},
   "source": [
    "Manipulation"
   ]
  },
  {
   "cell_type": "code",
   "execution_count": 27,
   "id": "f2bff200-8f52-4551-96af-00ad98850e07",
   "metadata": {},
   "outputs": [
    {
     "name": "stdout",
     "output_type": "stream",
     "text": [
      "0     2\n",
      "1     4\n",
      "2     6\n",
      "3     8\n",
      "4    10\n",
      "dtype: int64\n"
     ]
    }
   ],
   "source": [
    "doubled=s.map(lambda x:x*2)\n",
    "print(doubled)"
   ]
  },
  {
   "cell_type": "code",
   "execution_count": 29,
   "id": "8f04ec73-10a0-4087-8f75-28e48ee0b6c3",
   "metadata": {},
   "outputs": [
    {
     "name": "stdout",
     "output_type": "stream",
     "text": [
      "0    1.000000\n",
      "1    1.414214\n",
      "2    1.732051\n",
      "3    2.000000\n",
      "4    2.236068\n",
      "dtype: float64\n"
     ]
    }
   ],
   "source": [
    "sqrt=s.apply(lambda x: x**0.5)\n",
    "print(sqrt)"
   ]
  },
  {
   "cell_type": "code",
   "execution_count": 33,
   "id": "20be8d88-9b76-4cff-a627-83a57aa53a4b",
   "metadata": {},
   "outputs": [
    {
     "name": "stdout",
     "output_type": "stream",
     "text": [
      "0     1\n",
      "1     2\n",
      "3    17\n",
      "4    24\n",
      "2    44\n",
      "5    86\n",
      "dtype: int64\n"
     ]
    }
   ],
   "source": [
    "#sort series\n",
    "s=pd.Series([1,2,44,17,24,86])\n",
    "sorted_s=s.sort_values()\n",
    "print(sorted_s)"
   ]
  },
  {
   "cell_type": "markdown",
   "id": "cda429b0-8452-45a8-a34b-3f9c2c5b097a",
   "metadata": {},
   "source": [
    "#Drop"
   ]
  },
  {
   "cell_type": "code",
   "execution_count": 46,
   "id": "fac53ac6-02b2-4318-a006-49d8d8b29267",
   "metadata": {},
   "outputs": [
    {
     "name": "stdout",
     "output_type": "stream",
     "text": [
      "1     2\n",
      "2    44\n",
      "3    17\n",
      "4    24\n",
      "5    86\n",
      "dtype: int64\n"
     ]
    }
   ],
   "source": [
    "dropped = s.drop(0) # 0 means droping first row/. becuase it only contains single column\n",
    "print(dropped)"
   ]
  },
  {
   "cell_type": "code",
   "execution_count": null,
   "id": "00dfdf3e-9e93-4ed5-9e56-1434ad46eca2",
   "metadata": {},
   "outputs": [],
   "source": [
    "Handling missing"
   ]
  }
 ],
 "metadata": {
  "kernelspec": {
   "display_name": "Python 3 (ipykernel)",
   "language": "python",
   "name": "python3"
  },
  "language_info": {
   "codemirror_mode": {
    "name": "ipython",
    "version": 3
   },
   "file_extension": ".py",
   "mimetype": "text/x-python",
   "name": "python",
   "nbconvert_exporter": "python",
   "pygments_lexer": "ipython3",
   "version": "3.12.4"
  }
 },
 "nbformat": 4,
 "nbformat_minor": 5
}
