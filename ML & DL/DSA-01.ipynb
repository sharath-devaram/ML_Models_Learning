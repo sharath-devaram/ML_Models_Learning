{
 "cells": [
  {
   "cell_type": "raw",
   "id": "f5b9f7e1-a2bd-4f3d-ab63-b217efa1fdbd",
   "metadata": {},
   "source": [
    "DSA 01: Locate card: \n",
    "Problem\n",
    "This course takes a coding-focused approach towards learning. In each notebook, we'll focus on solving one problem, and learn the techniques, algorithms, and data structures to devise an efficient solution. We will then generalize the technique and apply it to other problems.\n",
    "\n",
    "In this notebook, we focus on solving the following problem:\n",
    "\n",
    "QUESTION 1: Alice has some cards with numbers written on them. She arranges the cards in decreasing order, and lays them out face down in a sequence on a table. She challenges Bob to pick out the card containing a given number by turning over as few cards as possible. Write a function to help Bob locate the card.\n",
    "\n",
    "Image\n",
    "This may seem like a simple problem, especially if you're familiar with the concept of binary search, but the strategy and technique we learning here will be widely applicable, and we'll soon use it to solve harder problems."
   ]
  },
  {
   "cell_type": "code",
   "execution_count": 6,
   "id": "ab631b90-9b4b-4f74-a8e1-bd0b1f6763b9",
   "metadata": {},
   "outputs": [
    {
     "data": {
      "text/plain": [
       "[3, 7]"
      ]
     },
     "execution_count": 6,
     "metadata": {},
     "output_type": "execute_result"
    }
   ],
   "source": [
    "def locate_cards(cards,query):\n",
    "    #print(cards, query)\n",
    "    ###this is linear search algorithm\n",
    "    if len(cards)==0:\n",
    "        return 0\n",
    "    answer=[]\n",
    "    for i in range(len(cards)):\n",
    "        if cards[i]==query:\n",
    "            answer.append(i)\n",
    "    if len(answer)>0:\n",
    "        return answer\n",
    "    else:\n",
    "        return -1\n",
    "    \n",
    "    \n",
    "\n",
    "\n",
    "\n",
    "tests={\n",
    "    'input':{\n",
    "        'cards':[13,12,10,7,4,3,0,7],\n",
    "        'query':7\n",
    "    },\n",
    "    'output':3\n",
    "}\n",
    "locate_cards(**tests['input'])"
   ]
  },
  {
   "cell_type": "code",
   "execution_count": null,
   "id": "213bb1c1-c083-4e60-946e-717410b87e85",
   "metadata": {},
   "outputs": [],
   "source": []
  },
  {
   "cell_type": "code",
   "execution_count": null,
   "id": "a2d53387-ce0f-45cd-ade4-62fe816b8167",
   "metadata": {},
   "outputs": [],
   "source": []
  },
  {
   "cell_type": "raw",
   "id": "adec96d3-49b6-4da2-a0a6-3d210e59bbfe",
   "metadata": {},
   "source": [
    "Arrays\n",
    "Type code\tC Type\tPython Type\tMinimum size in bytes\n",
    "'b'\tsigned char\tint\t1\n",
    "'B'\tunsigned char\tint\t1\n",
    "'u'\tPY-UNICODE\tUnicode character\t2\n",
    "'h'\tsigned short\tint\t2\n",
    "'H'\tunsigned short\tint\t2\n",
    "'i'\tsigned int\tint\t2\n",
    "'I'\tunsigned int\tint\t2\n",
    "'l'\tsigned long\tint\t4\n",
    "'L'\tunsigned long\tint\t4\n",
    "'q'\tsigned long long\tint\t8\n",
    "'Q'\tunsigned long long\tint\t8\n",
    "'f'\tfloat\tfloat\t4\n",
    "'d'\tdouble\tfloat\t8"
   ]
  },
  {
   "cell_type": "code",
   "execution_count": 3,
   "id": "03df26a1-6e7c-4042-9da9-8460b9544b0a",
   "metadata": {},
   "outputs": [],
   "source": [
    "import array"
   ]
  },
  {
   "cell_type": "code",
   "execution_count": 8,
   "id": "0e987a84-ed9e-4086-bdae-c2f8030ab192",
   "metadata": {},
   "outputs": [
    {
     "name": "stdout",
     "output_type": "stream",
     "text": [
      "array('i', [1, 3, 5, 7, 9])\n"
     ]
    },
    {
     "data": {
      "text/plain": [
       "'i'"
      ]
     },
     "execution_count": 8,
     "metadata": {},
     "output_type": "execute_result"
    }
   ],
   "source": [
    "# How to get the type code of an array?\n",
    "array_num = array.array('i', [1,3,5,7,9])\n",
    "print(array_num)\n",
    "array_num.typecode"
   ]
  },
  {
   "cell_type": "code",
   "execution_count": 14,
   "id": "6c681118-9249-42da-9705-04c9aae3ca68",
   "metadata": {},
   "outputs": [
    {
     "data": {
      "text/plain": [
       "4"
      ]
     },
     "execution_count": 14,
     "metadata": {},
     "output_type": "execute_result"
    }
   ],
   "source": [
    "# array.itemsize\n",
    "# The length in bytes of one array item in the internal representation.\n",
    "array_num = array.array('i', [1,3,5,7,9,10,15])\n",
    "array_num.itemsize"
   ]
  },
  {
   "cell_type": "code",
   "execution_count": 12,
   "id": "1e29f5de-c773-4ce0-93d8-c8da207bd608",
   "metadata": {},
   "outputs": [
    {
     "name": "stdout",
     "output_type": "stream",
     "text": [
      "array('i', [1, 2, 3, 4, 5, 6, 7, 8, 9, 100])\n"
     ]
    }
   ],
   "source": [
    "# array.append(x)\n",
    "# Append a new item with value x to the end of the array.\n",
    "# How to append a value to the end of an array?\n",
    "array_num=array.array('i',(1,2,3,4,5,6,7,8,9))\n",
    "array_num.append(100)\n",
    "print(array_num)"
   ]
  },
  {
   "cell_type": "code",
   "execution_count": 18,
   "id": "0ee0bf23-07c6-4f0c-9838-8575a0c44783",
   "metadata": {},
   "outputs": [
    {
     "name": "stdout",
     "output_type": "stream",
     "text": [
      "(1992844313584, 7)\n",
      "7\n"
     ]
    }
   ],
   "source": [
    "# array.buffer_info()\n",
    "# Return a tuple (address, length) giving the current memory address and the length in elements of the buffer used\n",
    "# to hold array’s contents.\n",
    "# How to get the memory address and number of elements in an array?\n",
    "array_num = array.array('i', [1,3,5,7,9,10,15])\n",
    "print(array_num.buffer_info())\n",
    "print(len(array_num))"
   ]
  },
  {
   "cell_type": "code",
   "execution_count": 20,
   "id": "01ed41b7-04d3-4226-ad9a-66df5bc60799",
   "metadata": {},
   "outputs": [
    {
     "data": {
      "text/plain": [
       "2"
      ]
     },
     "execution_count": 20,
     "metadata": {},
     "output_type": "execute_result"
    }
   ],
   "source": [
    "# array.count(x)\n",
    "# Return the number of occurrences of x in the array.\n",
    "# How to count the number of occurrences of an element in an array?\n",
    "array_num = array.array('i', [1,3,5,7,9,10,15,10])\n",
    "array_num.count(10)"
   ]
  },
  {
   "cell_type": "code",
   "execution_count": 21,
   "id": "640a89dd-638e-46e6-8ac5-2b2f08e763c8",
   "metadata": {},
   "outputs": [
    {
     "name": "stdout",
     "output_type": "stream",
     "text": [
      "Original array: array('i', [1, 3, 5, 7, 9])\n",
      "Extended array: array('i', [1, 3, 5, 7, 9, 1, 3, 5, 7, 9])\n"
     ]
    }
   ],
   "source": [
    "# array.extend(iterable)\n",
    "# Append items from iterable to the end of the array. If iterable is another array, it must have exactly the same\n",
    "# type code; if not, TypeError will be raised.\n",
    "# How to extend an array with values from a list?\n",
    "from array import *\n",
    "array_num = array('i', [1, 3, 5, 7, 9])\n",
    "print(\"Original array: \"+str(array_num))\n",
    "array_num.extend(array_num)\n",
    "print(\"Extended array: \"+str(array_num))"
   ]
  },
  {
   "cell_type": "code",
   "execution_count": 22,
   "id": "f4c092e3-2e7e-4548-85bb-2be7f848f51f",
   "metadata": {},
   "outputs": [
    {
     "name": "stdout",
     "output_type": "stream",
     "text": [
      "array('i', [1, 2, 3, 4])\n"
     ]
    }
   ],
   "source": [
    "# array.insert(i, x)\n",
    "# Insert a new item with value x in the array before position i. Negative values are treated as being relative\n",
    "# to the end of the array.\n",
    "# How to insert a value into an array?\n",
    "nums = array(\"i\", [1, 2, 4])\n",
    "nums.insert(2, 3)\n",
    "print( nums)"
   ]
  },
  {
   "cell_type": "code",
   "execution_count": 23,
   "id": "6ea011b3-a8d3-4a2c-91db-6900a52a15f6",
   "metadata": {},
   "outputs": [
    {
     "data": {
      "text/plain": [
       "9"
      ]
     },
     "execution_count": 23,
     "metadata": {},
     "output_type": "execute_result"
    }
   ],
   "source": [
    "# array.pop([i])\n",
    "# Removes the item with the index i from the array and returns it. The optional argument defaults to -1,\n",
    "# so that by default the last item is removed and returned.\n",
    "# How to pop elements off of an array?\n",
    "array_num = array('i', [1,3,5,7,9,10,15,10])\n",
    "array_num.pop(4)"
   ]
  },
  {
   "cell_type": "code",
   "execution_count": 24,
   "id": "c3658281-ec83-468a-a8a4-1a860dcfe642",
   "metadata": {},
   "outputs": [
    {
     "data": {
      "text/plain": [
       "5"
      ]
     },
     "execution_count": 24,
     "metadata": {},
     "output_type": "execute_result"
    }
   ],
   "source": [
    "# array.remove(x)\n",
    "# Remove the first occurrence of x from the array.\n",
    "# How to remove the first occurrence of an element?\n",
    "array_num = array('i', [1,3,5,7,9,10,15,10])\n",
    "array_num.pop(2)"
   ]
  },
  {
   "cell_type": "code",
   "execution_count": 26,
   "id": "32d263f6-408c-4bc0-837f-3a95748ba06a",
   "metadata": {},
   "outputs": [
    {
     "data": {
      "text/plain": [
       "array('i', [10, 15, 10, 9, 7, 5, 3, 1])"
      ]
     },
     "execution_count": 26,
     "metadata": {},
     "output_type": "execute_result"
    }
   ],
   "source": [
    "# array.reverse()\n",
    "# Reverse the order of the items in the array.\n",
    "# How to reverse the items in an array?\n",
    "array_num = array('i', [1,3,5,7,9,10,15,10])\n",
    "array_num.reverse()\n",
    "array_num"
   ]
  },
  {
   "cell_type": "raw",
   "id": "2a815a3f-f2fb-4cd8-a928-991c8e3f6b0d",
   "metadata": {},
   "source": [
    "STACK-->LIFO\n",
    "Functins of stack:\n",
    "Push()#pushes element into stack added as last item\n",
    "Pop()#removes element from last \n",
    "size()#length of stack\n",
    "top()#return top most element of stack\n",
    "empty()#return True if stack is empty\n",
    "\n",
    "\n",
    "Stack can be implemented by using list\n",
    "implementation using deque "
   ]
  },
  {
   "cell_type": "code",
   "execution_count": 27,
   "id": "f96b3266-efe4-42d9-8721-a80b6e27cb3f",
   "metadata": {},
   "outputs": [],
   "source": [
    "from collections import deque"
   ]
  },
  {
   "cell_type": "code",
   "execution_count": 34,
   "id": "3a68adf0-b25e-4780-830a-1f061fe97eda",
   "metadata": {},
   "outputs": [
    {
     "name": "stdout",
     "output_type": "stream",
     "text": [
      "deque(['hai', 1])\n",
      "deque(['hai'])\n"
     ]
    }
   ],
   "source": [
    "stack=deque()\n",
    "stack.append(\"hai\")\n",
    "stack.append(1)\n",
    "print(stack)\n",
    "stack.pop()\n",
    "print(stack)"
   ]
  },
  {
   "cell_type": "code",
   "execution_count": null,
   "id": "28e3d683-9964-4455-9c4e-1e034fb4d6f2",
   "metadata": {},
   "outputs": [],
   "source": [
    "#implementatios using que module\n",
    "#get() #used to remove the element from the queue\n",
    "#maxsize() #used to put maximum number of items in queue\n",
    "#empty() #returns true if queue is empty\n",
    "#put(x) #append element at last\n",
    "#qsize() #size of a queue\n",
    "from queue import LifoQueue\n",
    "stack=LifoQueue(maxsize=3)\n",
    "stack.put(2)\n",
    "stack .put(\"hai..\")\n",
    "stack.put(5)\n",
    "print(stack)\n",
    "print(stack.qsize())\n",
    "print(stack.get())\n",
    "print(stack)\n",
    "stack.put(\"hh\")\n",
    "print(stack.full())\n",
    "stack.put(44)\n",
    "print(stack)\n"
   ]
  },
  {
   "cell_type": "raw",
   "id": "1198501b-7dcc-45f4-8d56-24edb672e2b4",
   "metadata": {},
   "source": [
    "#queue-->FIFO\n",
    "methods\n",
    "enqueue() #used to insert a element at top\n",
    "dequeue() #used to remove element from top\n",
    "peekfirst() # used to get the first element from queue\n",
    "peeklast() #used to get he last element from queue\n",
    "All operations works on O(1)"
   ]
  },
  {
   "cell_type": "code",
   "execution_count": 1,
   "id": "906cb637-ff1b-4637-9d4f-602e94ac1663",
   "metadata": {},
   "outputs": [
    {
     "name": "stdout",
     "output_type": "stream",
     "text": [
      "[1, 2, 3]\n",
      "[2, 3]\n"
     ]
    }
   ],
   "source": [
    "class Queue():\n",
    "    def __init__(self):\n",
    "        self.queue=[]\n",
    "    def enqueue(self,num):\n",
    "        self.queue.append(num)\n",
    "    def dequeue(self):\n",
    "        self.queue.pop(0)\n",
    "    def display(self):\n",
    "        print(self.queue)\n",
    "\n",
    "obj=Queue()\n",
    "obj.enqueue(1)\n",
    "obj.enqueue(2)\n",
    "obj.enqueue(3)\n",
    "obj.display()\n",
    "obj.dequeue()\n",
    "obj.display()\n"
   ]
  },
  {
   "cell_type": "code",
   "execution_count": 1,
   "id": "637b084b-d54e-442a-8bad-3453303f217a",
   "metadata": {},
   "outputs": [],
   "source": [
    "##linked list"
   ]
  },
  {
   "cell_type": "code",
   "execution_count": null,
   "id": "316e5d67-0364-491d-964e-65a0d52d0689",
   "metadata": {},
   "outputs": [],
   "source": []
  }
 ],
 "metadata": {
  "kernelspec": {
   "display_name": "Python 3 (ipykernel)",
   "language": "python",
   "name": "python3"
  },
  "language_info": {
   "codemirror_mode": {
    "name": "ipython",
    "version": 3
   },
   "file_extension": ".py",
   "mimetype": "text/x-python",
   "name": "python",
   "nbconvert_exporter": "python",
   "pygments_lexer": "ipython3",
   "version": "3.12.4"
  }
 },
 "nbformat": 4,
 "nbformat_minor": 5
}
