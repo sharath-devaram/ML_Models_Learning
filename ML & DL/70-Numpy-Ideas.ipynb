{
 "cells": [
  {
   "cell_type": "code",
   "execution_count": 2,
   "id": "11fed162-868f-4a54-a89f-10d03ec21376",
   "metadata": {},
   "outputs": [],
   "source": [
    "import numpy as np"
   ]
  },
  {
   "cell_type": "code",
   "execution_count": 6,
   "id": "03d026a5-8a46-42cc-b51b-ea2f6c7afb69",
   "metadata": {},
   "outputs": [
    {
     "data": {
      "text/plain": [
       "'1.26.4'"
      ]
     },
     "execution_count": 6,
     "metadata": {},
     "output_type": "execute_result"
    }
   ],
   "source": [
    "# 1. Import numpy as np and see the version\n",
    "# Difficulty Level: L1\n",
    "\n",
    "# Q. Import numpy as np and print the version number.\n",
    "np.__version__"
   ]
  },
  {
   "cell_type": "code",
   "execution_count": 8,
   "id": "80fc24a4-3ad5-425b-9e09-e471c4fcf4de",
   "metadata": {},
   "outputs": [
    {
     "name": "stdout",
     "output_type": "stream",
     "text": [
      "[0 1 2 3 4 5 6 7 8 9]\n"
     ]
    }
   ],
   "source": [
    "# 2. How to create a 1D array?\n",
    "# Difficulty Level: L1\n",
    "# Q. Create a 1D array of numbers from 0 to 9\n",
    "arr_1d=np.arange(10)\n",
    "print(arr_1d)"
   ]
  },
  {
   "cell_type": "code",
   "execution_count": 12,
   "id": "0ffa2996-ef29-4a5f-9dc9-772e74de8ace",
   "metadata": {},
   "outputs": [
    {
     "name": "stdout",
     "output_type": "stream",
     "text": [
      "[[ True  True  True]\n",
      " [ True  True  True]\n",
      " [ True  True  True]]\n"
     ]
    }
   ],
   "source": [
    "# 3. How to create a boolean array?\n",
    "# Difficulty Level: L1\n",
    "# Q. Create a 3×3 numpy array of all True’s\n",
    "bool_array=np.full((3,3),True, dtype=bool)\n",
    "print(bool_array)"
   ]
  },
  {
   "cell_type": "code",
   "execution_count": 18,
   "id": "5e4adebf-869f-4fd3-a24b-c5a5a345b239",
   "metadata": {},
   "outputs": [
    {
     "name": "stdout",
     "output_type": "stream",
     "text": [
      "[1 3 5 7 9]\n"
     ]
    }
   ],
   "source": [
    "# 4. How to extract items that satisfy a given condition from 1D array?\n",
    "# Difficulty Level: L1\n",
    "# Q. Extract all odd numbers from arr\n",
    "# Input:\n",
    "arr = np.array([0, 1, 2, 3, 4, 5, 6, 7, 8, 9])\n",
    "odd_array=arr[arr%2==1]\n",
    "print(odd_array)"
   ]
  },
  {
   "cell_type": "code",
   "execution_count": 28,
   "id": "f4defe46-877a-4f3d-8f59-5ad2c89616a3",
   "metadata": {},
   "outputs": [
    {
     "name": "stdout",
     "output_type": "stream",
     "text": [
      "[ 0 -1  2 -1  4 -1  6 -1  8 -1]\n"
     ]
    }
   ],
   "source": [
    "# 5. How to replace items that satisfy a condition with another value in numpy array?\n",
    "# Difficulty Level: L1\n",
    "# Q. Replace all odd numbers in arr with -1\n",
    "# Input:\n",
    "arr = np.array([0, 1, 2, 3, 4, 5, 6, 7, 8, 9])\n",
    "odd_array=np.where(arr%2==1,-1,arr)#arr[arr % 2 == 1] = -1\n",
    "print(odd_array)"
   ]
  },
  {
   "cell_type": "code",
   "execution_count": 30,
   "id": "04bc4928-84ea-4ec1-999f-8a145f51dd4a",
   "metadata": {},
   "outputs": [
    {
     "name": "stdout",
     "output_type": "stream",
     "text": [
      "[ 0 12  2 14  4 16  6 18  8 20]\n"
     ]
    }
   ],
   "source": [
    "#6. Q. Replace all odd numbers in arr with -1 without changing arr\n",
    "arr = np.array([0, 1, 2, 3, 4, 5, 6, 7, 8, 9])\n",
    "y=np.arange(11,21,1)\n",
    "out = np.where(arr%2==0,arr,y)##it is a condition if condition success first parameter goes failures second parameters\n",
    "print(out)"
   ]
  },
  {
   "cell_type": "code",
   "execution_count": 32,
   "id": "69d55dc6-1c03-4e3c-8f62-2b2b7ec7f9ac",
   "metadata": {},
   "outputs": [
    {
     "name": "stdout",
     "output_type": "stream",
     "text": [
      "1D array:  [0 1 2 3 4 5 6 7 8 9]\n",
      "2D array:  [[0 1 2 3 4]\n",
      " [5 6 7 8 9]]\n",
      "2D-array:  [[0 1 2 3 4]\n",
      " [5 6 7 8 9]]\n"
     ]
    }
   ],
   "source": [
    "#7 Q. Convert a 1D array to a 2D array with 2 rows\n",
    "arr_1d=np.arange(10)\n",
    "print(\"1D array: \",arr_1d)\n",
    "arr_2d=arr_1d.reshape(2,5)\n",
    "print(\"2D array: \",arr_2d)\n",
    "arr_2d_1=arr_1d.reshape(2,-1)#-1 decides automatically columns size\n",
    "print(\"2D-array: \",arr_2d_1)"
   ]
  },
  {
   "cell_type": "code",
   "execution_count": 34,
   "id": "8855ce42-2840-4802-9376-3390e254d1ed",
   "metadata": {},
   "outputs": [
    {
     "name": "stdout",
     "output_type": "stream",
     "text": [
      "c:  [[ 0  1  2  3  4]\n",
      " [ 5  6  7  8  9]\n",
      " [11 12 13 14 15]\n",
      " [16 17 18 19 20]]\n"
     ]
    }
   ],
   "source": [
    "# 8. How to stack two arrays vertically?\n",
    "# Difficulty Level: L2\n",
    "# Q. Stack arrays a and b vertically\n",
    "a=np.arange(10,dtype=np.int64).reshape(2,-1)\n",
    "b=np.arange(11,21,dtype=np.int64).reshape(2,-1)\n",
    "c=np.vstack([a,b])\n",
    "print(\"c: \",c)"
   ]
  },
  {
   "cell_type": "code",
   "execution_count": 36,
   "id": "48b12037-749d-415f-a50f-7f9bab466218",
   "metadata": {},
   "outputs": [
    {
     "name": "stdout",
     "output_type": "stream",
     "text": [
      "a:  [[0 1 2 3 4]\n",
      " [5 6 7 8 9]]\n",
      "b:  [[1 1 1 1 1]\n",
      " [1 1 1 1 1]]\n",
      "c:  [[0 1 2 3 4 1 1 1 1 1]\n",
      " [5 6 7 8 9 1 1 1 1 1]]\n"
     ]
    }
   ],
   "source": [
    "# 9. How to stack two arrays horizontally?\n",
    "# Difficulty Level: L2\n",
    "# Q. Stack the arrays a and b horizontally.\n",
    "a = np.arange(10).reshape(2,-1)\n",
    "b = np.repeat(1, 10).reshape(2,-1)#repeat function repeates \"1\" 10-times, if the first parameter is an np array, then it repeats all the elements specified times\n",
    "print(\"a: \",a)\n",
    "print(\"b: \",b)\n",
    "c=np.hstack([a,b])\n",
    "print(\"c: \",c)"
   ]
  },
  {
   "cell_type": "code",
   "execution_count": 95,
   "id": "396f1fb9-a5d8-43ce-ac36-3e0fbffa7595",
   "metadata": {},
   "outputs": [
    {
     "name": "stdout",
     "output_type": "stream",
     "text": [
      "[1 1 1 2 2 2 3 3 3 1 2 3 1 2 3 1 2 3]\n"
     ]
    }
   ],
   "source": [
    "# 10. How to generate custom sequences in numpy without hardcoding?\n",
    "# Difficulty Level: L2\n",
    "# Q. Create the following pattern without hardcoding. Use only numpy functions and the below input array a.\n",
    "# Input:\n",
    "# a = np.array([1,2,3])`\n",
    "# Desired Output:\n",
    "# #> array([1, 1, 1, 2, 2, 2, 3, 3, 3, 1, 2, 3, 1, 2, 3, 1, 2, 3])\n",
    "a=np.array([1,2,3])\n",
    "b=np.repeat(a,3)#[1,1,1,2,2,2,,3,3,3]\n",
    "c=np.tile(a,3)#[1,2,3,1,2,3,1,2,3]\n",
    "d=np.concatenate([b,c])\n",
    "print(d)\n",
    "##shortcut is np.r_[np.repeat(a, 3), np.tile(a, 3)],np.r_ is a convenience function for concatenation along the first axis."
   ]
  },
  {
   "cell_type": "code",
   "execution_count": 48,
   "id": "5c972437-e242-4aa2-b6de-047d27e98d8b",
   "metadata": {},
   "outputs": [
    {
     "name": "stdout",
     "output_type": "stream",
     "text": [
      "[2 4]\n"
     ]
    }
   ],
   "source": [
    "# 11. How to get the common items between two python numpy arrays?\n",
    "# Difficulty Level: L2\n",
    "# Q. Get the common items between a and b\n",
    "# Input:\n",
    "a = np.array([1,2,3,2,3,4,3,4,5,6])\n",
    "b = np.array([7,2,10,2,7,4,9,4,9,8])\n",
    "common_array=np.intersect1d(a,b)\n",
    "print(common_array)"
   ]
  },
  {
   "cell_type": "code",
   "execution_count": 50,
   "id": "718d050f-dc9f-40a4-b8cf-3cee867d9147",
   "metadata": {},
   "outputs": [
    {
     "name": "stdout",
     "output_type": "stream",
     "text": [
      "[1 2 3 4]\n"
     ]
    }
   ],
   "source": [
    "# 12. How to remove from one array those items that exist in another?\n",
    "# Difficulty Level: L2\n",
    "# Q. From array a remove all items present in array b\n",
    "# Input:\n",
    "a = np.array([1,2,3,4,5])\n",
    "b = np.array([5,6,7,8,9])\n",
    "# From 'a' remove all of 'b'\n",
    "c=np.setdiff1d(a,b)\n",
    "print(c)"
   ]
  },
  {
   "cell_type": "code",
   "execution_count": 54,
   "id": "7fd34d0f-9503-4c8a-82b5-b447fc6d037d",
   "metadata": {},
   "outputs": [
    {
     "name": "stdout",
     "output_type": "stream",
     "text": [
      "(array([1, 3, 5, 7], dtype=int64),)\n"
     ]
    }
   ],
   "source": [
    "# 13. How to get the positions where elements of two arrays index match?\n",
    "# Difficulty Level: L2\n",
    "# Q. Get the positions where elements of a and b match\n",
    "# Input:\n",
    "a = np.array([1,2,3,2,3,4,3,4,5,6])\n",
    "b = np.array([7,2,10,2,7,4,9,4,9,8])\n",
    "c=np.where(a==b)\n",
    "print(c)"
   ]
  },
  {
   "cell_type": "code",
   "execution_count": 108,
   "id": "b0306432-c14d-49b5-8f6f-a753779c07fc",
   "metadata": {},
   "outputs": [
    {
     "name": "stdout",
     "output_type": "stream",
     "text": [
      "[ 6  9 10]\n"
     ]
    }
   ],
   "source": [
    "# 14. How to extract all numbers between a given range from a numpy array?\n",
    "# Difficulty Level: L2\n",
    "# Q. Get all items between 5 and 10 from a.\n",
    "# Input:\n",
    "a = np.array([2, 6, 1, 9, 10, 3, 27])\n",
    "index=np.where((a>=5) & (a<=10))\n",
    "print(a[index])"
   ]
  },
  {
   "cell_type": "code",
   "execution_count": 122,
   "id": "c21d7b8b-f2e4-41ef-9283-7b2839d773dc",
   "metadata": {},
   "outputs": [
    {
     "name": "stdout",
     "output_type": "stream",
     "text": [
      "[6 7 9 8 9 7 5]\n",
      "[6. 7. 9. 8. 9. 7. 5.]\n"
     ]
    }
   ],
   "source": [
    "# 15. How to make a python function that handles scalars to work on numpy arrays?\n",
    "# Difficulty Level: L2\n",
    "# Q. Convert the function maxx that works on two scalars, to work on two arrays.\n",
    "# Input:\n",
    "def maxx(x, y):\n",
    "    \"\"\"Get the maximum of two items\"\"\"\n",
    "    if x >= y:\n",
    "        return x\n",
    "    else:\n",
    "        return y\n",
    "maxx(1, 5)\n",
    "a = np.array([5, 7, 9, 8, 6, 4, 5])\n",
    "b = np.array([6, 3, 4, 8, 9, 7, 1])\n",
    "c=np.where(a>b,a,b)\n",
    "print(c)\n",
    "\n",
    "pair_max = np.vectorize(maxx, otypes=[float])\n",
    "a = np.array([5, 7, 9, 8, 6, 4, 5])\n",
    "b = np.array([6, 3, 4, 8, 9, 7, 1])\n",
    "print(pair_max(a, b))\n"
   ]
  },
  {
   "cell_type": "code",
   "execution_count": 136,
   "id": "91cf35fa-ef31-4fe0-8df7-4770f250be18",
   "metadata": {},
   "outputs": [
    {
     "name": "stdout",
     "output_type": "stream",
     "text": [
      "[[0 3 6]\n",
      " [1 4 7]\n",
      " [2 5 8]]\n"
     ]
    },
    {
     "data": {
      "text/plain": [
       "array([[1, 0, 2],\n",
       "       [4, 3, 5],\n",
       "       [7, 6, 8]])"
      ]
     },
     "execution_count": 136,
     "metadata": {},
     "output_type": "execute_result"
    }
   ],
   "source": [
    "# 16. How to swap two columns in a 2d numpy array?\n",
    "# Difficulty Level: L2\n",
    "# Q. Swap columns 1 and 2 in the array arr.\n",
    "arr = np.arange(9).reshape(3,3)\n",
    "swapped_array=arr.swapaxes(0,1)\n",
    "print(swapped_array)\n",
    "#or\n",
    "# Solution\n",
    "arr[:, [1,0,2]]"
   ]
  },
  {
   "cell_type": "code",
   "execution_count": 132,
   "id": "1fb2802f-9f5f-46b5-bba0-d0ca51dedb5b",
   "metadata": {},
   "outputs": [
    {
     "name": "stdout",
     "output_type": "stream",
     "text": [
      "[[3 4 5]\n",
      " [0 1 2]\n",
      " [6 7 8]]\n"
     ]
    }
   ],
   "source": [
    "# 17. How to swap two rows in a 2d numpy array?\n",
    "# Difficulty Level: L2\n",
    "# Q. Swap rows 1 and 2 in the array arr:\n",
    "arr = np.arange(9).reshape(3,3)\n",
    "swapped_2d_array=arr[[1,0,2],:]\n",
    "print(swapped_2d_array)"
   ]
  },
  {
   "cell_type": "code",
   "execution_count": 146,
   "id": "142dc250-df71-4fd2-8fe9-2752515bce0b",
   "metadata": {},
   "outputs": [
    {
     "name": "stdout",
     "output_type": "stream",
     "text": [
      "[[2 1 0]\n",
      " [5 4 3]\n",
      " [8 7 6]]\n",
      "[[6 7 8]\n",
      " [3 4 5]\n",
      " [0 1 2]]\n"
     ]
    }
   ],
   "source": [
    "# 18. How to reverse the rows of a 2D array?\n",
    "# Difficulty Level: L2\n",
    "# Q. Reverse the rows of a 2D array arr.\n",
    "# Input\n",
    "arr = np.arange(9).reshape(3,3)\n",
    "reversed_array=arr[:,[2,1,0]]\n",
    "print(reversed_array)\n",
    "#or \n",
    "print(arr[::-1])"
   ]
  },
  {
   "cell_type": "code",
   "execution_count": 148,
   "id": "97c98308-58c1-4a77-8b43-306b74dafcd2",
   "metadata": {},
   "outputs": [
    {
     "name": "stdout",
     "output_type": "stream",
     "text": [
      "[[2 1 0]\n",
      " [5 4 3]\n",
      " [8 7 6]]\n"
     ]
    }
   ],
   "source": [
    "# 19. How to reverse the columns of a 2D array?\n",
    "# Difficulty Level: L2\n",
    "# Q. Reverse the columns of a 2D array arr.\n",
    "# Input\n",
    "arr = np.arange(9).reshape(3,3)\n",
    "columns_reverse=arr[:,::-1]\n",
    "print(columns_reverse)"
   ]
  },
  {
   "cell_type": "code",
   "execution_count": 162,
   "id": "d8e1d7c0-c33d-4803-a455-6f7aafc95657",
   "metadata": {},
   "outputs": [
    {
     "name": "stdout",
     "output_type": "stream",
     "text": [
      "[[6.5734626  5.53746707 5.33585574]\n",
      " [5.64036046 7.85102293 9.01521303]\n",
      " [5.40771579 6.74623879 8.12583241]\n",
      " [9.62356475 7.53420816 6.60613326]\n",
      " [6.45837064 8.12865148 9.20759879]]\n"
     ]
    }
   ],
   "source": [
    "# 20. How to create a 2D array containing random floats between 5 and 10?\n",
    "# Difficulty Level: L2\n",
    "# Q. Create a 2D array of shape 5x3 to contain random decimal numbers between 5 and 10.\n",
    "random_array_int=np.random.randint(low=5,high=10,size=(5,3))\n",
    "random_array_floats=np.random.random((5,3))\n",
    "print(random_array_int+random_array_floats)"
   ]
  },
  {
   "cell_type": "code",
   "execution_count": 178,
   "id": "bc57ee74-19b9-4f6f-b7bd-f00edebe2979",
   "metadata": {},
   "outputs": [
    {
     "name": "stdout",
     "output_type": "stream",
     "text": [
      "[[0.403 0.677 0.167]\n",
      " [0.791 0.802 0.499]\n",
      " [0.806 0.097 0.924]\n",
      " [0.946 0.63  0.376]\n",
      " [0.945 0.563 0.663]]\n"
     ]
    }
   ],
   "source": [
    "# 21. How to print only 3 decimal places in python numpy array?\n",
    "# Difficulty Level: L1\n",
    "# Q. Print or show only 3 decimal places of the numpy array rand_arr.\n",
    "# Input:\n",
    "rand_arr = np.random.random((5,3))\n",
    "np.set_printoptions(precision=3)\n",
    "print(rand_arr)"
   ]
  },
  {
   "cell_type": "code",
   "execution_count": 227,
   "id": "84cb193a-c334-4a4c-ac3f-510bb90bb4ba",
   "metadata": {},
   "outputs": [
    {
     "name": "stdout",
     "output_type": "stream",
     "text": [
      "[[7.713e-04 2.075e-05 6.336e-04]\n",
      " [7.488e-04 4.985e-04 2.248e-04]\n",
      " [1.981e-04 7.605e-04 1.691e-04]]\n",
      "[[0.000771 0.000021 0.000634]\n",
      " [0.000749 0.000499 0.000225]\n",
      " [0.000198 0.000761 0.000169]]\n"
     ]
    }
   ],
   "source": [
    "# 22. How to pretty print a numpy array by suppressing the scientific notation (like 1e10)?\n",
    "# Difficulty Level: L1\n",
    "# Q. Pretty print rand_arr by suppressing the scientific notation (like 1e10)\n",
    "np.random.seed(10)\n",
    "rand_arr = np.random.random([3,3])/1e3\n",
    "print(rand_arr)\n",
    "np.set_printoptions(suppress=True, precision=6)  # precision is optional\n",
    "print(rand_arr)"
   ]
  },
  {
   "cell_type": "code",
   "execution_count": 247,
   "id": "4f8b8b42-dde4-412d-aa80-e98bc53c51e6",
   "metadata": {},
   "outputs": [
    {
     "name": "stdout",
     "output_type": "stream",
     "text": [
      "[ 0  1  2 ... 12 13 14]\n"
     ]
    }
   ],
   "source": [
    "# 23. How to limit the number of items printed in output of numpy array?\n",
    "# Difficulty Level: L1\n",
    "# Q. Limit the number of items printed in python numpy array a to a maximum of 6 elements.\n",
    "# Input:\n",
    "a = np.arange(15)\n",
    "np.set_printoptions(threshold=6)\n",
    "print(a)"
   ]
  },
  {
   "cell_type": "code",
   "execution_count": 269,
   "id": "b6641b30-15e7-4d85-a20f-2dd9bfb25065",
   "metadata": {},
   "outputs": [
    {
     "name": "stdout",
     "output_type": "stream",
     "text": [
      "[ 0  1  2 ... 15 16 17]\n",
      "[ 0  1  2  3  4  5  6  7  8  9 10 11 12 13 14 15 16 17]\n"
     ]
    }
   ],
   "source": [
    "# 24. How to print the full numpy array without truncating\n",
    "# Difficulty Level: L1\n",
    "# Q. Print the full numpy array a without truncating.\n",
    "# Input:\n",
    "np.set_printoptions(threshold=6)\n",
    "a = np.arange(18)\n",
    "print(a)\n",
    "np.set_printoptions(threshold=a.size)\n",
    "print(a)"
   ]
  },
  {
   "cell_type": "code",
   "execution_count": 275,
   "id": "59dd42a2-689e-4379-8ec3-69bd4f63676f",
   "metadata": {},
   "outputs": [
    {
     "data": {
      "text/plain": [
       "array([[b'5.1', b'3.5', b'1.4', b'0.2', b'Iris-setosa'],\n",
       "       [b'4.9', b'3.0', b'1.4', b'0.2', b'Iris-setosa'],\n",
       "       [b'4.7', b'3.2', b'1.3', b'0.2', b'Iris-setosa']], dtype=object)"
      ]
     },
     "execution_count": 275,
     "metadata": {},
     "output_type": "execute_result"
    }
   ],
   "source": [
    "# 25. How to import a dataset with numbers and texts keeping the text intact in python numpy?\n",
    "# Difficulty Level: L2\n",
    "# Q. Import the iris dataset keeping the text intact.\n",
    "url = 'https://archive.ics.uci.edu/ml/machine-learning-databases/iris/iris.data'\n",
    "iris = np.genfromtxt(url, delimiter=',', dtype='object')\n",
    "names = ('sepallength', 'sepalwidth', 'petallength', 'petalwidth', 'species')\n",
    "# Print the first 3 rows\n",
    "iris[:3]"
   ]
  },
  {
   "cell_type": "code",
   "execution_count": 326,
   "id": "14ffadbb-b828-4ff4-ac28-fb0c04c83dcc",
   "metadata": {},
   "outputs": [
    {
     "name": "stdout",
     "output_type": "stream",
     "text": [
      "(150,)\n"
     ]
    },
    {
     "data": {
      "text/plain": [
       "array(['Iris-setosa', 'Iris-setosa', 'Iris-setosa', 'Iris-setosa',\n",
       "       'Iris-setosa'], dtype='<U15')"
      ]
     },
     "execution_count": 326,
     "metadata": {},
     "output_type": "execute_result"
    }
   ],
   "source": [
    "# 26. How to extract a particular column from 1D array of tuples?\n",
    "# Difficulty Level: L2\n",
    "# Q. Extract the text column species from the 1D iris imported in previous question.\n",
    "# Input:\n",
    "url = 'https://archive.ics.uci.edu/ml/machine-learning-databases/iris/iris.data'\n",
    "iris_1d = np.genfromtxt(url, delimiter=',', dtype=None,encoding='utf-8')\n",
    "print(iris_1d.shape)\n",
    "species = np.array([row[4] for row in iris_1d])\n",
    "species[:5]"
   ]
  },
  {
   "cell_type": "code",
   "execution_count": 344,
   "id": "615bf56f-48e8-4281-9d43-de7a348e55f2",
   "metadata": {},
   "outputs": [
    {
     "name": "stdout",
     "output_type": "stream",
     "text": [
      "[[5.1 3.5 1.4 0.2]\n",
      " [4.9 3.  1.4 0.2]\n",
      " [4.7 3.2 1.3 0.2]\n",
      " [4.6 3.1 1.5 0.2]]\n",
      "[[5.1 3.5 1.4 0.2]\n",
      " [4.9 3.  1.4 0.2]\n",
      " [4.7 3.2 1.3 0.2]\n",
      " [4.6 3.1 1.5 0.2]]\n"
     ]
    }
   ],
   "source": [
    "# 27. How to convert a 1d array of tuples to a 2d numpy array?\n",
    "# Difficulty Level: L2\n",
    "# Q. Convert the 1D iris to 2D array iris_2d by omitting the species text field.\n",
    "# Input:\n",
    "url = 'https://archive.ics.uci.edu/ml/machine-learning-databases/iris/iris.data'\n",
    "iris_1d = np.genfromtxt(url, delimiter=',', dtype=None,usecols=[0,1,2,3],encoding='utf-8')\n",
    "print(iris_1d[:4])\n",
    "# Solution:\n",
    "# Method 1: Convert each row to a list and get the first 4 items\n",
    "iris_2d = np.array([row.tolist()[:4] for row in iris_1d])\n",
    "print(iris_2d[:4])"
   ]
  },
  {
   "cell_type": "code",
   "execution_count": 352,
   "id": "e2dd3b93-233f-4c8c-831f-b07bc2cf5bea",
   "metadata": {},
   "outputs": [
    {
     "name": "stdout",
     "output_type": "stream",
     "text": [
      "[5.843333 3.054    3.758667 1.198667]\n",
      "[2.45 2.2  2.25 ... 4.1  4.4  4.05]\n",
      "1.974000985027335\n"
     ]
    }
   ],
   "source": [
    "# 28. How to compute the mean, median, standard deviation of a numpy array?\n",
    "# Q. Find the mean, median, standard deviation of iris's sepallength (1st column)\n",
    "url = 'https://archive.ics.uci.edu/ml/machine-learning-databases/iris/iris.data'\n",
    "iris = np.genfromtxt(url, delimiter=',', dtype=None,usecols=[0,1,2,3])\n",
    "print\n",
    "iris_mean=np.mean(iris,axis=0)\n",
    "print(iris_mean)\n",
    "iris_median=np.median(iris, axis=1)\n",
    "print(iris_median)\n",
    "iris_std=np.std(iris)\n",
    "print(iris_std)\n"
   ]
  },
  {
   "cell_type": "code",
   "execution_count": 396,
   "id": "203ae99b-b52e-4caa-b61c-1e4c1e465275",
   "metadata": {},
   "outputs": [
    {
     "name": "stdout",
     "output_type": "stream",
     "text": [
      "[0.222222 0.166667 0.111111 ... 0.611111 0.527778 0.444444]\n"
     ]
    }
   ],
   "source": [
    "# 29. How to normalize an array so the values range exactly between 0 and 1?\n",
    "# Difficulty: L2\n",
    "# Q. Create a normalized form of iris's sepallength whose values range exactly between 0 and 1 so that the minimum has value 0 and maximum has value 1.\n",
    "# Input:\n",
    "url = 'https://archive.ics.uci.edu/ml/machine-learning-databases/iris/iris.data'\n",
    "sepallength = np.genfromtxt(url, delimiter=',', dtype='float', usecols=[0])\n",
    "#print(sepallength)\n",
    "# Solution\n",
    "smax, smin = sepallength.max(), sepallength.min()\n",
    "# Normalizing the array normalizaton means arranging all the value between 0 to 1 formula is (element-minvalue)/(max-min)\n",
    "normalized_arr = (sepallength -smin) / (smax - smin)\n",
    "print(normalized_arr)"
   ]
  },
  {
   "cell_type": "code",
   "execution_count": 398,
   "id": "f31de6a2-47d8-48d1-b85c-880d37ebe1db",
   "metadata": {},
   "outputs": [
    {
     "name": "stdout",
     "output_type": "stream",
     "text": [
      "[0.00222  0.001817 0.001488 ... 0.009001 0.006668 0.00494 ]\n"
     ]
    }
   ],
   "source": [
    "# 30. How to compute the softmax score?\n",
    "# Difficulty Level: L3\n",
    "# Q. Compute the softmax score of sepallength.\n",
    "url = 'https://archive.ics.uci.edu/ml/machine-learning-databases/iris/iris.data'\n",
    "iris = np.genfromtxt(url, delimiter=',', dtype='object')\n",
    "sepallength = np.array([float(row[0]) for row in iris])\n",
    "\n",
    "# Solution\n",
    "def softmax(x):\n",
    "    \"\"\"Compute softmax values for each sets of scores in x.\n",
    "    https://stackoverflow.com/questions/34968722/how-to-implement-the-softmax-function-in-python\"\"\"\n",
    "    e_x = np.exp(x - np.max(x))\n",
    "    return e_x / e_x.sum(axis=0)\n",
    "\n",
    "print(softmax(sepallength))"
   ]
  },
  {
   "cell_type": "code",
   "execution_count": 414,
   "id": "4626417a-70cf-4b1c-883a-c0e72c2d5d82",
   "metadata": {},
   "outputs": [
    {
     "data": {
      "text/plain": [
       "array([4.6  , 7.255])"
      ]
     },
     "execution_count": 414,
     "metadata": {},
     "output_type": "execute_result"
    }
   ],
   "source": [
    "# 31. How to find the percentile scores of a numpy array?\n",
    "# Difficulty Level: L1\n",
    "# Q. Find the 5th and 95th percentile of iris's sepallength\n",
    "url = 'https://archive.ics.uci.edu/ml/machine-learning-databases/iris/iris.data'\n",
    "sepallength = np.genfromtxt(url, delimiter=',', dtype='float', usecols=[0])\n",
    "#solution\n",
    "np.percentile(sepallength,q=[5,95])"
   ]
  },
  {
   "cell_type": "code",
   "execution_count": 469,
   "id": "4988343d-bfd3-4572-864f-74d3976a3086",
   "metadata": {},
   "outputs": [
    {
     "name": "stdout",
     "output_type": "stream",
     "text": [
      "[1 1]\n",
      "[[0.184868 0.840247 0.569271]\n",
      " [0.06005  0.988917 0.228782]\n",
      " [0.614702 0.368027 0.802776]]\n",
      "[[3 6 9]\n",
      " [2 8 2]\n",
      " [8 2 9]]\n",
      "nan\n"
     ]
    }
   ],
   "source": [
    "# 32. How to insert values at random positions in an array?\n",
    "# Difficulty Level: L2\n",
    "# Q. Insert np.nan values at 20 random positions in iris_2d dataset\n",
    "# Input\n",
    "url = 'https://archive.ics.uci.edu/ml/machine-learning-databases/iris/iris.data'\n",
    "iris_2d = np.genfromtxt(url, delimiter=',', dtype='object')\n",
    "x= np.random.random((3,3))###generates floating nump array size 3x3,\n",
    "y=np.random.randint(1,10,size=(3,3))##generates integer numpy array size 3x3\n",
    "random_position=np.random.randint(2,size=2)#prints random number single item\n",
    "print(random_position)\n",
    "print(x)\n",
    "print(y)\n",
    "iris_2d[random_position[0]][random_position[1]]=np.nan\n",
    "print(iris_2d[random_position[0]][random_position[1]])"
   ]
  },
  {
   "cell_type": "code",
   "execution_count": 477,
   "id": "8fc5bb3b-5478-42d6-9243-3cd7ec7ec019",
   "metadata": {},
   "outputs": [
    {
     "name": "stdout",
     "output_type": "stream",
     "text": [
      "Number of missing of values:  3\n",
      "Positions of missing values:  (array([  0,  56, 109], dtype=int64),)\n"
     ]
    }
   ],
   "source": [
    "# 33. How to find the position of missing values in numpy array?\n",
    "# Difficulty Level: L2\n",
    "# Q. Find the number and position of missing values in iris_2d's sepallength (1st column)\n",
    "# Input\n",
    "url = 'https://archive.ics.uci.edu/ml/machine-learning-databases/iris/iris.data'\n",
    "iris_2d = np.genfromtxt(url, delimiter=',', dtype='float')\n",
    "iris_2d[np.random.randint(150, size=20), np.random.randint(4, size=20)] = np.nan\n",
    "# Solution\n",
    "print(\"Number of missing of values: \",np.isnan(iris_2d[:,0]).sum())\n",
    "print(\"Positions of missing values: \",np.where(np.isnan(iris_2d[:,0])))"
   ]
  },
  {
   "cell_type": "code",
   "execution_count": 479,
   "id": "2736b4a8-22d8-4cab-be6b-eb9dda336dff",
   "metadata": {},
   "outputs": [
    {
     "data": {
      "text/plain": [
       "array([[4.8, 3.4, 1.6, 0.2],\n",
       "       [4.8, 3.4, 1.9, 0.2],\n",
       "       [4.7, 3.2, 1.6, 0.2],\n",
       "       [4.8, 3.1, 1.6, 0.2],\n",
       "       [4.9, 2.4, 3.3, 1. ],\n",
       "       [4.9, 2.5, 4.5, 1.7]])"
      ]
     },
     "execution_count": 479,
     "metadata": {},
     "output_type": "execute_result"
    }
   ],
   "source": [
    "# 34. How to filter a numpy array based on two or more conditions?\n",
    "# Difficulty Level: L3\n",
    "# Q. Filter the rows of iris_2d that has petallength (3rd column) > 1.5 and sepallength (1st column) < 5.0\n",
    "# Input\n",
    "url = 'https://archive.ics.uci.edu/ml/machine-learning-databases/iris/iris.data'\n",
    "iris_2d = np.genfromtxt(url, delimiter=',', dtype='float', usecols=[0,1,2,3])\n",
    "# Solution\n",
    "condition = (iris_2d[:, 2] > 1.5) & (iris_2d[:, 0] < 5.0)\n",
    "iris_2d[condition]"
   ]
  },
  {
   "cell_type": "code",
   "execution_count": 483,
   "id": "65bebd9e-f156-4e73-b88b-3b46f06f8f68",
   "metadata": {},
   "outputs": [
    {
     "data": {
      "text/plain": [
       "array([[5.1, 3.5, 1.4, 0.2],\n",
       "       [4.9, 3. , 1.4, 0.2],\n",
       "       [4.7, 3.2, 1.3, 0.2],\n",
       "       [4.6, 3.1, 1.5, 0.2],\n",
       "       [5. , 3.6, 1.4, 0.2]])"
      ]
     },
     "execution_count": 483,
     "metadata": {},
     "output_type": "execute_result"
    }
   ],
   "source": [
    "# 35. How to drop rows that contain a missing value from a numpy array?\n",
    "# Difficulty Level: L3: \n",
    "# Q. Select the rows of iris_2d that does not have any nan value.\n",
    "# Input\n",
    "url = 'https://archive.ics.uci.edu/ml/machine-learning-databases/iris/iris.data'\n",
    "iris_2d = np.genfromtxt(url, delimiter=',', dtype='float', usecols=[0,1,2,3])\n",
    "# Solution\n",
    "# No direct numpy function for this.\n",
    "# Method 1:\n",
    "any_nan_in_row = np.array([~np.any(np.isnan(row)) for row in iris_2d])\n",
    "iris_2d[any_nan_in_row][:5]\n",
    "\n",
    "# Method 2: (By Rong)\n",
    "iris_2d[np.sum(np.isnan(iris_2d), axis = 1) == 0][:5]"
   ]
  },
  {
   "cell_type": "code",
   "execution_count": 491,
   "id": "e182ed15-56b5-4b3d-8a14-50d6b825aad8",
   "metadata": {},
   "outputs": [
    {
     "name": "stdout",
     "output_type": "stream",
     "text": [
      "0.7883455241438413\n"
     ]
    }
   ],
   "source": [
    "# 36. How to find the correlation between two columns of a numpy array?\n",
    "# Difficulty Level: L2\n",
    "# Q. Find the correlation between SepalLength(1st column) and PetalLength(3rd column) in iris_2d\n",
    "# Input\n",
    "url = 'https://archive.ics.uci.edu/ml/machine-learning-databases/iris/iris.data'\n",
    "iris_2d = np.genfromtxt(url, delimiter=',', dtype='int', usecols=[0,1,2,3])\n",
    "print(np.corrcoef(iris_2d[:, 0], iris_2d[:, 2])[0, 1])"
   ]
  },
  {
   "cell_type": "code",
   "execution_count": 493,
   "id": "064410b8-5ffd-45ab-94a4-39a7f0c8079e",
   "metadata": {},
   "outputs": [
    {
     "data": {
      "text/plain": [
       "False"
      ]
     },
     "execution_count": 493,
     "metadata": {},
     "output_type": "execute_result"
    }
   ],
   "source": [
    "# 37. How to find if a given array has any null values?\n",
    "# Difficulty Level: L2\n",
    "# Q. Find out if iris_2d has any missing values.\n",
    "# Input\n",
    "url = 'https://archive.ics.uci.edu/ml/machine-learning-databases/iris/iris.data'\n",
    "iris_2d = np.genfromtxt(url, delimiter=',', dtype='float', usecols=[0,1,2,3])\n",
    "np.isnan(iris_2d).any()"
   ]
  },
  {
   "cell_type": "code",
   "execution_count": 495,
   "id": "3d0bfbd5-85ef-4ac3-8ca8-dcaa4ef432ee",
   "metadata": {},
   "outputs": [
    {
     "data": {
      "text/plain": [
       "array([[5.1, 3.5, 1.4, 0.2],\n",
       "       [4.9, 3. , 1.4, 0.2],\n",
       "       [4.7, 3.2, 1.3, 0.2],\n",
       "       [4.6, 3.1, 1.5, 0.2]])"
      ]
     },
     "execution_count": 495,
     "metadata": {},
     "output_type": "execute_result"
    }
   ],
   "source": [
    "# 38. How to replace all missing values with 0 in a numpy array?\n",
    "# Difficulty Level: L2\n",
    "# Q. Replace all ccurrences of nan with 0 in numpy array\n",
    "# Solution\n",
    "url = 'https://archive.ics.uci.edu/ml/machine-learning-databases/iris/iris.data'\n",
    "iris_2d = np.genfromtxt(url, delimiter=',', dtype='float', usecols=[0,1,2,3])\n",
    "np.isnan(iris_2d).any()\n",
    "iris_2d[np.isnan(iris_2d)] = 0\n",
    "iris_2d[:4]"
   ]
  },
  {
   "cell_type": "code",
   "execution_count": 497,
   "id": "a4fd3d33-ad3b-41f1-8eb3-70293e4ae853",
   "metadata": {},
   "outputs": [
    {
     "data": {
      "text/plain": [
       "(array([b'Iris-setosa', b'Iris-versicolor', b'Iris-virginica'],\n",
       "       dtype='|S15'),\n",
       " array([50, 50, 50], dtype=int64))"
      ]
     },
     "execution_count": 497,
     "metadata": {},
     "output_type": "execute_result"
    }
   ],
   "source": [
    "# 39. How to find the count of unique values in a numpy array?\n",
    "# Difficulty Level: L2\n",
    "# Q. Find the unique values and the count of unique values in iris's species\n",
    "# Input\n",
    "url = 'https://archive.ics.uci.edu/ml/machine-learning-databases/iris/iris.data'\n",
    "iris = np.genfromtxt(url, delimiter=',', dtype='object')\n",
    "names = ('sepallength', 'sepalwidth', 'petallength', 'petalwidth', 'species')\n",
    "# Solution\n",
    "# Extract the species column as an array\n",
    "species = np.array([row.tolist()[4] for row in iris])\n",
    "# Get the unique values and the counts\n",
    "np.unique(species, return_counts=True)"
   ]
  },
  {
   "cell_type": "code",
   "execution_count": 501,
   "id": "5deb6b5a-31f9-4818-8a35-443409f32f13",
   "metadata": {},
   "outputs": [
    {
     "data": {
      "text/plain": [
       "['small', 'small', 'small', 'small']"
      ]
     },
     "execution_count": 501,
     "metadata": {},
     "output_type": "execute_result"
    }
   ],
   "source": [
    "# 40. How to convert a numeric to a categorical (text) array?\n",
    "# Difficulty Level: L2\n",
    "# Q. Bin the petal length (3rd) column of iris_2d to form a text array, such that if petal length is:\n",
    "# Less than 3 --> 'small'\n",
    "# 3-5 --> 'medium'\n",
    "# '>=5 --> 'large'\n",
    "# Input\n",
    "url = 'https://archive.ics.uci.edu/ml/machine-learning-databases/iris/iris.data'\n",
    "iris = np.genfromtxt(url, delimiter=',', dtype='object')\n",
    "names = ('sepallength', 'sepalwidth', 'petallength', 'petalwidth', 'species')\n",
    "# Bin petallength \n",
    "petal_length_bin = np.digitize(iris[:, 2].astype('float'), [0, 3, 5, 10])\n",
    "\n",
    "# Map it to respective category\n",
    "label_map = {1: 'small', 2: 'medium', 3: 'large', 4: np.nan}\n",
    "petal_length_cat = [label_map[x] for x in petal_length_bin]\n",
    "\n",
    "# View\n",
    "petal_length_cat[:4]"
   ]
  },
  {
   "cell_type": "code",
   "execution_count": null,
   "id": "ebcdcf65-39c4-4e91-ad48-68a90a3a35f4",
   "metadata": {},
   "outputs": [],
   "source": []
  },
  {
   "cell_type": "code",
   "execution_count": null,
   "id": "02da1e24-fdcf-4ae1-be4d-c340c7ea965c",
   "metadata": {},
   "outputs": [],
   "source": []
  }
 ],
 "metadata": {
  "kernelspec": {
   "display_name": "Python 3 (ipykernel)",
   "language": "python",
   "name": "python3"
  },
  "language_info": {
   "codemirror_mode": {
    "name": "ipython",
    "version": 3
   },
   "file_extension": ".py",
   "mimetype": "text/x-python",
   "name": "python",
   "nbconvert_exporter": "python",
   "pygments_lexer": "ipython3",
   "version": "3.12.4"
  }
 },
 "nbformat": 4,
 "nbformat_minor": 5
}
