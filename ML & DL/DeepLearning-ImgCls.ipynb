{
 "cells": [
  {
   "cell_type": "code",
   "execution_count": null,
   "id": "2eb1ca5a-3855-4cb9-8c80-1d5fc31d45fc",
   "metadata": {},
   "outputs": [],
   "source": []
  },
  {
   "cell_type": "code",
   "execution_count": 10,
   "id": "83b1be5b-b9b5-4a89-ac62-cbb92fe67727",
   "metadata": {},
   "outputs": [
    {
     "name": "stdout",
     "output_type": "stream",
     "text": [
      "Collecting tensorflow\n",
      "  Using cached tensorflow-2.17.0-cp312-cp312-win_amd64.whl.metadata (3.2 kB)\n",
      "Collecting tensorflow-gpu\n",
      "  Using cached tensorflow-gpu-2.12.0.tar.gz (2.6 kB)\n",
      "  Installing build dependencies: started\n",
      "  Installing build dependencies: finished with status 'done'\n",
      "  Getting requirements to build wheel: started\n",
      "  Getting requirements to build wheel: finished with status 'error'\n"
     ]
    },
    {
     "name": "stderr",
     "output_type": "stream",
     "text": [
      "  error: subprocess-exited-with-error\n",
      "  \n",
      "  Getting requirements to build wheel did not run successfully.\n",
      "  exit code: 1\n",
      "  \n",
      "  [58 lines of output]\n",
      "  Traceback (most recent call last):\n",
      "    File \"C:\\Users\\shara\\AppData\\Local\\Temp\\pip-build-env-egz_e_dr\\overlay\\Lib\\site-packages\\setuptools\\_vendor\\packaging\\requirements.py\", line 36, in __init__\n",
      "      parsed = _parse_requirement(requirement_string)\n",
      "               ^^^^^^^^^^^^^^^^^^^^^^^^^^^^^^^^^^^^^^\n",
      "    File \"C:\\Users\\shara\\AppData\\Local\\Temp\\pip-build-env-egz_e_dr\\overlay\\Lib\\site-packages\\setuptools\\_vendor\\packaging\\_parser.py\", line 62, in parse_requirement\n",
      "      return _parse_requirement(Tokenizer(source, rules=DEFAULT_RULES))\n",
      "             ^^^^^^^^^^^^^^^^^^^^^^^^^^^^^^^^^^^^^^^^^^^^^^^^^^^^^^^^^^\n",
      "    File \"C:\\Users\\shara\\AppData\\Local\\Temp\\pip-build-env-egz_e_dr\\overlay\\Lib\\site-packages\\setuptools\\_vendor\\packaging\\_parser.py\", line 80, in _parse_requirement\n",
      "      url, specifier, marker = _parse_requirement_details(tokenizer)\n",
      "                               ^^^^^^^^^^^^^^^^^^^^^^^^^^^^^^^^^^^^^\n",
      "    File \"C:\\Users\\shara\\AppData\\Local\\Temp\\pip-build-env-egz_e_dr\\overlay\\Lib\\site-packages\\setuptools\\_vendor\\packaging\\_parser.py\", line 124, in _parse_requirement_details\n",
      "      marker = _parse_requirement_marker(\n",
      "               ^^^^^^^^^^^^^^^^^^^^^^^^^^\n",
      "    File \"C:\\Users\\shara\\AppData\\Local\\Temp\\pip-build-env-egz_e_dr\\overlay\\Lib\\site-packages\\setuptools\\_vendor\\packaging\\_parser.py\", line 145, in _parse_requirement_marker\n",
      "      tokenizer.raise_syntax_error(\n",
      "    File \"C:\\Users\\shara\\AppData\\Local\\Temp\\pip-build-env-egz_e_dr\\overlay\\Lib\\site-packages\\setuptools\\_vendor\\packaging\\_tokenizer.py\", line 167, in raise_syntax_error\n",
      "      raise ParserSyntaxError(\n",
      "  packaging._tokenizer.ParserSyntaxError: Expected end or semicolon (after name and no valid version specifier)\n",
      "      python_version>\"3.7\"\n",
      "                    ^\n",
      "  \n",
      "  The above exception was the direct cause of the following exception:\n",
      "  \n",
      "  Traceback (most recent call last):\n",
      "    File \"D:\\JupyterNotebooks\\ImageClassification\\imageclassification\\Lib\\site-packages\\pip\\_vendor\\pyproject_hooks\\_in_process\\_in_process.py\", line 353, in <module>\n",
      "      main()\n",
      "    File \"D:\\JupyterNotebooks\\ImageClassification\\imageclassification\\Lib\\site-packages\\pip\\_vendor\\pyproject_hooks\\_in_process\\_in_process.py\", line 335, in main\n",
      "      json_out['return_val'] = hook(**hook_input['kwargs'])\n",
      "                               ^^^^^^^^^^^^^^^^^^^^^^^^^^^^\n",
      "    File \"D:\\JupyterNotebooks\\ImageClassification\\imageclassification\\Lib\\site-packages\\pip\\_vendor\\pyproject_hooks\\_in_process\\_in_process.py\", line 118, in get_requires_for_build_wheel\n",
      "      return hook(config_settings)\n",
      "             ^^^^^^^^^^^^^^^^^^^^^\n",
      "    File \"C:\\Users\\shara\\AppData\\Local\\Temp\\pip-build-env-egz_e_dr\\overlay\\Lib\\site-packages\\setuptools\\build_meta.py\", line 327, in get_requires_for_build_wheel\n",
      "      return self._get_build_requires(config_settings, requirements=[])\n",
      "             ^^^^^^^^^^^^^^^^^^^^^^^^^^^^^^^^^^^^^^^^^^^^^^^^^^^^^^^^^^\n",
      "    File \"C:\\Users\\shara\\AppData\\Local\\Temp\\pip-build-env-egz_e_dr\\overlay\\Lib\\site-packages\\setuptools\\build_meta.py\", line 297, in _get_build_requires\n",
      "      self.run_setup()\n",
      "    File \"C:\\Users\\shara\\AppData\\Local\\Temp\\pip-build-env-egz_e_dr\\overlay\\Lib\\site-packages\\setuptools\\build_meta.py\", line 497, in run_setup\n",
      "      super().run_setup(setup_script=setup_script)\n",
      "    File \"C:\\Users\\shara\\AppData\\Local\\Temp\\pip-build-env-egz_e_dr\\overlay\\Lib\\site-packages\\setuptools\\build_meta.py\", line 313, in run_setup\n",
      "      exec(code, locals())\n",
      "    File \"<string>\", line 40, in <module>\n",
      "    File \"C:\\Users\\shara\\AppData\\Local\\Temp\\pip-build-env-egz_e_dr\\overlay\\Lib\\site-packages\\setuptools\\__init__.py\", line 107, in setup\n",
      "      _install_setup_requires(attrs)\n",
      "    File \"C:\\Users\\shara\\AppData\\Local\\Temp\\pip-build-env-egz_e_dr\\overlay\\Lib\\site-packages\\setuptools\\__init__.py\", line 78, in _install_setup_requires\n",
      "      dist.parse_config_files(ignore_option_errors=True)\n",
      "    File \"C:\\Users\\shara\\AppData\\Local\\Temp\\pip-build-env-egz_e_dr\\overlay\\Lib\\site-packages\\setuptools\\dist.py\", line 605, in parse_config_files\n",
      "      self._finalize_requires()\n",
      "    File \"C:\\Users\\shara\\AppData\\Local\\Temp\\pip-build-env-egz_e_dr\\overlay\\Lib\\site-packages\\setuptools\\dist.py\", line 339, in _finalize_requires\n",
      "      self._normalize_requires()\n",
      "    File \"C:\\Users\\shara\\AppData\\Local\\Temp\\pip-build-env-egz_e_dr\\overlay\\Lib\\site-packages\\setuptools\\dist.py\", line 354, in _normalize_requires\n",
      "      self.install_requires = list(map(str, _reqs.parse(install_requires)))\n",
      "                              ^^^^^^^^^^^^^^^^^^^^^^^^^^^^^^^^^^^^^^^^^^^^^\n",
      "    File \"C:\\Users\\shara\\AppData\\Local\\Temp\\pip-build-env-egz_e_dr\\overlay\\Lib\\site-packages\\setuptools\\_vendor\\packaging\\requirements.py\", line 38, in __init__\n",
      "      raise InvalidRequirement(str(e)) from e\n",
      "  packaging.requirements.InvalidRequirement: Expected end or semicolon (after name and no valid version specifier)\n",
      "      python_version>\"3.7\"\n",
      "                    ^\n",
      "  [end of output]\n",
      "  \n",
      "  note: This error originates from a subprocess, and is likely not a problem with pip.\n",
      "error: subprocess-exited-with-error\n",
      "\n",
      "Getting requirements to build wheel did not run successfully.\n",
      "exit code: 1\n",
      "\n",
      "See above for output.\n",
      "\n",
      "note: This error originates from a subprocess, and is likely not a problem with pip.\n"
     ]
    }
   ],
   "source": [
    "!pip install tensorflow tensorflow-gpu opencv-python matplotlib"
   ]
  },
  {
   "cell_type": "code",
   "execution_count": null,
   "id": "e779aa2d-fbd1-433f-8f93-d9501a14f612",
   "metadata": {},
   "outputs": [],
   "source": []
  }
 ],
 "metadata": {
  "kernelspec": {
   "display_name": "imageclassification",
   "language": "python",
   "name": "imageclassification"
  },
  "language_info": {
   "codemirror_mode": {
    "name": "ipython",
    "version": 3
   },
   "file_extension": ".py",
   "mimetype": "text/x-python",
   "name": "python",
   "nbconvert_exporter": "python",
   "pygments_lexer": "ipython3",
   "version": "3.12.4"
  }
 },
 "nbformat": 4,
 "nbformat_minor": 5
}
