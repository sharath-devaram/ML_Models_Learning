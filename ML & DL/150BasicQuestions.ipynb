{
 "cells": [
  {
   "cell_type": "raw",
   "id": "eeeac21b-7fc7-4582-b1f4-223bf86695b9",
   "metadata": {},
   "source": [
    "Question-1: Level 1\n",
    "\n",
    "Question: Write a program which will find all such numbers which are divisible by 7 but are not a multiple of 5, between 2000 and 3200 (both included). The numbers obtained should be printed in a comma-separated sequence on a single line.\n",
    "\n",
    "Hints: Consider use range(#begin, #end) method"
   ]
  },
  {
   "cell_type": "code",
   "execution_count": 4,
   "id": "a0ccafd6-b56e-492c-ab75-ed3ba43ca067",
   "metadata": {},
   "outputs": [
    {
     "name": "stdout",
     "output_type": "stream",
     "text": [
      "2002,2009,2016,2023,2037,2044,2051,2058,2072,2079,2086,2093,2107,2114,2121,2128,2142,2149,2156,2163,2177,2184,2191,2198,2212,2219,2226,2233,2247,2254,2261,2268,2282,2289,2296,2303,2317,2324,2331,2338,2352,2359,2366,2373,2387,2394,2401,2408,2422,2429,2436,2443,2457,2464,2471,2478,2492,2499,2506,2513,2527,2534,2541,2548,2562,2569,2576,2583,2597,2604,2611,2618,2632,2639,2646,2653,2667,2674,2681,2688,2702,2709,2716,2723,2737,2744,2751,2758,2772,2779,2786,2793,2807,2814,2821,2828,2842,2849,2856,2863,2877,2884,2891,2898,2912,2919,2926,2933,2947,2954,2961,2968,2982,2989,2996,3003,3017,3024,3031,3038,3052,3059,3066,3073,3087,3094,3101,3108,3122,3129,3136,3143,3157,3164,3171,3178,3192,3199,"
     ]
    }
   ],
   "source": [
    "def sample_fun(start_range, stop_range):\n",
    "    for i in range(start_range, stop_range+1):\n",
    "        if i%7 ==0 and i%5!=0:\n",
    "            print(i, end=\",\")\n",
    "sample_fun(2000, 3200)"
   ]
  },
  {
   "cell_type": "raw",
   "id": "d431ce66-c0a1-4789-ad75-7b943084f797",
   "metadata": {},
   "source": [
    "Question-2 Level 1\n",
    "\n",
    "Question: Write a program which can compute the factorial of a given numbers. The results should be printed in a comma-separated sequence on a single line. Suppose the following input is supplied to the program: 8 Then, the output should be: 40320\n",
    "\n",
    "Hints: In case of input data being supplied to the question, it should be assumed to be a console input."
   ]
  },
  {
   "cell_type": "code",
   "execution_count": 5,
   "id": "cf39c861-5bb5-48c0-bfe0-7de56b4f586f",
   "metadata": {},
   "outputs": [
    {
     "name": "stdout",
     "output_type": "stream",
     "text": [
      "40320\n"
     ]
    }
   ],
   "source": [
    "import math\n",
    "\n",
    "print(math.factorial(8))"
   ]
  },
  {
   "cell_type": "code",
   "execution_count": 6,
   "id": "55b2a7ce-0174-4222-a426-da3b335bcaad",
   "metadata": {},
   "outputs": [
    {
     "name": "stdout",
     "output_type": "stream",
     "text": [
      "40320\n"
     ]
    }
   ],
   "source": [
    "def fact_num(number):\n",
    "    if number ==0 or number==1:\n",
    "        return 1\n",
    "    else:\n",
    "        return number*fact_num(number-1)\n",
    "\n",
    "print(fact_num(8))"
   ]
  },
  {
   "cell_type": "raw",
   "id": "5aa0e2f5-cce4-4255-9512-0b28d1a1a6b0",
   "metadata": {},
   "source": [
    "Question-3 Level 1\n",
    "\n",
    "Question: With a given integral number n, write a program to generate a dictionary that contains (i, i*i) such that is an integral number between 1 and n (both included). and then the program should print the dictionary. Suppose the following input is supplied to the program: 8 Then, the output should be: {1: 1, 2: 4, 3: 9, 4: 16, 5: 25, 6: 36, 7: 49, 8: 64}\n",
    "\n",
    "Hints: In case of input data being supplied to the question, it should be assumed to be a console input. Consider use dict()"
   ]
  },
  {
   "cell_type": "code",
   "execution_count": 7,
   "id": "21eee9d1-c467-452a-9ff4-ca77bacd969e",
   "metadata": {},
   "outputs": [
    {
     "name": "stdout",
     "output_type": "stream",
     "text": [
      "{1: 1, 2: 4, 3: 9, 4: 16, 5: 25, 6: 36, 7: 49, 8: 64}\n"
     ]
    }
   ],
   "source": [
    "def gen_dict(start_range, stop_range):\n",
    "    answer={}\n",
    "    for i in range(start_range, stop_range+1):\n",
    "        answer[i]=i**2\n",
    "    return answer\n",
    "\n",
    "print(gen_dict(1,8))\n",
    "        "
   ]
  },
  {
   "cell_type": "raw",
   "id": "7e9f01ca-7687-400a-9d52-3d25814536ef",
   "metadata": {},
   "source": [
    "Question 4 Level 1\n",
    "\n",
    "Question: Write a program which accepts a sequence of comma-separated numbers from console and generate a list and a tuple which contains every number. Suppose the following input is supplied to the program: 34,67,55,33,12,98 Then, the output should be: ['34', '67', '55', '33', '12', '98'] ('34', '67', '55', '33', '12', '98')\n",
    "\n",
    "Hints: In case of input data being supplied to the question, it should be assumed to be a console input. tuple() method can convert list to tuple"
   ]
  },
  {
   "cell_type": "code",
   "execution_count": 13,
   "id": "d4d4d187-3121-4de1-8d88-57177488a479",
   "metadata": {},
   "outputs": [
    {
     "name": "stdin",
     "output_type": "stream",
     "text": [
      "Enter a string..:  34,67,55,33,12,98\n"
     ]
    },
    {
     "name": "stdout",
     "output_type": "stream",
     "text": [
      "['34', '67', '55', '33', '12', '98'] ('34', '67', '55', '33', '12', '98')\n"
     ]
    }
   ],
   "source": [
    "def csv_returns(st):\n",
    "    return st.split(\",\"), tuple(st.split(\",\"))#this will return a tuple.... multiple return are formed as tuples..\n",
    "\n",
    "console_string_input=input(\"Enter a string..: \")\n",
    "print(csv_returns(console_string_input)[0],csv_returns(console_string_input)[1])\n"
   ]
  },
  {
   "cell_type": "raw",
   "id": "e213dea6-7deb-45ee-b01e-d73cb5bf5f51",
   "metadata": {},
   "source": [
    "Question 5 Level 1\n",
    "\n",
    "Question: Define a class which has at least two methods: getString: to get a string from console input printString: to print the string in upper case. Also please include simple test function to test the class methods.\n",
    "\n",
    "Hints: Use init method to construct some parameters"
   ]
  },
  {
   "cell_type": "code",
   "execution_count": 19,
   "id": "039e5099-7fff-438e-9961-4b053e587f59",
   "metadata": {},
   "outputs": [
    {
     "name": "stdin",
     "output_type": "stream",
     "text": [
      "Enter a string from get methods:  hint\n"
     ]
    },
    {
     "name": "stdout",
     "output_type": "stream",
     "text": [
      "hint\n",
      "HINT from printString\n"
     ]
    }
   ],
   "source": [
    "class Dummy():\n",
    "    def __init__(self):\n",
    "        pass\n",
    "    def getString(self):\n",
    "        self.st=input(\"Enter a string from get methods: \")\n",
    "        return self.st\n",
    "    def printString(self):\n",
    "        print(self.st.upper()+\" from printString\")\n",
    "\n",
    "\n",
    "obj=Dummy()\n",
    "print(obj.getString())\n",
    "obj.printString()"
   ]
  },
  {
   "cell_type": "raw",
   "id": "442796c4-4d04-4f83-90ea-186953ae1ede",
   "metadata": {},
   "source": [
    "Question 6 Level 2\n",
    "\n",
    "Question: Write a program that calculates and prints the value according to the given formula: Q = Square root of [(2 * C * D)/H] Following are the fixed values of C and H: C is 50. H is 30. D is the variable whose values should be input to your program in a comma-separated sequence. Example Let us assume the following comma separated input sequence is given to the program: 100,150,180 The output of the program should be: 18,22,24\n",
    "\n",
    "Hints: If the output received is in decimal form, it should be rounded off to its nearest value (for example, if the output received is 26.0, it should be printed as 26) In case of input data being supplied to the question, it should be assumed to be a console input."
   ]
  },
  {
   "cell_type": "code",
   "execution_count": 22,
   "id": "c1f5ddae-f7cd-4b2e-a814-a281a07dcae7",
   "metadata": {},
   "outputs": [
    {
     "name": "stdin",
     "output_type": "stream",
     "text": [
      "Enter num sequence:  100,150,180\n"
     ]
    },
    {
     "name": "stdout",
     "output_type": "stream",
     "text": [
      "18,22,24,"
     ]
    }
   ],
   "source": [
    "#given formula is \n",
    "from math import sqrt\n",
    "C,H = 50, 30\n",
    "\n",
    "def formula_cal(D):\n",
    "    return int(sqrt((2*C*D)/H))\n",
    "\n",
    "list_of_numbers=input(\"Enter num sequence: \").split(\",\")\n",
    "for num in list_of_numbers:\n",
    "    print(formula_cal(int(num)),end=\",\")"
   ]
  },
  {
   "cell_type": "raw",
   "id": "ba8bc8bd-3aaf-422f-b5e7-dde4429d18cf",
   "metadata": {},
   "source": [
    "Question 7 Level 2\n",
    "\n",
    "Question: Write a program which takes 2 digits, X,Y as input and generates a 2-dimensional array. The element value in the i-th row and j-th column of the array should be i*j. Note: i=0,1.., X-1; j=0,1,..,Y-1. Example Suppose the following inputs are given to the program: 3,5 Then, the output of the program should be: [[0, 0, 0, 0, 0], [0, 1, 2, 3, 4], [0, 2, 4, 6, 8]]\n",
    "\n",
    "Hints: Note: In case of input data being supplied to the question, it should be assumed to be a console input in a comma-separated form."
   ]
  },
  {
   "cell_type": "code",
   "execution_count": 31,
   "id": "65f639e6-1ff9-4f6f-bec6-180434d0f6c9",
   "metadata": {},
   "outputs": [
    {
     "name": "stdout",
     "output_type": "stream",
     "text": [
      "[[0, 0, 0, 0, 0], [0, 1, 2, 3, 4], [0, 2, 4, 6, 8]]\n"
     ]
    }
   ],
   "source": [
    "def TwoDArray(X,Y):\n",
    "    sample_array=[[0 for i in range(0,Y)] for i in range(0, X)]\n",
    "    for i in range(0,X):\n",
    "        for j in range(0,Y):\n",
    "           sample_array[i][j]=i*j\n",
    "    return sample_array\n",
    "\n",
    "print(TwoDArray(3,5))\n"
   ]
  },
  {
   "cell_type": "raw",
   "id": "2759b18f-063a-409b-b8ba-9e0aebf8de88",
   "metadata": {},
   "source": [
    "Question 8 Level 2\n",
    "\n",
    "Question: Write a program that accepts a comma separated sequence of words as input and prints the words in a comma-separated sequence after sorting them alphabetically. Suppose the following input is supplied to the program: without,hello,bag,world Then, the output should be: bag,hello,without,world\n",
    "\n",
    "Hints: In case of input data being supplied to the question, it should be assumed to be a console input."
   ]
  },
  {
   "cell_type": "code",
   "execution_count": 34,
   "id": "5c5af5cc-c92b-4063-a346-a15233db16a3",
   "metadata": {},
   "outputs": [
    {
     "name": "stdin",
     "output_type": "stream",
     "text": [
      "Enter a string..:  without,hello,bag,world\n"
     ]
    },
    {
     "name": "stdout",
     "output_type": "stream",
     "text": [
      "['bag', 'hello', 'without', 'world']\n"
     ]
    }
   ],
   "source": [
    "console_input_string=input(\"Enter a string..: \").split(\",\")\n",
    "console_input_string.sort()\n",
    "print(console_input_string)"
   ]
  },
  {
   "cell_type": "raw",
   "id": "c2054f95-1737-405f-80c9-2238a6c5b1df",
   "metadata": {},
   "source": [
    "Question:9 Level 2\n",
    "\n",
    "Question: Write a program that accepts sequence of lines as input and prints the lines after making all characters in the sentence capitalized. Suppose the following input is supplied to the program: Hello world Practice makes perfect Then, the output should be: HELLO WORLD PRACTICE MAKES PERFECT\n",
    "\n",
    "Hints: In case of input data being supplied to the question, it should be assumed to be a console input."
   ]
  },
  {
   "cell_type": "code",
   "execution_count": 35,
   "id": "094d6640-bf89-4845-b05e-543b54431d1f",
   "metadata": {},
   "outputs": [
    {
     "name": "stdout",
     "output_type": "stream",
     "text": [
      "HELLO WORLD PRACTICE MAKES PERFECT\n"
     ]
    }
   ],
   "source": [
    "s1=\"Hello world Practice makes perfect\"\n",
    "print(s1.upper())"
   ]
  },
  {
   "cell_type": "code",
   "execution_count": 43,
   "id": "4f6d7853-b6c9-42fa-b4bb-a891937aab71",
   "metadata": {},
   "outputs": [
    {
     "name": "stdout",
     "output_type": "stream",
     "text": [
      "THIS IS FIRST LINE\n",
      "----SECOND LINE\n",
      "----THIRD LINE\n",
      "----FOURTH LINE----"
     ]
    }
   ],
   "source": [
    "with open(r\"D:/JupyterNotebooks/sample.txt\",\"r\")as source_file:\n",
    "    lines_list=source_file.readlines()\n",
    "    for line in lines_list:\n",
    "        print(line.upper(),end=\"----\")"
   ]
  },
  {
   "cell_type": "raw",
   "id": "f746d9cb-343a-488d-81e9-02b6f9991c01",
   "metadata": {},
   "source": [
    "Question 10 Level 2\n",
    "\n",
    "Question: Write a program that accepts a sequence of whitespace separated words as input and prints the words after removing all duplicate words and sorting them alphanumerically. Suppose the following input is supplied to the program: hello world and practice makes perfect and hello world again Then, the output should be: again and hello makes perfect practice world\n",
    "\n",
    "Hints: In case of input data being supplied to the question, it should be assumed to be a console input. We use set container to remove duplicated data automatically and then use sorted() to sort the data."
   ]
  },
  {
   "cell_type": "code",
   "execution_count": 45,
   "id": "4f1cd221-b2be-44f9-90d6-7c58d58349c1",
   "metadata": {},
   "outputs": [
    {
     "name": "stdin",
     "output_type": "stream",
     "text": [
      "Enter a string:  hello world and practice makes perfect and hello world again Then\n"
     ]
    },
    {
     "name": "stdout",
     "output_type": "stream",
     "text": [
      "['Then', 'again', 'and', 'hello', 'makes', 'perfect', 'practice', 'world'] ['and', 'hello', 'world']\n"
     ]
    }
   ],
   "source": [
    "def remove_duplicates(word_list):\n",
    "    original=[]\n",
    "    duplicates=[]\n",
    "    for word in word_list:\n",
    "        if word not in original:\n",
    "            original.append(word)\n",
    "        elif word not in duplicates:\n",
    "            duplicates.append(word)\n",
    "    original.sort()\n",
    "    return original, duplicates\n",
    "\n",
    "st=input(\"Enter a string: \").split(\" \")\n",
    "print(remove_duplicates(st)[0],remove_duplicates(st)[1])"
   ]
  },
  {
   "cell_type": "raw",
   "id": "befe7223-240d-4983-a56f-ceafa1c0826a",
   "metadata": {},
   "source": [
    "Question 11 Level 2\n",
    "\n",
    "Question: Write a program which accepts a sequence of comma separated 4 digit binary numbers as its input and then check whether they are divisible by 5 or not. The numbers that are divisible by 5 are to be printed in a comma separated sequence. Example: 0100,0011,1010,1001 Then the output should be: 1010 Notes: Assume the data is input by console.\n",
    "\n",
    "Hints: In case of input data being supplied to the question, it should be assumed to be a console input."
   ]
  },
  {
   "cell_type": "code",
   "execution_count": 48,
   "id": "e8001af5-69ae-47e7-80ca-7572a8ad645f",
   "metadata": {},
   "outputs": [
    {
     "name": "stdin",
     "output_type": "stream",
     "text": [
      "Enter binary numbers...:  0100,0011,1010,1001\n"
     ]
    },
    {
     "name": "stdout",
     "output_type": "stream",
     "text": [
      "0100\n",
      "1010\n"
     ]
    }
   ],
   "source": [
    "def check_div_by_five(list_of_numbers):\n",
    "    for num in list_of_numbers:\n",
    "        if int(num)%5 == 0:\n",
    "            yield num\n",
    "numbers=input(\"Enter binary numbers...: \").split(\",\")\n",
    "gen_obj=check_div_by_five(numbers)\n",
    "for i in gen_obj:\n",
    "    print(i)"
   ]
  },
  {
   "cell_type": "raw",
   "id": "2bf23876-9dd9-456d-9923-34bb8b5034c3",
   "metadata": {},
   "source": [
    "Question 12 Level 2\n",
    "\n",
    "Question: Write a program, which will find all such numbers between 1000 and 3000 (both included) such that each digit of the number is an even number. The numbers obtained should be printed in a comma-separated sequence on a single line.\n",
    "\n",
    "Hints: In case of input data being supplied to the question, it should be assumed to be a console input."
   ]
  },
  {
   "cell_type": "code",
   "execution_count": 51,
   "id": "0b6a11d7-993f-4c0b-9dbd-74102dc87723",
   "metadata": {},
   "outputs": [
    {
     "name": "stdout",
     "output_type": "stream",
     "text": [
      "2000,2002,2004,2006,2008,2020,2022,2024,2026,2028,2040,2042,2044,2046,2048,2060,2062,2064,2066,2068,2080,2082,2084,2086,2088,2200,2202,2204,2206,2208,2220,2222,2224,2226,2228,2240,2242,2244,2246,2248,2260,2262,2264,2266,2268,2280,2282,2284,2286,2288,2400,2402,2404,2406,2408,2420,2422,2424,2426,2428,2440,2442,2444,2446,2448,2460,2462,2464,2466,2468,2480,2482,2484,2486,2488,2600,2602,2604,2606,2608,2620,2622,2624,2626,2628,2640,2642,2644,2646,2648,2660,2662,2664,2666,2668,2680,2682,2684,2686,2688,2800,2802,2804,2806,2808,2820,2822,2824,2826,2828,2840,2842,2844,2846,2848,2860,2862,2864,2866,2868,2880,2882,2884,2886,2888,"
     ]
    }
   ],
   "source": [
    "def fun1(start_range,stop_range):\n",
    "    answers=[]\n",
    "    for i in range(start_range, stop_range+1):\n",
    "        st=str(i)\n",
    "        if int(st[0])%2==0 and int(st[1])%2==0 and int(st[2])%2==0 and int(st[3])%2==0:\n",
    "            answers.append(st)\n",
    "    for i in answers:\n",
    "        print(i,end=',')\n",
    "\n",
    "fun1(1000,3000)"
   ]
  },
  {
   "cell_type": "raw",
   "id": "fd67d9d3-d97a-4da9-8659-11af09d0edad",
   "metadata": {},
   "source": [
    "Question 13 Level 2\n",
    "\n",
    "Question: Write a program that accepts a sentence and calculate the number of letters and digits. Suppose the following input is supplied to the program: hello world! 123 Then, the output should be: LETTERS 10 DIGITS 3\n",
    "\n",
    "Hints: In case of input data being supplied to the question, it should be assumed to be a console input."
   ]
  },
  {
   "cell_type": "code",
   "execution_count": 52,
   "id": "8a84f8d1-64fe-4f45-90a7-dba5a4c9dd85",
   "metadata": {},
   "outputs": [
    {
     "name": "stdout",
     "output_type": "stream",
     "text": [
      "10 3\n"
     ]
    }
   ],
   "source": [
    "def char_count(st):\n",
    "    num_of_chars=0\n",
    "    num_of_digits=0\n",
    "    for char in st:\n",
    "        if char.isdigit():\n",
    "            num_of_digits+=1\n",
    "        elif char.isalpha():\n",
    "            num_of_chars+=1\n",
    "    print(num_of_chars,num_of_digits)\n",
    "\n",
    "char_count(\"hello world! 123\")"
   ]
  },
  {
   "cell_type": "raw",
   "id": "c5bece0b-005d-4070-8c14-e4f76a887054",
   "metadata": {},
   "source": [
    "Question 14 Level 2\n",
    "\n",
    "Question: Write a program that accepts a sentence and calculate the number of upper case letters and lower case letters. Suppose the following input is supplied to the program: Hello world! Then, the output should be: UPPER CASE 1 LOWER CASE 9\n",
    "\n",
    "Hints: In case of input data being supplied to the question, it should be assumed to be a console input."
   ]
  },
  {
   "cell_type": "code",
   "execution_count": 53,
   "id": "58e655aa-092e-41db-888c-b7732ae8c228",
   "metadata": {},
   "outputs": [
    {
     "name": "stdout",
     "output_type": "stream",
     "text": [
      "1 9\n"
     ]
    }
   ],
   "source": [
    "def cal_count(st):\n",
    "    upper=0\n",
    "    lower=0\n",
    "    for char in st:\n",
    "        if char.isupper():\n",
    "            upper+=1\n",
    "        elif char.islower():\n",
    "            lower+=1\n",
    "    print(upper,lower)\n",
    "\n",
    "cal_count(\"Hello world!\")"
   ]
  },
  {
   "cell_type": "raw",
   "id": "3e157a3e-beca-46b3-b855-06b04769b5fd",
   "metadata": {},
   "source": [
    "Question 15 Level 2\n",
    "\n",
    "Question: Write a program that computes the value of a+aa+aaa+aaaa with a given digit as the value of a. Suppose the following input is supplied to the program: 9 Then, the output should be: 11106\n",
    "\n",
    "Hints: In case of input data being supplied to the question, it should be assumed to be a console input."
   ]
  },
  {
   "cell_type": "code",
   "execution_count": 55,
   "id": "2f234606-ff1f-4e39-a6a2-d14db9c9af71",
   "metadata": {},
   "outputs": [
    {
     "name": "stdout",
     "output_type": "stream",
     "text": [
      "11106\n"
     ]
    }
   ],
   "source": [
    "def cal_pattern(a):\n",
    "    return int(a)+int(2*a)+int(3*a)+int(4*a)\n",
    "\n",
    "print(cal_pattern(\"9\"))"
   ]
  },
  {
   "cell_type": "raw",
   "id": "a06dd78f-555f-4338-a50e-0020a66a55c2",
   "metadata": {},
   "source": [
    "Question 16 Level 2\n",
    "\n",
    "Question: Use a list comprehension to square each odd number in a list. The list is input by a sequence of comma-separated numbers. Suppose the following input is supplied to the program: 1,2,3,4,5,6,7,8,9 Then, the output should be: 1,3,5,7,9\n",
    "\n",
    "Hints: In case of input data being supplied to the question, it should be assumed to be a console input."
   ]
  },
  {
   "cell_type": "code",
   "execution_count": 58,
   "id": "9c1fce8f-d26d-421f-bf2b-d64b61f5fa43",
   "metadata": {},
   "outputs": [
    {
     "name": "stdout",
     "output_type": "stream",
     "text": [
      "[1, 3, 5, 7, 9]\n"
     ]
    }
   ],
   "source": [
    "k=[1,2,3,4,5,6,7,8,9]\n",
    "square_list=[i for i in k if i%2!=0]\n",
    "print(square_list)"
   ]
  },
  {
   "cell_type": "raw",
   "id": "ba832997-4aab-4069-8645-d930ef0c0b21",
   "metadata": {},
   "source": [
    "Question 17 Level 2\n",
    "\n",
    "Question: Write a program that computes the net amount of a bank account based a transaction log from console input. The transaction log format is shown as following: D 100 W 200\n",
    "\n",
    "D means deposit while W means withdrawal. Suppose the following input is supplied to the program: D 300 D 300 W 200 D 100 Then, the output should be: 500\n",
    "\n",
    "Hints: In case of input data being supplied to the question, it should be assumed to be a console input."
   ]
  },
  {
   "cell_type": "code",
   "execution_count": 60,
   "id": "afa0f5e4-0da1-4efb-bb1f-b78cc9b779e4",
   "metadata": {},
   "outputs": [
    {
     "data": {
      "text/plain": [
       "500"
      ]
     },
     "execution_count": 60,
     "metadata": {},
     "output_type": "execute_result"
    }
   ],
   "source": [
    "def bal_amount(st):\n",
    "    d=0\n",
    "    w=0\n",
    "    acc_details=st.split(\" \")\n",
    "    for i in range(len(acc_details)):\n",
    "        if acc_details[i]=='D':\n",
    "            d+=int(acc_details[i+1])\n",
    "        elif acc_details[i]=='W':\n",
    "            w+=int(acc_details[i+1])\n",
    "    return d-w\n",
    "\n",
    "bal_amount(\"D 300 D 300 W 200 D 100\")\n",
    "            "
   ]
  },
  {
   "cell_type": "raw",
   "id": "91d5f196-b2fb-401c-bfe7-d27fcb14beca",
   "metadata": {},
   "source": [
    "Question 18\n",
    "Level 3\n",
    "\n",
    "Question: A website requires the users to input username and password to register. Write a program to check the validity of password input by users. Following are the criteria for checking the password:\n",
    "\n",
    "At least 1 letter between [a-z] At least 1 number between [0-9] At least 1 letter between [A-Z] At least 1 character from [$#@] Minimum length of transaction password: 6 Maximum length of transaction password: 12 Your program should accept a sequence of comma separated passwords and will check them according to the above criteria. Passwords that match the criteria are to be printed, each separated by a comma. Example If the following passwords are given as input to the program: ABd1234@1,a F1#,2w3E*,2We3345 Then, the output of the program should be: ABd1234@1 Hints: In case of input data being supplied to the question, it should be assumed to be a console input."
   ]
  },
  {
   "cell_type": "code",
   "execution_count": 61,
   "id": "37427f5b-b57b-4eb0-9b77-033a9e895693",
   "metadata": {},
   "outputs": [
    {
     "name": "stdin",
     "output_type": "stream",
     "text": [
      "Enter password data.. :  ABd1234@1,a F1#,2w3E*,2We3345\n"
     ]
    },
    {
     "name": "stdout",
     "output_type": "stream",
     "text": [
      "['ABd1234@1']\n"
     ]
    }
   ],
   "source": [
    "import re\n",
    "def password_check(password_list):\n",
    "    valid_list=[]\n",
    "    for password in password_list:\n",
    "        check_1=re.search(\"[a-z]\",password)\n",
    "        check_2=re.search(\"[A-Z]\",password)\n",
    "        check_3=re.search(\"[0-9]\",password)\n",
    "        check_4=re.search(\"[$#@]\",password)\n",
    "        length=len(password)\n",
    "        \n",
    "        #print(password_1)\n",
    "        if check_1 is not None and check_2 is not None and check_3 is not None and check_4 is not None and 6<=length<=12:\n",
    "            valid_list.append(password)\n",
    "        else:\n",
    "            continue\n",
    "    return valid_list\n",
    "\n",
    "password_data=input(\"Enter password data.. : \").split(\",\")\n",
    "answer=password_check(password_data)\n",
    "print(answer)"
   ]
  },
  {
   "cell_type": "raw",
   "id": "5a88dddb-23d2-4134-952a-007b83cb7080",
   "metadata": {},
   "source": [
    "Question 19 Level 3\n",
    "\n",
    "Question: You are required to write a program to sort the (name, age, height) tuples by ascending order where name is string, age and height are numbers. The tuples are input by console. The sort criteria is: 1: Sort based on name; 2: Then sort based on age; 3: Then sort by score. The priority is that name > age > score. If the following tuples are given as input to the program: Tom,19,80 John,20,90 Jony,17,91 Jony,17,93 Json,21,85 Then, the output of the program should be: [('John', '20', '90'), ('Jony', '17', '91'), ('Jony', '17', '93'), ('Json', '21', '85'), ('Tom', '19', '80')]\n",
    "\n",
    "Hints: In case of input data being supplied to the question, it should be assumed to be a console input. We use itemgetter to enable multiple sort keys."
   ]
  },
  {
   "cell_type": "code",
   "execution_count": 3,
   "id": "88eec97c-b85d-4c6f-8c28-662cb918db70",
   "metadata": {},
   "outputs": [
    {
     "name": "stdin",
     "output_type": "stream",
     "text": [
      "Enter data here:  'John', '20', '90'\n",
      "Enter data here:  'Jony', '17', '91'\n",
      "Enter data here:  'Jony', '17', '93'\n",
      "Enter data here:  'Json', '21', '85'\n",
      "Enter data here:  'Tom', '19', '80'\n",
      "Enter data here:  \n"
     ]
    },
    {
     "name": "stdout",
     "output_type": "stream",
     "text": [
      "[(\"'John'\", \" '20'\", \" '90'\"), (\"'Jony'\", \" '17'\", \" '91'\"), (\"'Jony'\", \" '17'\", \" '93'\"), (\"'Json'\", \" '21'\", \" '85'\"), (\"'Tom'\", \" '19'\", \" '80'\")]\n"
     ]
    }
   ],
   "source": [
    "from operator import itemgetter\n",
    "\n",
    "def re_order_tuples(list_data):\n",
    "    sorted(list_data, key=itemgetter(0,1,2),reverse=True)\n",
    "    return list_data\n",
    "data=[]\n",
    "while True:\n",
    "    s=input(\"Enter data here: \")\n",
    "    if not s:\n",
    "        break\n",
    "    else:\n",
    "        s=s.split(\",\")\n",
    "        s=tuple(s)\n",
    "        data.append(s)\n",
    "        continue\n",
    "\n",
    "print(re_order_tuples(data))"
   ]
  },
  {
   "cell_type": "raw",
   "id": "37ae8b87-0293-4d1a-b668-c1613eb004c1",
   "metadata": {},
   "source": [
    "Question 20 Level 3\n",
    "\n",
    "Question: Define a class with a generator which can iterate the numbers, which are divisible by 7, between a given range 0 and n.\n",
    "\n",
    "Hints: Consider use yield"
   ]
  },
  {
   "cell_type": "code",
   "execution_count": 63,
   "id": "691560f4-def4-4121-a4c8-de0e818077e8",
   "metadata": {},
   "outputs": [
    {
     "name": "stdout",
     "output_type": "stream",
     "text": [
      "<generator object gen_pro.ite_num at 0x0000017E717E9540>\n",
      "7,14,21,28,35,42,49,56,63,"
     ]
    }
   ],
   "source": [
    "class gen_pro():\n",
    "    def ite_num(self,num):\n",
    "        for i in range(1, num):\n",
    "            if i%7==0:\n",
    "                yield i\n",
    "obj=gen_pro()\n",
    "answer=obj.ite_num(70)\n",
    "print(answer)\n",
    "for i in answer:\n",
    "    print(i,end=\",\")"
   ]
  },
  {
   "cell_type": "raw",
   "id": "f89a1607-f4ad-4fd5-b5ac-7c864d6d4f85",
   "metadata": {},
   "source": [
    "Question 21 Level 3\n",
    "\n",
    "Question A robot moves in a plane starting from the original point (0,0). The robot can move toward UP, DOWN, LEFT and RIGHT with a given steps. The trace of robot movement is shown as the following: UP 5 DOWN 3 LEFT 3 RIGHT 2 ¡­ The numbers after the direction are steps. Please write a program to compute the distance from current position after a sequence of movement and original point. If the distance is a float, then just print the nearest integer. Example: If the following tuples are given as input to the program: UP 5 DOWN 3 LEFT 3 RIGHT 2 Then, the output of the program should be: 2\n",
    "\n",
    "Hints: In case of input data being supplied to the question, it should be assumed to be a console input."
   ]
  },
  {
   "cell_type": "code",
   "execution_count": 64,
   "id": "b42f764b-e41e-463f-ba69-b29552eb20cc",
   "metadata": {},
   "outputs": [
    {
     "name": "stdin",
     "output_type": "stream",
     "text": [
      "Enter the data :  UP 5 DOWN 3 LEFT 3 RIGHT 2\n"
     ]
    },
    {
     "name": "stdout",
     "output_type": "stream",
     "text": [
      "2\n"
     ]
    }
   ],
   "source": [
    "import math\n",
    "def travel_cal(travel_data):\n",
    "    start_point=[0,0]\n",
    "    end_point=[0,0]\n",
    "    for i, value in enumerate(travel_data):\n",
    "        if travel_data[i]==\"UP\":\n",
    "            end_point[1]+=int(travel_data[i+1])\n",
    "        elif travel_data[i]==\"DOWN\":\n",
    "            end_point[1]-=int(travel_data[i+1])\n",
    "        elif travel_data[i]==\"LEFT\":\n",
    "            end_point[0]-=int(travel_data[i+1])\n",
    "        elif travel_data[i]==\"RIGHT\":\n",
    "            end_point[0]+=int(travel_data[i+1])\n",
    "        else:\n",
    "            continue\n",
    "    distance=math.sqrt(((end_point[0]-start_point[0])**2)+((end_point[1]-start_point[1])**2))\n",
    "    return round(distance)\n",
    "\n",
    "travel_data=input(\"Enter the data : \").split(\" \")\n",
    "answer=travel_cal(travel_data)\n",
    "print(answer)"
   ]
  },
  {
   "cell_type": "raw",
   "id": "39031740-b1f4-4939-9e1d-16f9ecfc4b56",
   "metadata": {},
   "source": [
    "Question 22 Level 3\n",
    "\n",
    "Question: Write a program to compute the frequency of the words from the input. The output should output after sorting the key alphanumerically. Suppose the following input is supplied to the program: New to Python or choosing between Python 2 and Python 3? Read Python 2 or Python 3. Then, the output should be: 2:2 3.:1 3?:1 New:1 Python:5 Read:1 and:1 between:1 choosing:1 or:2 to:1\n",
    "\n",
    "Hints In case of input data being supplied to the question, it should be assumed to be a console input."
   ]
  },
  {
   "cell_type": "code",
   "execution_count": 65,
   "id": "301717da-e572-4468-b5c0-fcb4112f42e9",
   "metadata": {},
   "outputs": [
    {
     "name": "stdout",
     "output_type": "stream",
     "text": [
      "{'New': 1, 'to': 1, 'Python': 5, 'or': 2, 'choosing': 1, 'between': 1, '2': 2, 'and': 1, '3?': 1, 'Read': 1, '3.': 1}\n"
     ]
    }
   ],
   "source": [
    "def word_count(st):\n",
    "    st=st.split(\" \")\n",
    "    d={}\n",
    "    for word in st:\n",
    "        if word in d:\n",
    "            d[word]+=1\n",
    "        else:\n",
    "            d[word]=1\n",
    "    print(d)\n",
    "\n",
    "word_count(\"New to Python or choosing between Python 2 and Python 3? Read Python 2 or Python 3.\")"
   ]
  },
  {
   "cell_type": "raw",
   "id": "138b742f-2919-400c-8636-c9463680000c",
   "metadata": {},
   "source": [
    "Question 23 level 1\n",
    "\n",
    "Question: Write a method which can calculate square value of number\n",
    "\n",
    "Hints: Using the ** operator"
   ]
  },
  {
   "cell_type": "code",
   "execution_count": 66,
   "id": "b79ccb15-e5ee-4ed0-82de-ac5df5260238",
   "metadata": {},
   "outputs": [
    {
     "name": "stdout",
     "output_type": "stream",
     "text": [
      "4\n"
     ]
    }
   ],
   "source": [
    "print(2**2)"
   ]
  },
  {
   "cell_type": "raw",
   "id": "3c19d55e-670e-4d68-8633-6b7fd22ed8c3",
   "metadata": {},
   "source": [
    "Question 24 Level 1\n",
    "\n",
    "Question:\n",
    "\n",
    "Python has many built-in functions, and if you do not know how to use it, you can read document online or find some books. But Python has a built-in document function for every built-in functions.\n",
    "\n",
    "Please write a program to print some Python built-in functions documents, such as abs(), int(), raw_input()\n",
    "\n",
    "And add document for your own function Hints: The built-in document method is doc"
   ]
  },
  {
   "cell_type": "code",
   "execution_count": 71,
   "id": "a01b57bb-4e57-41f3-852b-061b380b0e36",
   "metadata": {},
   "outputs": [
    {
     "name": "stdout",
     "output_type": "stream",
     "text": [
      "7 2\n"
     ]
    }
   ],
   "source": [
    "print(abs(-7),int(\"2\"))\n",
    "# st=raw_input()\n",
    "# print(st)"
   ]
  },
  {
   "cell_type": "raw",
   "id": "ee6389f9-441f-4b51-acd4-a4692b485c51",
   "metadata": {},
   "source": [
    "uestion 25 Level 1\n",
    "\n",
    "Question: Define a class, which have a class parameter and have a same instance parameter.\n",
    "\n",
    "Hints: Define a instance parameter, need add it in init method You can init a object with construct parameter or set the value late"
   ]
  },
  {
   "cell_type": "code",
   "execution_count": 78,
   "id": "aeea154a-7596-4963-9eb4-f31da271a3f8",
   "metadata": {},
   "outputs": [
    {
     "name": "stdout",
     "output_type": "stream",
     "text": [
      "5 12\n",
      "12\n"
     ]
    }
   ],
   "source": [
    "class TempClass():\n",
    "    cls_var=10\n",
    "    def __init__(self):\n",
    "        self.var1=5\n",
    "        self.cls_var=12\n",
    "        print(self.var1,self.cls_var)\n",
    "    def hh(cls):\n",
    "        print(cls.cls_var)\n",
    "obj=TempClass()\n",
    "obj.hh()"
   ]
  },
  {
   "cell_type": "raw",
   "id": "79fce384-c422-46f4-a684-96ad623db641",
   "metadata": {},
   "source": [
    "Question 26: Level 1\n",
    "\n",
    "Define a function which can compute the sum of two numbers.\n",
    "\n",
    "Hints: Define a function with two numbers as arguments. You can compute the sum in the function and return the value"
   ]
  },
  {
   "cell_type": "code",
   "execution_count": 4,
   "id": "6d3572b3-b102-4666-8e80-200ce8f436d9",
   "metadata": {},
   "outputs": [
    {
     "data": {
      "text/plain": [
       "3"
      ]
     },
     "execution_count": 4,
     "metadata": {},
     "output_type": "execute_result"
    }
   ],
   "source": [
    "def sum_of_numbers(n1, n2):\n",
    "    return n1+n2\n",
    "\n",
    "sum_of_numbers(1,2)"
   ]
  },
  {
   "cell_type": "raw",
   "id": "2579846e-3858-4d6a-b197-2a0306f2efc9",
   "metadata": {},
   "source": [
    "Question 27 Level 1:\n",
    "\n",
    "Define a function that can convert a integer into a string and print it in console.\n",
    "\n",
    "Hints:\n",
    "\n",
    "Use str() to convert a number to string."
   ]
  },
  {
   "cell_type": "code",
   "execution_count": 5,
   "id": "1a44e13d-4730-4d2c-9917-c7235acdabd3",
   "metadata": {},
   "outputs": [
    {
     "data": {
      "text/plain": [
       "'2'"
      ]
     },
     "execution_count": 5,
     "metadata": {},
     "output_type": "execute_result"
    }
   ],
   "source": [
    "def innt_to_sstri(data):\n",
    "    return str(data)\n",
    "innt_to_sstri(2)"
   ]
  },
  {
   "cell_type": "raw",
   "id": "2e977326-8305-47cf-9fb7-d262fb148c5b",
   "metadata": {},
   "source": [
    "Question 28 Define a function that can convert a integer into a string and print it in console.\n",
    "\n",
    "Hints:\n",
    "\n",
    "Use str() to convert a number to string."
   ]
  },
  {
   "cell_type": "code",
   "execution_count": 6,
   "id": "effd3e25-fda8-46ee-bf01-f18848e3c94b",
   "metadata": {},
   "outputs": [
    {
     "data": {
      "text/plain": [
       "'2'"
      ]
     },
     "execution_count": 6,
     "metadata": {},
     "output_type": "execute_result"
    }
   ],
   "source": [
    "def innt_to_sstri(data):\n",
    "    return str(data)\n",
    "innt_to_sstri(2)"
   ]
  },
  {
   "cell_type": "raw",
   "id": "b84ee3d8-2364-44e5-9a83-2f4475688fbb",
   "metadata": {},
   "source": [
    "Question 29 Lvele1:\n",
    "\n",
    "Define a function that can receive two integral numbers in string form and compute their sum and then print it in console.\n",
    "\n",
    "Hints:\n",
    "\n",
    "Use int() to convert a string to integer."
   ]
  },
  {
   "cell_type": "code",
   "execution_count": 7,
   "id": "288b2f4e-51cb-43c0-abb8-fdb3e6962fd6",
   "metadata": {},
   "outputs": [
    {
     "data": {
      "text/plain": [
       "3"
      ]
     },
     "execution_count": 7,
     "metadata": {},
     "output_type": "execute_result"
    }
   ],
   "source": [
    "def r_two(n1,n2):\n",
    "    return int(n1)+int(n2)\n",
    "r_two('1','2')"
   ]
  },
  {
   "cell_type": "raw",
   "id": "bd920d9e-3510-4b3f-8b89-4e56b53e52fc",
   "metadata": {},
   "source": [
    "Question 30 level 1:\n",
    "\n",
    "Define a function that can accept two strings as input and concatenate them and then print it in console.\n",
    "\n",
    "Hints:\n",
    "\n",
    "Use + to concatenate the strings"
   ]
  },
  {
   "cell_type": "code",
   "execution_count": 8,
   "id": "6c0024da-06f5-41a4-a094-350a0753e54b",
   "metadata": {},
   "outputs": [
    {
     "name": "stdin",
     "output_type": "stream",
     "text": [
      " asdfghj\n",
      " sdfghj\n"
     ]
    },
    {
     "name": "stdout",
     "output_type": "stream",
     "text": [
      "asdfghjsdfghj\n"
     ]
    }
   ],
   "source": [
    "def funn():\n",
    "    s1=input()\n",
    "    s2=input()\n",
    "    print(s1+s2)\n",
    "funn()"
   ]
  },
  {
   "cell_type": "raw",
   "id": "769a691f-0a9f-436c-8e46-e438cc28ce1c",
   "metadata": {},
   "source": [
    "Question 31 level 1:\n",
    "\n",
    "Define a function that can accept two strings as input and print the string with maximum length in console. If two strings have the same length, then the function should print al l strings line by line.\n",
    "\n",
    "Hints:\n",
    "\n",
    "Use len() function to get the length of a string"
   ]
  },
  {
   "cell_type": "code",
   "execution_count": 10,
   "id": "0fd5ab6c-48c5-4b4a-8ef5-d6c8192ff12d",
   "metadata": {},
   "outputs": [
    {
     "data": {
      "text/plain": [
       "'asdf'"
      ]
     },
     "execution_count": 10,
     "metadata": {},
     "output_type": "execute_result"
    }
   ],
   "source": [
    "def funn(s1,s2):\n",
    "    if len(s1)>len(s2):\n",
    "        return s1\n",
    "    elif len(s2)>len(s1):\n",
    "        return s2\n",
    "    elif len(s1)==len(s2):\n",
    "        print(s1, s2)\n",
    "    else:\n",
    "        return 0\n",
    "funn(\"asdf\",\"rgh\")"
   ]
  },
  {
   "cell_type": "raw",
   "id": "44a9bfbd-3eac-4ff6-9ca3-ff139f85e3af",
   "metadata": {},
   "source": [
    "Question 32 level 1:\n",
    "\n",
    "Define a function that can accept an integer number as input and print the \"It is an even number\" if the number is even, otherwise print \"It is an odd number\".\n",
    "\n",
    "Hints:\n",
    "\n",
    "Use % operator to check if a number is even or odd."
   ]
  },
  {
   "cell_type": "code",
   "execution_count": 11,
   "id": "6e2a5609-2db6-4e02-8fc4-c1e8cfde6215",
   "metadata": {},
   "outputs": [
    {
     "name": "stdin",
     "output_type": "stream",
     "text": [
      "enter a number...:  -2\n"
     ]
    },
    {
     "name": "stdout",
     "output_type": "stream",
     "text": [
      "negative even\n"
     ]
    }
   ],
   "source": [
    "num=int(input(\"enter a number...: \"))\n",
    "if num<0:\n",
    "    num=abs(num)\n",
    "    if num%2==0:\n",
    "        print(\"negative even\")\n",
    "    else:\n",
    "        print(\"negative odd\")\n",
    "elif num%2==0 and num>0:\n",
    "    print(\"even\")\n",
    "elif num%2==1 and num>0:\n",
    "    print(\"odd\")\n"
   ]
  },
  {
   "cell_type": "raw",
   "id": "2e729edb-7210-454e-b1aa-f37ca3e62588",
   "metadata": {},
   "source": [
    "Question 34 level 1:\n",
    "\n",
    "Define a function which can print a dictionary where the keys are numbers between 1 and 20 (both included) and the values are square of keys.\n",
    "\n",
    "Hints:\n",
    "\n",
    "Use dict[key]=value pattern to put entry into a dictionary. Use ** operator to get power of a number. Use range() for loops."
   ]
  },
  {
   "cell_type": "code",
   "execution_count": 12,
   "id": "93095bcf-144e-4cd5-b06e-93dad479c16a",
   "metadata": {},
   "outputs": [
    {
     "name": "stdout",
     "output_type": "stream",
     "text": [
      "{0: 0, 1: 1, 2: 4, 3: 9, 4: 16, 5: 25}\n"
     ]
    }
   ],
   "source": [
    "d={}\n",
    "for i in range(0,6):\n",
    "    d[i]=i**2\n",
    "print(d)"
   ]
  },
  {
   "cell_type": "raw",
   "id": "da0c4010-a460-4cae-9d9a-ec6d908e93b8",
   "metadata": {},
   "source": [
    "Question 35 level 1:\n",
    "\n",
    "Define a function which can generate a dictionary where the keys are numbers between 1 and 20 (both included) and the values are square of keys.\n",
    "\n",
    "The function should just print the values only.\n",
    "\n",
    "Hints:\n",
    "\n",
    "Use dict[key]=value pattern to put entry into a dictionary. Use ** operator to get power of a number. Use range() for loops. Use keys() to iterate keys in the dictionary. Also we can use item() to get key/value pairs."
   ]
  },
  {
   "cell_type": "code",
   "execution_count": 13,
   "id": "e6f54f19-3822-4c03-bc6f-e11ec7f56b6b",
   "metadata": {},
   "outputs": [
    {
     "name": "stdout",
     "output_type": "stream",
     "text": [
      "dict_values([0, 1, 4, 9, 16, 25])\n"
     ]
    }
   ],
   "source": [
    "d={}\n",
    "for i in range(0,6):\n",
    "    d[i]=i**2\n",
    "print(d.values())"
   ]
  },
  {
   "cell_type": "raw",
   "id": "af4c4463-2d2c-4111-b584-3f0bf52d223f",
   "metadata": {},
   "source": [
    "Question 36 level 1:\n",
    "\n",
    "Define a function which can generate a dictionary where the keys are numbers between 1 and 20 (both included) and the values are square of keys. The function should just print the keys only.\n",
    "\n",
    "Hints:\n",
    "\n",
    "Use dict[key]=value pattern to put entry into a dictionary. Use ** operator to get power of a number. Use range() for loops. Use keys() to iterate keys in the dictionary. Also we can use item() to get key/value pairs."
   ]
  },
  {
   "cell_type": "code",
   "execution_count": 14,
   "id": "858245e8-7d91-428c-b420-c08e8caca0ce",
   "metadata": {},
   "outputs": [
    {
     "name": "stdout",
     "output_type": "stream",
     "text": [
      "dict_keys([0, 1, 2, 3, 4, 5])\n"
     ]
    }
   ],
   "source": [
    "d={}\n",
    "for i in range(0,6):\n",
    "    d[i]=i**2\n",
    "print(d.keys())"
   ]
  },
  {
   "cell_type": "raw",
   "id": "f24138ea-b722-429f-a9d9-3a8cb8f8e059",
   "metadata": {},
   "source": [
    "Question 37 Define a function which can generate and print a list where the values are square of numbers between 1 and 20 (both included).\n",
    "\n",
    "Hints:\n",
    "\n",
    "Use ** operator to get power of a number. Use range() for loops. Use list.append() to add values into a list."
   ]
  },
  {
   "cell_type": "code",
   "execution_count": 15,
   "id": "9c038b86-da51-41ce-a932-25a5d50c3d21",
   "metadata": {},
   "outputs": [
    {
     "name": "stdout",
     "output_type": "stream",
     "text": [
      "[0, 1, 4, 9, 16, 25]\n"
     ]
    }
   ],
   "source": [
    "ll=[i*i for i in range(0,6)]\n",
    "print(ll)"
   ]
  },
  {
   "cell_type": "raw",
   "id": "a2beab45-2f18-4dc2-9cda-5f3e942920c1",
   "metadata": {},
   "source": [
    "Question 38 Lvele1:\n",
    "\n",
    "Define a function which can generate a list where the values are square of numbers between 1 and 20 (both included). Then the function needs to print the first 5 elements in the list.\n",
    "\n",
    "Hints:\n",
    "\n",
    "Use ** operator to get power of a number. Use range() for loops. Use list.append() to add values into a list. Use [n1:n2] to slice a list"
   ]
  },
  {
   "cell_type": "code",
   "execution_count": 17,
   "id": "19c03fa9-369b-4393-b81a-02dfb750eaaf",
   "metadata": {},
   "outputs": [
    {
     "name": "stdout",
     "output_type": "stream",
     "text": [
      "[1, 4, 9, 16, 25]\n"
     ]
    }
   ],
   "source": [
    "def squares_1():\n",
    "    l=[]\n",
    "    for i in range(1,21):\n",
    "        l.append(i**2)\n",
    "    print(l[:5])\n",
    "squares_1()"
   ]
  },
  {
   "cell_type": "raw",
   "id": "b11199b0-0596-406e-a108-7da56680ba14",
   "metadata": {},
   "source": [
    "Question 39 Level 1:\n",
    "\n",
    "Define a function which can generate a list where the values are square of numbers between 1 and 20 (both included). Then the function needs to print the last 5 elements in the list.\n",
    "\n",
    "Hints:\n",
    "\n",
    "Use ** operator to get power of a number. Use range() for loops. Use list.append() to add values into a list. Use [n1:n2] to slice a list"
   ]
  },
  {
   "cell_type": "code",
   "execution_count": 18,
   "id": "45648f1a-591c-4b48-ad68-657bd7585ac8",
   "metadata": {},
   "outputs": [
    {
     "name": "stdout",
     "output_type": "stream",
     "text": [
      "[256, 289, 324, 361, 400]\n"
     ]
    }
   ],
   "source": [
    "def squares_1():\n",
    "    l=[]\n",
    "    for i in range(1,21):\n",
    "        l.append(i**2)\n",
    "    print(l[-5:])\n",
    "squares_1()"
   ]
  },
  {
   "cell_type": "raw",
   "id": "37845af3-5f35-4408-bec9-81e6302804cf",
   "metadata": {},
   "source": [
    "Question 40 level 1:\n",
    "\n",
    "Define a function which can generate a list where the values are square of numbers between 1 and 20 (both included). Then the function needs to print all values except the first 5 elements in the list.\n",
    "\n",
    "Hints:\n",
    "\n",
    "Use ** operator to get power of a number. Use range() for loops. Use list.append() to add values into a list. Use [n1:n2] to slice a list"
   ]
  },
  {
   "cell_type": "code",
   "execution_count": 19,
   "id": "5ea2e60f-c0fb-486f-a708-307360828dfd",
   "metadata": {},
   "outputs": [
    {
     "name": "stdout",
     "output_type": "stream",
     "text": [
      "[36, 49, 64, 81, 100, 121, 144, 169, 196, 225, 256, 289, 324, 361, 400]\n"
     ]
    }
   ],
   "source": [
    "def squares_1():\n",
    "    l=[]\n",
    "    for i in range(1,21):\n",
    "        l.append(i**2)\n",
    "    print(l[5:])\n",
    "squares_1()"
   ]
  },
  {
   "cell_type": "raw",
   "id": "cdd62ec8-82ae-4563-ae4e-8d20a397d1df",
   "metadata": {},
   "source": [
    "Question 41 Define a function which can generate and print a tuple where the value are square of numbers between 1 and 20 (both included).\n",
    "\n",
    "Hints:\n",
    "\n",
    "Use ** operator to get power of a number. Use range() for loops. Use list.append() to add values into a list. Use tuple() to get a tuple from a list."
   ]
  },
  {
   "cell_type": "code",
   "execution_count": 21,
   "id": "1a406023-3f6b-47f1-9dd8-cc1d23b92209",
   "metadata": {},
   "outputs": [
    {
     "name": "stdout",
     "output_type": "stream",
     "text": [
      "(1, 4, 9, 16, 25, 36, 49, 64, 81, 100, 121, 144, 169, 196, 225, 256, 289, 324, 361, 400)\n"
     ]
    }
   ],
   "source": [
    "def squares_1():\n",
    "    l=[]\n",
    "    for i in range(1,21):\n",
    "        l.append(i**2)\n",
    "    print(tuple(l))\n",
    "squares_1()"
   ]
  },
  {
   "cell_type": "raw",
   "id": "5360169e-d320-45d6-a32f-7317170a62ae",
   "metadata": {},
   "source": [
    "Question 42 Level 1:\n",
    "\n",
    "With a given tuple (1,2,3,4,5,6,7,8,9,10), write a program to print the first half values in one line and the last half values in one line.\n",
    "\n",
    "Hints:\n",
    "\n",
    "Use [n1:n2] notation to get a slice from a tuple."
   ]
  },
  {
   "cell_type": "code",
   "execution_count": 22,
   "id": "c724350c-94bb-4111-b392-1628bb9f482d",
   "metadata": {},
   "outputs": [
    {
     "name": "stdout",
     "output_type": "stream",
     "text": [
      "(1, 2, 3, 4, 5)\n",
      "(6, 7, 8, 9, 10)\n"
     ]
    }
   ],
   "source": [
    "tt=(1,2,3,4,5,6,7,8,9,10)\n",
    "print(tt[:5])\n",
    "print(tt[5:])"
   ]
  },
  {
   "cell_type": "raw",
   "id": "c686910c-2abd-4522-ba0b-0f3792a03124",
   "metadata": {},
   "source": [
    "Question 43 level 1:\n",
    "\n",
    "Write a program to generate and print another tuple whose values are even numbers in the given tuple (1,2,3,4,5,6,7,8,9,10).\n",
    "\n",
    "Hints:\n",
    "\n",
    "Use \"for\" to iterate the tuple Use tuple() to generate a tuple from a list."
   ]
  },
  {
   "cell_type": "code",
   "execution_count": 23,
   "id": "f01357b4-8235-42b8-bf29-87b5625f3cd0",
   "metadata": {},
   "outputs": [
    {
     "name": "stdout",
     "output_type": "stream",
     "text": [
      "(2, 4, 6, 8, 10)\n"
     ]
    }
   ],
   "source": [
    "tt=(1,2,3,4,5,6,7,8,9,10)\n",
    "l=[]\n",
    "for i in tt:\n",
    "    if i%2==0:\n",
    "        l.append(i)\n",
    "l=tuple(l)\n",
    "print(l)"
   ]
  },
  {
   "cell_type": "raw",
   "id": "3853bcf7-8753-4f63-8038-b79a1561e507",
   "metadata": {},
   "source": [
    "Question 44 Level 1:\n",
    "\n",
    "Write a program which accepts a string as input to print \"Yes\" if the string is \"yes\" or \"YES\" or \"Yes\", otherwise print \"No\".\n",
    "\n",
    "Hints:\n",
    "\n",
    "Use if statement to judge condition."
   ]
  },
  {
   "cell_type": "code",
   "execution_count": 24,
   "id": "4e7bbd44-d2dc-4a22-b9f9-23ce2b6cb713",
   "metadata": {},
   "outputs": [
    {
     "name": "stdin",
     "output_type": "stream",
     "text": [
      "Enter the string :  yes\n"
     ]
    },
    {
     "name": "stdout",
     "output_type": "stream",
     "text": [
      "YES\n"
     ]
    }
   ],
   "source": [
    "st_in=input(\"Enter the string : \")\n",
    "if st_in==\"yes\" or st_in==\"Yes\" or st_in==\"YES\":\n",
    "    print(\"YES\")\n",
    "else:\n",
    "    print(\"No\")"
   ]
  },
  {
   "cell_type": "raw",
   "id": "e46812f4-1eda-4d74-bc3c-c8b0efb186ea",
   "metadata": {},
   "source": [
    "Question 45 Level 1:\n",
    "\n",
    "Write a program which can filter even numbers in a list by using filter function. The list is: [1,2,3,4,5,6,7,8,9,10].\n",
    "\n",
    "Hints:\n",
    "\n",
    "Use filter() to filter some elements in a list. Use lambda to define anonymous functions."
   ]
  },
  {
   "cell_type": "code",
   "execution_count": 26,
   "id": "545ef3cc-7a51-49a6-92ca-f72bb21c47f7",
   "metadata": {},
   "outputs": [
    {
     "name": "stdout",
     "output_type": "stream",
     "text": [
      "0,2,4,6,8,10,"
     ]
    }
   ],
   "source": [
    "ll=[x for x in range(0,11)]\n",
    "even_num=filter(lambda x: x%2==0, ll)\n",
    "for num in even_num:\n",
    "    print(num,end=\",\")"
   ]
  },
  {
   "cell_type": "raw",
   "id": "1b4675a8-996a-445f-af23-7a96cc7ccc7b",
   "metadata": {},
   "source": [
    "Question 46 level 1: Write a program which can map() to make a list whose elements are square of elements in [1,2,3,4,5,6,7,8,9,10].\n",
    "\n",
    "Hints Use map() to generate a list. Use lambda to define anonymous functions."
   ]
  },
  {
   "cell_type": "code",
   "execution_count": 40,
   "id": "7513b5ab-5e0e-409a-884e-f5219a8e91a4",
   "metadata": {},
   "outputs": [
    {
     "name": "stdout",
     "output_type": "stream",
     "text": [
      "1,4,9,16,25,"
     ]
    }
   ],
   "source": [
    "tt=[1,2,3,4,5]\n",
    "g=map(lambda x:x**2 ,tt)\n",
    "# print(map(tt,s))#<map object at 0x0000017DDD2ECC40>\n",
    "# print(map(s,tt))#<map object at 0x0000017DDD448AF0>\n",
    "# print(g)#<map object at 0x0000017DDD825810>\n",
    "for num in g:\n",
    "    print(num,end=\",\")\n"
   ]
  },
  {
   "cell_type": "raw",
   "id": "b6ca4f50-cf7f-41d3-a6e8-e8f11a58885a",
   "metadata": {},
   "source": [
    "Question 47 Level 1:\n",
    "\n",
    "Write a program which can map() and filter() to make a list whose elements are square of even number in [1,2,3,4,5,6,7,8,9,10].\n",
    "\n",
    "Hints Use map() to generate a list. Use filter() to filter elements of a list. Use lambda to define anonymous functions."
   ]
  },
  {
   "cell_type": "code",
   "execution_count": 47,
   "id": "d4f67d07-be88-4786-a7b8-8764b21ae4be",
   "metadata": {},
   "outputs": [
    {
     "data": {
      "text/plain": [
       "[0, 4, 0, 16, 0]"
      ]
     },
     "execution_count": 47,
     "metadata": {},
     "output_type": "execute_result"
    }
   ],
   "source": [
    "ll=[1,2,3,4,5]\n",
    "kk=list(map(lambda x:x**2 if x%2==0 else 0,ll))\n",
    "jj=list(filter(lambda x: x if x!=0 else 1, kk))\n",
    "jj"
   ]
  },
  {
   "cell_type": "raw",
   "id": "a70e6271-cba9-41b6-844b-59c17b37df29",
   "metadata": {},
   "source": [
    "Question 48 level 1:\n",
    "\n",
    "Write a program which can filter() to make a list whose elements are even number between 1 and 20 (both included).\n",
    "\n",
    "Hints:\n",
    "\n",
    "Use filter() to filter elements of a list. Use lambda to define anonymous functions."
   ]
  },
  {
   "cell_type": "code",
   "execution_count": 50,
   "id": "c4860de5-2ccb-4a77-998b-b9c6a01505bb",
   "metadata": {},
   "outputs": [
    {
     "data": {
      "text/plain": [
       "[2, 4, 6, 8, 10, 12, 14, 16, 18, 20]"
      ]
     },
     "execution_count": 50,
     "metadata": {},
     "output_type": "execute_result"
    }
   ],
   "source": [
    "g=list(filter(lambda x:x, [i for i in range(0,21) if i%2==0]))\n",
    "g"
   ]
  },
  {
   "cell_type": "raw",
   "id": "78a05307-6eb3-497d-bff2-dd44f4ad86ba",
   "metadata": {},
   "source": [
    "Question 49 level 1:\n",
    "\n",
    "Write a program which can map() to make a list whose elements are square of numbers between 1 and 20 (both included).\n",
    "\n",
    "Hints Use map() to generate a list. Use lambda to define anonymous functions."
   ]
  },
  {
   "cell_type": "code",
   "execution_count": 52,
   "id": "a11ad803-7c2c-49d3-bfc5-fcf6eb9104f4",
   "metadata": {},
   "outputs": [
    {
     "name": "stdout",
     "output_type": "stream",
     "text": [
      "0,1,4,9,16,25,36,49,64,81,100,121,144,169,196,225,256,289,324,361,400,"
     ]
    }
   ],
   "source": [
    "\n",
    "ll=[x for x in range(0,21)]\n",
    "kk=map(lambda x:x**2,ll)\n",
    "for i in kk:\n",
    "    print(i, end=\",\")"
   ]
  },
  {
   "cell_type": "raw",
   "id": "f1eb2f9b-dda3-4249-8a51-97680d37d9c6",
   "metadata": {},
   "source": [
    "Question 50 Level 2:\n",
    "\n",
    "Define a class named American which has a static method called printNationality.\n",
    "\n",
    "Hints: Use @staticmethod decorator to define class static method."
   ]
  },
  {
   "cell_type": "code",
   "execution_count": 56,
   "id": "e000f60f-2ea5-4dbd-9e2e-0465646c4330",
   "metadata": {},
   "outputs": [
    {
     "name": "stdout",
     "output_type": "stream",
     "text": [
      "American\n"
     ]
    }
   ],
   "source": [
    "class American():\n",
    "    def __init__(self):\n",
    "        pass\n",
    "    @staticmethod\n",
    "    def printNationality():\n",
    "        print(\"American\")\n",
    "\n",
    "American.printNationality()"
   ]
  },
  {
   "cell_type": "raw",
   "id": "0d13afb8-215e-43ae-bf48-34f293a90a18",
   "metadata": {},
   "source": [
    "Question 51 Lvel 2:\n",
    "\n",
    "Define a class named American and its subclass NewYorker.\n",
    "\n",
    "Hints:\n",
    "\n",
    "Use class Subclass(ParentClass) to define a subclass."
   ]
  },
  {
   "cell_type": "code",
   "execution_count": 57,
   "id": "78287c77-277a-4f8f-9bf6-fc98e2c1d84b",
   "metadata": {},
   "outputs": [],
   "source": [
    "class American():\n",
    "    pass\n",
    "class NewYorker(American):\n",
    "    pass"
   ]
  },
  {
   "cell_type": "raw",
   "id": "3098b92b-ac0a-4871-8c1a-ac18c31633e4",
   "metadata": {},
   "source": [
    "Question 52 Level 2:\n",
    "\n",
    "Define a class named Circle which can be constructed by a radius. The Circle class has a method which can compute the area.\n",
    "\n",
    "Hints:\n",
    "\n",
    "Use def methodName(self) to define a method."
   ]
  },
  {
   "cell_type": "code",
   "execution_count": 59,
   "id": "53be5bfb-7fc8-4587-bf01-a2ab4006c6ca",
   "metadata": {},
   "outputs": [
    {
     "name": "stdout",
     "output_type": "stream",
     "text": [
      "78.53981633974483\n"
     ]
    }
   ],
   "source": [
    "import math\n",
    "class Circle():\n",
    "    def __init__(self,r):\n",
    "        self.radius=r\n",
    "    def area(self):\n",
    "        return math.pi*self.radius*self.radius\n",
    "\n",
    "obj=Circle(5)\n",
    "print(obj.area())"
   ]
  },
  {
   "cell_type": "raw",
   "id": "dbfb2e28-7bef-4f96-8ea2-381c6b02c1be",
   "metadata": {},
   "source": [
    "Question 53 Level 2:\n",
    "\n",
    "Define a class named Rectangle which can be constructed by a length and width. The Rectangle class has a method which can compute the area.\n",
    "\n",
    "Hints:\n",
    "\n",
    "Use def methodName(self) to define a method."
   ]
  },
  {
   "cell_type": "code",
   "execution_count": 60,
   "id": "6daf58d4-1406-4531-b58f-e970f60567f0",
   "metadata": {},
   "outputs": [
    {
     "name": "stdout",
     "output_type": "stream",
     "text": [
      "15\n"
     ]
    }
   ],
   "source": [
    "class Rectangle():\n",
    "    def __init__(self,l,w):\n",
    "        self.length=l\n",
    "        self.width=w\n",
    "    def area(self):\n",
    "        return self.length*self.width\n",
    "    \n",
    "obj=Rectangle(5,3)\n",
    "print(obj.area())"
   ]
  },
  {
   "cell_type": "raw",
   "id": "dc8f7bf9-9e77-404b-9342-18835106e540",
   "metadata": {},
   "source": [
    "Question 54 Level 2:\n",
    "\n",
    "Define a class named Shape and its subclass Square. The Square class has an init function which takes a length as argument. Both classes have a area function which can print the area of the shape where Shape's area is 0 by default.\n",
    "\n",
    "Hints:\n",
    "\n",
    "To override a method in super class, we can define a method with the same name in the super class."
   ]
  },
  {
   "cell_type": "code",
   "execution_count": 61,
   "id": "995bc326-1603-4b39-9d59-33250b7a756f",
   "metadata": {},
   "outputs": [
    {
     "name": "stdout",
     "output_type": "stream",
     "text": [
      "25\n"
     ]
    }
   ],
   "source": [
    "class Shape():\n",
    "    def __init__(self,l):\n",
    "        self.l=l\n",
    "    def area(self):\n",
    "        print(0)\n",
    "class Square(Shape):\n",
    "    def area(self):\n",
    "        print(self.l*self.l)\n",
    "obj=Square(5)\n",
    "obj.area()"
   ]
  },
  {
   "cell_type": "raw",
   "id": "566a0516-9ebc-49a0-a1a4-cbd6d1128755",
   "metadata": {},
   "source": [
    "Question 55 Level 2:\n",
    "\n",
    "Please raise a RuntimeError exception.\n",
    "\n",
    "Hints:\n",
    "\n",
    "Use raise() to raise an exception"
   ]
  },
  {
   "cell_type": "code",
   "execution_count": 67,
   "id": "21e27449-3147-4d8e-ab46-3dd75d597307",
   "metadata": {},
   "outputs": [
    {
     "name": "stdout",
     "output_type": "stream",
     "text": [
      "name error....\n"
     ]
    }
   ],
   "source": [
    "# try:\n",
    "#     print(x)\n",
    "# except:\n",
    "#     raise RuntimeError(\"Something-- went wrong\")\n",
    "\n",
    "try:\n",
    "    print(x)\n",
    "except NameError:\n",
    "    print(\"name error....\")\n",
    "except Exception as e:\n",
    "    print(e)"
   ]
  },
  {
   "cell_type": "raw",
   "id": "4ca9faf2-9b78-499f-ac14-aef00830a7b3",
   "metadata": {},
   "source": [
    "Question 56 Level 2:\n",
    "\n",
    "Write a function to compute 5/0 and use try/except to catch the exceptions.\n",
    "\n",
    "Hints:\n",
    "\n",
    "Use try/except to catch exceptions."
   ]
  },
  {
   "cell_type": "code",
   "execution_count": 68,
   "id": "7232bd26-1812-4b24-9152-6bbd56ce1dcb",
   "metadata": {},
   "outputs": [
    {
     "name": "stdout",
     "output_type": "stream",
     "text": [
      "zero division error\n"
     ]
    }
   ],
   "source": [
    "def compute():\n",
    "    try:\n",
    "        print(5/0)\n",
    "    except ZeroDivisionError:\n",
    "        print(\"zero division error\")\n",
    "compute()"
   ]
  },
  {
   "cell_type": "raw",
   "id": "a84e3d2d-9cdf-4cd2-b567-0626ab5600fa",
   "metadata": {},
   "source": [
    "Question 57 Level 2:\n",
    "\n",
    "Define a custom exception class which takes a string message as attribute.\n",
    "\n",
    "Hints:\n",
    "\n",
    "To define a custom exception, we need to define a class inherited from Exception."
   ]
  },
  {
   "cell_type": "code",
   "execution_count": 76,
   "id": "b5e12f6b-7feb-4001-9d99-219d855a9fe4",
   "metadata": {},
   "outputs": [
    {
     "name": "stdout",
     "output_type": "stream",
     "text": [
      "This is a custom error message.\n"
     ]
    }
   ],
   "source": [
    "class MyCustomException(Exception):\n",
    "    def __init__(self, message):\n",
    "        self.message=message\n",
    "        super().__init__(self.message)\n",
    "    def __str__(self):\n",
    "        return self.message\n",
    "# def __str__(self): - This method returns the string representation of the exception, which in this case is the message.\n",
    "# Example usage:\n",
    "try:\n",
    "    raise MyCustomException(\"This is a custom error message.\")\n",
    "except MyCustomException as e:\n",
    "    print(e)"
   ]
  },
  {
   "cell_type": "raw",
   "id": "d33c0908-8177-4f84-a805-212a025c87b8",
   "metadata": {},
   "source": [
    "Question 58 lvele 2:\n",
    "\n",
    "Assuming that we have some email addresses in the \"username@companyname.com\" format, please write program to print the user name of a given email address. Both user names and company names are composed of letters only.\n",
    "\n",
    "Example: If the following email address is given as input to the program:\n",
    "\n",
    "john@google.com\n",
    "\n",
    "Then, the output of the program should be:\n",
    "\n",
    "john\n",
    "\n",
    "In case of input data being supplied to the question, it should be assumed to be a console input.\n",
    "\n",
    "Hints:\n",
    "\n",
    "Use \\w to match letters."
   ]
  },
  {
   "cell_type": "code",
   "execution_count": 77,
   "id": "573264cb-fc5c-4428-9aae-1a2c51b42b39",
   "metadata": {},
   "outputs": [
    {
     "name": "stdin",
     "output_type": "stream",
     "text": [
      "enter email :  abc@gmail.com\n"
     ]
    },
    {
     "name": "stdout",
     "output_type": "stream",
     "text": [
      "User name :  abc\n"
     ]
    },
    {
     "name": "stdin",
     "output_type": "stream",
     "text": [
      "enter email :  \n"
     ]
    },
    {
     "name": "stdout",
     "output_type": "stream",
     "text": [
      "User name :  \n"
     ]
    }
   ],
   "source": [
    "while True:\n",
    "    email=input(\"enter email : \")\n",
    "    data=email.split(\"@\")\n",
    "    print(\"User name : \",data[0])\n",
    "    if not email:\n",
    "        break\n",
    "    else:\n",
    "        continue"
   ]
  },
  {
   "cell_type": "raw",
   "id": "20fff1be-6b22-4b75-a60a-72684dc86b08",
   "metadata": {},
   "source": [
    "Question 59 Level 2:\n",
    "\n",
    "Assuming that we have some email addresses in the \"username@companyname.com\" format, please write program to print the company name of a given email address. Both user names and company names are composed of letters only.\n",
    "\n",
    "Example: If the following email address is given as input to the program:\n",
    "\n",
    "john@google.com\n",
    "\n",
    "Then, the output of the program should be:\n",
    "\n",
    "google\n",
    "\n",
    "In case of input data being supplied to the question, it should be assumed to be a console input.\n",
    "\n",
    "Hints:\n",
    "\n",
    "Use \\w to match letters"
   ]
  },
  {
   "cell_type": "code",
   "execution_count": 78,
   "id": "619f6be8-e112-4315-abca-89fc2c8693d9",
   "metadata": {},
   "outputs": [
    {
     "name": "stdin",
     "output_type": "stream",
     "text": [
      "enter email :  abc@gmail.com\n"
     ]
    },
    {
     "name": "stdout",
     "output_type": "stream",
     "text": [
      "Domain name :  gmail\n"
     ]
    },
    {
     "name": "stdin",
     "output_type": "stream",
     "text": [
      "enter email :  \n"
     ]
    },
    {
     "name": "stdout",
     "output_type": "stream",
     "text": [
      "Invalid\n"
     ]
    }
   ],
   "source": [
    "while True:\n",
    "    email=input(\"enter email : \")\n",
    "    if not email:\n",
    "        print(\"Invalid\")\n",
    "        break\n",
    "    else:\n",
    "        data=email.split(\"@\")\n",
    "        domain=data[1].split(\".\")\n",
    "        print(\"Domain name : \",domain[0])\n",
    "        continue"
   ]
  },
  {
   "cell_type": "raw",
   "id": "372be57d-8b7e-48b0-9f7f-f36d45398308",
   "metadata": {},
   "source": [
    "Question 60 Level 2:\n",
    "\n",
    "Write a program which accepts a sequence of words separated by whitespace as input to print the words composed of digits only.\n",
    "\n",
    "Example: If the following words is given as input to the program:\n",
    "\n",
    "2 cats and 3 dogs.\n",
    "\n",
    "Then, the output of the program should be:\n",
    "\n",
    "['2', '3']\n",
    "\n",
    "In case of input data being supplied to the question, it should be assumed to be a console input.\n",
    "\n",
    "Hints:\n",
    "\n",
    "Use re.findall() to find all substring using regex."
   ]
  },
  {
   "cell_type": "code",
   "execution_count": 88,
   "id": "75b7bf33-2b34-484a-8e96-17d64d8c2da1",
   "metadata": {},
   "outputs": [
    {
     "name": "stdout",
     "output_type": "stream",
     "text": [
      "['2']\n"
     ]
    }
   ],
   "source": [
    "import re\n",
    "st=\"2 cats and 311 dogs.\"\n",
    "d=re.findall(r'\\b(?:[0-9]|[1-8][0-9]|90)\\b',st)\n",
    "print(d)"
   ]
  },
  {
   "cell_type": "raw",
   "id": "0970b0c5-470c-4ced-89eb-9e6d2130816a",
   "metadata": {},
   "source": [
    "Question 61 Level 1:\n",
    "\n",
    "Print a unicode string \"hello world\".\n",
    "\n",
    "Hints:\n",
    "\n",
    "Use u'strings' format to define unicode string."
   ]
  },
  {
   "cell_type": "code",
   "execution_count": 89,
   "id": "485f196d-9064-48e3-a0bb-8e2cc11b95f8",
   "metadata": {},
   "outputs": [
    {
     "name": "stdout",
     "output_type": "stream",
     "text": [
      "Hello world\n"
     ]
    }
   ],
   "source": [
    "u_str=u\"Hello world\"\n",
    "print(u_str)"
   ]
  },
  {
   "cell_type": "raw",
   "id": "27a93c0f-e32d-4117-b8c9-62197c553cf2",
   "metadata": {},
   "source": [
    "Question 62 Level 2:\n",
    "\n",
    "Write a program to read an ASCII string and to convert it to a unicode string encoded by utf-8.\n",
    "\n",
    "Hints:\n",
    "\n",
    "Use unicode() function to convert."
   ]
  },
  {
   "cell_type": "code",
   "execution_count": 93,
   "id": "7e16888b-2f58-44f4-b157-704e74b84181",
   "metadata": {},
   "outputs": [
    {
     "name": "stdout",
     "output_type": "stream",
     "text": [
      "Encoded ASCII string: b'This is an ASCII string.'\n",
      "Converted Unicode string: This is an ASCII string.\n"
     ]
    }
   ],
   "source": [
    "# Read an ASCII string\n",
    "ascii_string = \"This is an ASCII string.\"\n",
    "\n",
    "# Convert the ASCII string to bytes\n",
    "ascii_bytes = ascii_string.encode('ascii')\n",
    "\n",
    "# Decode the bytes to a Unicode string using UTF-8\n",
    "unicode_string = ascii_bytes.decode('utf-8')\n",
    "\n",
    "print(\"Encoded ASCII string:\", ascii_bytes)\n",
    "print(\"Converted Unicode string:\", unicode_string)"
   ]
  },
  {
   "cell_type": "raw",
   "id": "b1bfde9a-1850-4abe-9b54-385a851d9239",
   "metadata": {},
   "source": [
    "Question 63 Level 1:\n",
    "\n",
    "Write a special comment to indicate a Python source code file is in unicode.\n",
    "\n",
    "Hints:\n",
    "\n",
    "Solution:"
   ]
  },
  {
   "cell_type": "code",
   "execution_count": 94,
   "id": "c8c77a5a-d84e-4610-ae9a-327f3b5f0402",
   "metadata": {},
   "outputs": [
    {
     "data": {
      "text/plain": [
       "'doc string'"
      ]
     },
     "execution_count": 94,
     "metadata": {},
     "output_type": "execute_result"
    }
   ],
   "source": [
    "\"\"\"doc string\"\"\""
   ]
  },
  {
   "cell_type": "raw",
   "id": "b5d20026-967e-42aa-af81-b5328211d247",
   "metadata": {},
   "source": [
    "Question 64 Level 2:\n",
    "\n",
    "Write a program to compute 1/2+2/3+3/4+...+n/n+1 with a given n input by console (n>0).\n",
    "\n",
    "Example: If the following n is given as input to the program:\n",
    "\n",
    "5\n",
    "\n",
    "Then, the output of the program should be:\n",
    "\n",
    "3.55\n",
    "\n",
    "In case of input data being supplied to the question, it should be assumed to be a console input.\n",
    "\n",
    "Hints: Use float() to convert an integer to a float"
   ]
  },
  {
   "cell_type": "code",
   "execution_count": 95,
   "id": "c761a4c8-c01a-41aa-92e7-ac02c3a4ac17",
   "metadata": {},
   "outputs": [
    {
     "name": "stdout",
     "output_type": "stream",
     "text": [
      "3.5500000000000003\n"
     ]
    }
   ],
   "source": [
    "def compute_values(n):\n",
    "    if n<0 or n==0:\n",
    "        return 0\n",
    "    else:\n",
    "        return n/(n+1)+compute_values(n-1)\n",
    "print(compute_values(5))"
   ]
  },
  {
   "cell_type": "raw",
   "id": "71261df3-1c7c-4e9b-addb-875a3489f054",
   "metadata": {},
   "source": [
    "Question 65 Level 2:\n",
    "\n",
    "Write a program to compute:\n",
    "\n",
    "f(n)=f(n-1)+100 when n>0 and f(0)=1\n",
    "\n",
    "with a given n input by console (n>0).\n",
    "\n",
    "Example: If the following n is given as input to the program:\n",
    "\n",
    "5\n",
    "\n",
    "Then, the output of the program should be:\n",
    "\n",
    "500\n",
    "\n",
    "In case of input data being supplied to the question, it should be assumed to be a console input.\n",
    "\n",
    "Hints: We can define recursive function in Python."
   ]
  },
  {
   "cell_type": "code",
   "execution_count": 98,
   "id": "2efff4e9-14a9-433b-b712-a825bad4c9f8",
   "metadata": {},
   "outputs": [
    {
     "data": {
      "text/plain": [
       "500"
      ]
     },
     "execution_count": 98,
     "metadata": {},
     "output_type": "execute_result"
    }
   ],
   "source": [
    "def fibonaci(n):\n",
    "    if n==0:\n",
    "        return 0\n",
    "    else:\n",
    "        return fibonaci(n-1)+100\n",
    "fibonaci(5)"
   ]
  },
  {
   "cell_type": "raw",
   "id": "226f1757-5615-490a-bada-a91686fae987",
   "metadata": {},
   "source": [
    "Question 66 Level 2:\n",
    "\n",
    "The Fibonacci Sequence is computed based on the following formula:\n",
    "\n",
    "f(n)=0 if n=0 f(n)=1 if n=1 f(n)=f(n-1)+f(n-2) if n>1\n",
    "\n",
    "Please write a program to compute the value of f(n) with a given n input by console.\n",
    "\n",
    "Example: If the following n is given as input to the program:\n",
    "\n",
    "7\n",
    "\n",
    "Then, the output of the program should be:\n",
    "\n",
    "13\n",
    "\n",
    "In case of input data being supplied to the question, it should be assumed to be a console input.\n",
    "\n",
    "Hints: We can define recursive function in Python."
   ]
  },
  {
   "cell_type": "code",
   "execution_count": 99,
   "id": "743a6d12-3c49-4d3a-bf7c-37d48085f7e8",
   "metadata": {},
   "outputs": [
    {
     "name": "stdout",
     "output_type": "stream",
     "text": [
      "13\n"
     ]
    }
   ],
   "source": [
    "def fibonocci(n):\n",
    "    if n==0:\n",
    "        return 0\n",
    "    elif n==1:\n",
    "        return 1\n",
    "    else:\n",
    "        return fibonocci(n-1)+fibonocci(n-2)\n",
    "print(fibonocci(7))"
   ]
  },
  {
   "cell_type": "raw",
   "id": "f6e5d258-7509-4a37-afa7-648ff2b1d1b2",
   "metadata": {},
   "source": [
    "Question 67 Level 2:\n",
    "\n",
    "The Fibonacci Sequence is computed based on the following formula:\n",
    "\n",
    "f(n)=0 if n=0 f(n)=1 if n=1 f(n)=f(n-1)+f(n-2) if n>1\n",
    "\n",
    "Please write a program using list comprehension to print the Fibonacci Sequence in comma separated form with a given n input by console.\n",
    "\n",
    "Example: If the following n is given as input to the program:\n",
    "\n",
    "7\n",
    "\n",
    "Then, the output of the program should be:\n",
    "\n",
    "0,1,1,2,3,5,8,13\n",
    "\n",
    "Hints: We can define recursive function in Python. Use list comprehension to generate a list from an existing list. Use string.join() to join a list of strings.\n",
    "\n",
    "In case of input data being supplied to the question, it should be assumed to be a console input."
   ]
  },
  {
   "cell_type": "code",
   "execution_count": 100,
   "id": "103639dc-10d7-4fa2-817f-3afb099154be",
   "metadata": {},
   "outputs": [
    {
     "name": "stdin",
     "output_type": "stream",
     "text": [
      " 7\n"
     ]
    },
    {
     "name": "stdout",
     "output_type": "stream",
     "text": [
      "[0, 1, 1, 2, 3, 5, 8, 13]\n"
     ]
    }
   ],
   "source": [
    "n1, n2=0,1\n",
    "n=int(input())\n",
    "answer_list=[n1, n2]\n",
    "for i in range(2, n+1):\n",
    "    n3=n1+n2\n",
    "    answer_list.append(n3)\n",
    "    n1,n2=n2,n3\n",
    "    \n",
    "print(answer_list)"
   ]
  },
  {
   "cell_type": "raw",
   "id": "90645de6-867d-4052-a522-f4f096df5a68",
   "metadata": {},
   "source": [
    "Question 68 Level 2:\n",
    "\n",
    "Please write a program using generator to print the even numbers between 0 and n in comma separated form while n is input by console.\n",
    "\n",
    "Example: If the following n is given as input to the program:\n",
    "\n",
    "10\n",
    "\n",
    "Then, the output of the program should be:\n",
    "\n",
    "0,2,4,6,8,10\n",
    "\n",
    "Hints: Use yield to produce the next value in generator.\n",
    "\n",
    "In case of input data being supplied to the question, it should be assumed to be a console input."
   ]
  },
  {
   "cell_type": "code",
   "execution_count": 101,
   "id": "3b413b7f-ff9f-4d24-b81b-d8387b853208",
   "metadata": {},
   "outputs": [
    {
     "name": "stdout",
     "output_type": "stream",
     "text": [
      "0,2,4,6,8,10,"
     ]
    }
   ],
   "source": [
    "def even(n):\n",
    "    for i in range(n+1):\n",
    "        if i%2==0:\n",
    "            print(i, end=\",\")\n",
    "even(10)"
   ]
  },
  {
   "cell_type": "code",
   "execution_count": 104,
   "id": "854a88bc-98f2-4cde-afd1-5ad4dc736cfb",
   "metadata": {},
   "outputs": [
    {
     "name": "stdout",
     "output_type": "stream",
     "text": [
      "0,2,4,6,8,10,"
     ]
    }
   ],
   "source": [
    "def genr(n):\n",
    "    for i in range(0,n):\n",
    "        if i%2==0:\n",
    "            yield i\n",
    "obj=genr(11)\n",
    "for i in obj:\n",
    "    print(i,end=\",\")"
   ]
  },
  {
   "cell_type": "raw",
   "id": "e5923546-7e4e-4654-9c73-d557a4d8508b",
   "metadata": {},
   "source": [
    "Question 69 Level 2:\n",
    "\n",
    "Please write a program using generator to print the numbers which can be divisible by 5 and 7 between 0 and n in comma separated form while n is input by console.\n",
    "\n",
    "Example: If the following n is given as input to the program:\n",
    "\n",
    "100\n",
    "\n",
    "Then, the output of the program should be:\n",
    "\n",
    "0,35,70\n",
    "\n",
    "Hints: Use yield to produce the next value in generator.\n",
    "\n",
    "In case of input data being supplied to the question, it should be assumed to be a console input."
   ]
  },
  {
   "cell_type": "code",
   "execution_count": 105,
   "id": "d9d6b7db-e86b-436c-ac7a-d456a51ddb00",
   "metadata": {},
   "outputs": [
    {
     "name": "stdout",
     "output_type": "stream",
     "text": [
      "0,35,70,"
     ]
    }
   ],
   "source": [
    "def generators_fun(n):\n",
    "    for i in range(n+1):\n",
    "        if i%5==0 and i%7==0:\n",
    "            yield i\n",
    "obj=generators_fun(70)\n",
    "for i in obj:\n",
    "    print(i, end=\",\")"
   ]
  },
  {
   "cell_type": "raw",
   "id": "a5796e11-e5a1-473c-9493-d5ab0b4731c7",
   "metadata": {},
   "source": [
    "Question 70 Level 2:\n",
    "\n",
    "Please write assert statements to verify that every number in the list [2,4,6,8] is even.\n",
    "\n",
    "Hints: Use \"assert expression\" to make assertion."
   ]
  },
  {
   "cell_type": "code",
   "execution_count": 107,
   "id": "a7708741-9f5d-44b5-80f7-be32330a46ac",
   "metadata": {},
   "outputs": [],
   "source": [
    "li = [2,4,6,8]\n",
    "for i in li:\n",
    "    assert i%2==0"
   ]
  },
  {
   "cell_type": "raw",
   "id": "9b908bb2-516d-4fc0-9da6-de26b4e1af22",
   "metadata": {},
   "source": [
    "Question 71 Level 2:\n",
    "\n",
    "Please write a program which accepts basic mathematic expression from console and print the evaluation result.\n",
    "\n",
    "Example: If the following string is given as input to the program:\n",
    "\n",
    "35+3\n",
    "\n",
    "Then, the output of the program should be:\n",
    "\n",
    "38\n",
    "\n",
    "Hints: Use eval() to evaluate an expression."
   ]
  },
  {
   "cell_type": "code",
   "execution_count": 108,
   "id": "62953bc0-726e-4b8c-b894-e3dadabe8c2e",
   "metadata": {},
   "outputs": [
    {
     "data": {
      "text/plain": [
       "38"
      ]
     },
     "execution_count": 108,
     "metadata": {},
     "output_type": "execute_result"
    }
   ],
   "source": [
    "eval(\"35+3\")"
   ]
  },
  {
   "cell_type": "raw",
   "id": "b8783e4c-5774-4525-9975-d11db200bd0e",
   "metadata": {},
   "source": [
    "Question 72 Level 2 :\n",
    "\n",
    "Please write a binary search function which searches an item in a sorted list. The function should return the index of element to be searched in the list.\n",
    "\n",
    "Hints: Use if/elif to deal with conditions."
   ]
  },
  {
   "cell_type": "code",
   "execution_count": 110,
   "id": "441c0cf9-abbc-4373-a148-a5356335adb9",
   "metadata": {},
   "outputs": [
    {
     "name": "stdout",
     "output_type": "stream",
     "text": [
      "[0, 1, 2, 3, 4, 5, 6, 7, 8, 9, 9, 1, 3]\n",
      "Match found at indexes..: ,3,12,"
     ]
    }
   ],
   "source": [
    "def fun(lis, item):\n",
    "    match_indexes=[]\n",
    "    for i in range(1,len(lis)):\n",
    "        if lis[i]==item:\n",
    "            match_indexes.append(i)\n",
    "        else:\n",
    "            continue\n",
    "    return match_indexes\n",
    "\n",
    "lis=[x for x in range(0,10)]\n",
    "lis.append(9)\n",
    "lis.append(1)\n",
    "lis.append(3)\n",
    "#lis.sort()\n",
    "search_item=3\n",
    "result=fun(lis,search_item)\n",
    "print(lis)\n",
    "print(\"Match found at indexes..: \",end=\",\")\n",
    "for i in result:\n",
    "    print(i,end=',')"
   ]
  },
  {
   "cell_type": "raw",
   "id": "924e2cd0-95db-4118-98bd-57a67a6d7521",
   "metadata": {},
   "source": [
    "Question 73 Level 2:\n",
    "\n",
    "Please write a binary search function which searches an item in a sorted list. The function should return the index of element to be searched in the list.\n",
    "\n",
    "Hints: Use if/elif to deal with conditions."
   ]
  },
  {
   "cell_type": "code",
   "execution_count": 112,
   "id": "529930c5-a822-4ccd-b9d0-2c2b60f11800",
   "metadata": {},
   "outputs": [
    {
     "name": "stdout",
     "output_type": "stream",
     "text": [
      "[0, 1, 1, 2, 3, 3, 4, 5, 6, 7, 8, 9, 9]\n",
      "Match found at indexes..: ,4,5,"
     ]
    }
   ],
   "source": [
    "def fun(lis, item):\n",
    "    match_indexes=[]\n",
    "    for i in range(1,len(lis)):\n",
    "        if lis[i]==item:\n",
    "            match_indexes.append(i)\n",
    "        else:\n",
    "            continue\n",
    "    return match_indexes\n",
    "\n",
    "lis=[x for x in range(0,10)]\n",
    "lis.append(9)\n",
    "lis.append(1)\n",
    "lis.append(3)\n",
    "lis.sort()\n",
    "search_item=3\n",
    "result=fun(lis,search_item)\n",
    "print(lis)\n",
    "print(\"Match found at indexes..: \",end=\",\")\n",
    "for i in result:\n",
    "    print(i,end=',')"
   ]
  },
  {
   "cell_type": "raw",
   "id": "7d2b86a5-218d-4d78-a673-97bdd31197ec",
   "metadata": {},
   "source": [
    "Question 74 Level 2: Please generate a random float where the value is between 10 and 100 using Python math module.\n",
    "\n",
    "Hints: Use random.random() to generate a random float in [0,1]."
   ]
  },
  {
   "cell_type": "code",
   "execution_count": 115,
   "id": "d59ae2fe-d0ab-404e-bc56-5ad1bfd9e31b",
   "metadata": {},
   "outputs": [
    {
     "name": "stdout",
     "output_type": "stream",
     "text": [
      "23.877067151608276\n"
     ]
    }
   ],
   "source": [
    "import random\n",
    "print(random.random()*100)"
   ]
  },
  {
   "cell_type": "raw",
   "id": "327af688-cde8-439e-ae24-b0f38d9ab8ba",
   "metadata": {},
   "source": [
    "Question 75 Level 2:\n",
    "\n",
    "Please generate a random float where the value is between 5 and 95 using Python math module.\n",
    "\n",
    "Hints: Use random.random() to generate a random float in [0,1]."
   ]
  },
  {
   "cell_type": "code",
   "execution_count": 116,
   "id": "38f25d9b-64f0-4f68-8f10-1a0b122c4783",
   "metadata": {},
   "outputs": [
    {
     "name": "stdout",
     "output_type": "stream",
     "text": [
      "0.7787369765907611\n"
     ]
    }
   ],
   "source": [
    "import random\n",
    "value=random.random()\n",
    "print(value)"
   ]
  },
  {
   "cell_type": "raw",
   "id": "e236d011-530c-4d19-9a32-6ad04a37692c",
   "metadata": {},
   "source": [
    "Question 76 Level 2:\n",
    "\n",
    "Please write a program to output a random even number between 0 and 10 inclusive using random module and list comprehension.\n",
    "\n",
    "Hints: Use random.choice() to a random element from a list.\n",
    "\n",
    "Solution:"
   ]
  },
  {
   "cell_type": "code",
   "execution_count": 117,
   "id": "a29c7290-99fb-44a9-aeaf-a8678a36164e",
   "metadata": {},
   "outputs": [
    {
     "name": "stdout",
     "output_type": "stream",
     "text": [
      "2\n"
     ]
    }
   ],
   "source": [
    "import random\n",
    "l=[x for x in range(0,11) if x%2==0]\n",
    "print(random.choice(l))"
   ]
  },
  {
   "cell_type": "raw",
   "id": "e832eef4-c712-4c65-97ad-94ce05b3c4a0",
   "metadata": {},
   "source": [
    "Question 77 Level 2:\n",
    "\n",
    "Please write a program to output a random number, which is divisible by 5 and 7, between 0 and 10 inclusive using random module and list comprehension.\n",
    "\n",
    "Hints: Use random.choice() to a random element from a list."
   ]
  },
  {
   "cell_type": "code",
   "execution_count": 118,
   "id": "bc02eb24-81b4-4a38-9107-b18ddf36f2a7",
   "metadata": {},
   "outputs": [
    {
     "name": "stdout",
     "output_type": "stream",
     "text": [
      "35\n"
     ]
    }
   ],
   "source": [
    "import random\n",
    "l=[x for x in range(0,110) if x%5==0 and x%7==0]\n",
    "print(random.choice(l))"
   ]
  },
  {
   "cell_type": "raw",
   "id": "b4948eab-4b57-4da5-a406-f0f2450d8f61",
   "metadata": {},
   "source": [
    "Question 78 Level 2:\n",
    "\n",
    "Please write a program to generate a list with 5 random numbers between 100 and 200 inclusive.\n",
    "\n",
    "Hints: Use random.sample() to generate a list of random values."
   ]
  },
  {
   "cell_type": "code",
   "execution_count": 119,
   "id": "961c7e38-d4b1-42e0-99ed-4362d0df5c37",
   "metadata": {},
   "outputs": [
    {
     "name": "stdout",
     "output_type": "stream",
     "text": [
      "[133, 111, 161, 129, 119]\n"
     ]
    }
   ],
   "source": [
    "import random\n",
    "print(random.sample(range(100,201), 5))"
   ]
  },
  {
   "cell_type": "raw",
   "id": "4b462538-5b12-4146-854b-6d8d481d5893",
   "metadata": {},
   "source": [
    "Question 79 Level 2: Please write a program to randomly generate a list with 5 even numbers between 100 and 200 inclusive.\n",
    "\n",
    "Hints: Use random.sample() to generate a list of random values."
   ]
  },
  {
   "cell_type": "code",
   "execution_count": 120,
   "id": "19843122-b166-4a19-b5cb-9aa3f7ec6d96",
   "metadata": {},
   "outputs": [
    {
     "name": "stdout",
     "output_type": "stream",
     "text": [
      "[136, 168, 104, 198, 128]\n"
     ]
    }
   ],
   "source": [
    "import random\n",
    "y=random.sample([x for x in range(100, 201) if x%2==0],5)\n",
    "print(y)"
   ]
  },
  {
   "cell_type": "raw",
   "id": "edb93f73-1af8-4752-a943-c1b87424246b",
   "metadata": {},
   "source": [
    "Question 80 Level 2:\n",
    "\n",
    "Please write a program to randomly generate a list with 5 numbers, which are divisible by 5 and 7 , between 1 and 1000 inclusive.\n",
    "\n",
    "Hints: Use random.sample() to generate a list of random values."
   ]
  },
  {
   "cell_type": "code",
   "execution_count": 121,
   "id": "5fab4339-34b5-45ec-b035-b467edadc8ea",
   "metadata": {},
   "outputs": [
    {
     "name": "stdout",
     "output_type": "stream",
     "text": [
      "[280, 910, 420, 665, 35]\n"
     ]
    }
   ],
   "source": [
    "import random\n",
    "k=random.sample([x for x in range(1,1001) if x%5==0 and x%7==0],5)\n",
    "print(k)"
   ]
  },
  {
   "cell_type": "raw",
   "id": "83e6f238-0ecd-479c-8b15-35519b2c0a4a",
   "metadata": {},
   "source": [
    "Question 81 Level 2:\n",
    "\n",
    "Please write a program to randomly print a integer number between 7 and 15 inclusive.\n",
    "\n",
    "Hints: Use random.randrange() to a random integer in a given range."
   ]
  },
  {
   "cell_type": "code",
   "execution_count": 122,
   "id": "965ca0fe-93aa-4d3a-bf5a-ffed826ed01e",
   "metadata": {},
   "outputs": [
    {
     "name": "stdout",
     "output_type": "stream",
     "text": [
      "15\n"
     ]
    }
   ],
   "source": [
    "import random\n",
    "h=random.randrange(7,16)\n",
    "print(h)"
   ]
  },
  {
   "cell_type": "raw",
   "id": "0a6a957f-829f-42be-8ffc-83c8d937459c",
   "metadata": {},
   "source": [
    "Question 82 Level 2:\n",
    "\n",
    "Please write a program to compress and decompress the string \"hello world!hello world!hello world!hello world!\".\n",
    "\n",
    "Hints: Use zlib.compress() and zlib.decompress() to compress and decompress a string."
   ]
  },
  {
   "cell_type": "code",
   "execution_count": 123,
   "id": "ab4e97be-a603-4adb-b56d-735f2433f7b3",
   "metadata": {},
   "outputs": [
    {
     "name": "stdout",
     "output_type": "stream",
     "text": [
      "b'x\\x9c\\xcbH\\xcd\\xc9\\xc9W(\\xcf/\\xcaIQ\\xcc \\x82\\r\\x00\\xbd[\\x11\\xf5'\n",
      "b'hello world!hello world!hello world!hello world!'\n"
     ]
    }
   ],
   "source": [
    "import zlib\n",
    "st=b\"hello world!hello world!hello world!hello world!\"\n",
    "t=zlib.compress(st)\n",
    "print(t)\n",
    "zlib.decompress(t)\n",
    "print(st)"
   ]
  },
  {
   "cell_type": "raw",
   "id": "f79fc069-70ec-4cff-9730-c94f0e8a504b",
   "metadata": {},
   "source": [
    "Question 83 Level 2:\n",
    "\n",
    "Please write a program to print the running time of execution of \"1+1\" for 100 times.\n",
    "\n",
    "Hints: Use timeit() function to measure the running time."
   ]
  },
  {
   "cell_type": "code",
   "execution_count": 125,
   "id": "f48a9331-cb6e-4273-91dc-e6edb24bd4e1",
   "metadata": {},
   "outputs": [
    {
     "name": "stdout",
     "output_type": "stream",
     "text": [
      "1.2076151000219397\n"
     ]
    }
   ],
   "source": [
    "import timeit\n",
    "t = timeit.Timer(\"for i in range(100):1+1\")\n",
    "print(t.timeit())"
   ]
  },
  {
   "cell_type": "raw",
   "id": "09fb2777-d226-46e8-a61e-6e58f4617a3d",
   "metadata": {},
   "source": [
    "Question 84 level 2:\n",
    "\n",
    "Please write a program to shuffle and print the list [3,6,7,8].\n",
    "\n",
    "Hints: Use shuffle() function to shuffle a list."
   ]
  },
  {
   "cell_type": "code",
   "execution_count": 126,
   "id": "a78f889c-bbf8-45fd-8b3f-890c75be3254",
   "metadata": {},
   "outputs": [
    {
     "name": "stdout",
     "output_type": "stream",
     "text": [
      "[3, 7, 6, 8]\n"
     ]
    }
   ],
   "source": [
    "import random\n",
    "ll=[3,6,7,8]\n",
    "random.shuffle(ll)\n",
    "print(ll)"
   ]
  },
  {
   "cell_type": "raw",
   "id": "38bc0de8-6ff2-4e6f-9750-f0d0660b9c47",
   "metadata": {},
   "source": [
    "Question 85 Level 2: Please write a program to shuffle and print the list [3,6,7,8].\n",
    "\n",
    "Hints: Use shuffle() function to shuffle a list."
   ]
  },
  {
   "cell_type": "code",
   "execution_count": 127,
   "id": "6cf23aed-3cba-49ff-b07b-e6f6deb3420b",
   "metadata": {},
   "outputs": [
    {
     "name": "stdout",
     "output_type": "stream",
     "text": [
      "[3, 7, 6, 8]\n"
     ]
    }
   ],
   "source": [
    "import random\n",
    "pp=[3,6,7,8]\n",
    "random.shuffle(pp)\n",
    "print(pp)"
   ]
  },
  {
   "cell_type": "raw",
   "id": "787ba6a7-cc83-4835-a7ea-2dd3ffda874d",
   "metadata": {},
   "source": [
    "Question 86 Level 2:\n",
    "\n",
    "Please write a program to generate all sentences where subject is in [\"I\", \"You\"] and verb is in [\"Play\", \"Love\"] and the object is in [\"Hockey\",\"Football\"].\n",
    "\n",
    "Hints: Use list[index] notation to get a element from a list."
   ]
  },
  {
   "cell_type": "code",
   "execution_count": 128,
   "id": "5a525525-db98-4d3f-b4bf-f80144301721",
   "metadata": {},
   "outputs": [
    {
     "name": "stdout",
     "output_type": "stream",
     "text": [
      "You Love Football\n"
     ]
    }
   ],
   "source": [
    "import random\n",
    "sub=['I','You']\n",
    "verbs=['Play','Love']\n",
    "objec=['Hockey','Football']\n",
    "sentence=random.choice(sub)+\" \"+random.choice(verbs)+\" \"+random.choice(objec)\n",
    "print(sentence)"
   ]
  },
  {
   "cell_type": "raw",
   "id": "1c65906f-24b9-4752-bde3-3cf6fc5d7573",
   "metadata": {},
   "source": [
    "Question 87 Level 2:\n",
    "\n",
    "Please write a program to print the list after removing delete even numbers in [5,6,77,45,22,12,24].\n",
    "\n",
    "Hints: Use list comprehension to delete a bunch of element from a list."
   ]
  },
  {
   "cell_type": "code",
   "execution_count": 129,
   "id": "e1c9ba8b-8375-4481-9153-fd7eeb40bff2",
   "metadata": {},
   "outputs": [
    {
     "name": "stdout",
     "output_type": "stream",
     "text": [
      "[5, 77, 45]\n"
     ]
    }
   ],
   "source": [
    "ll=[5,6,77,45,22,12,24]\n",
    "answer=[]\n",
    "for number in ll:\n",
    "    if number%2!=0:\n",
    "        answer.append(number)\n",
    "print(answer)"
   ]
  },
  {
   "cell_type": "code",
   "execution_count": 130,
   "id": "aa7b3327-f7bc-4f1c-a605-9ecd6a76381b",
   "metadata": {},
   "outputs": [
    {
     "name": "stdout",
     "output_type": "stream",
     "text": [
      "[5, 77, 45]\n"
     ]
    }
   ],
   "source": [
    "ll=[5,6,77,45,22,12,24]\n",
    "jj=[x for x in ll if x%2!=0]\n",
    "print(jj)"
   ]
  },
  {
   "cell_type": "raw",
   "id": "3a09df2b-08c2-44f3-9c31-21aeff0e9d75",
   "metadata": {},
   "source": [
    "Question 88 Level 2:\n",
    "\n",
    "By using list comprehension, please write a program to print the list after removing delete numbers which are divisible by 5 and 7 in [12,24,35,70,88,120,155].\n",
    "\n",
    "Hints: Use list comprehension to delete a bunch of element from a list."
   ]
  },
  {
   "cell_type": "code",
   "execution_count": 131,
   "id": "c02bd334-5dc6-4ee0-9485-5e9085f2171f",
   "metadata": {},
   "outputs": [
    {
     "name": "stdout",
     "output_type": "stream",
     "text": [
      "[35, 70]\n"
     ]
    }
   ],
   "source": [
    "n= [12,24,35,70,88,120,155]\n",
    "dd=[x for x in n if x%5==0 and x%7==0]\n",
    "print(dd)"
   ]
  },
  {
   "cell_type": "raw",
   "id": "91e6703f-3dca-4b0a-8ad6-7e38a2876ba9",
   "metadata": {},
   "source": [
    "Question 89 Level 2:\n",
    "\n",
    "By using list comprehension, please write a program to print the list after removing the 0th, 2nd, 4th,6th numbers in [12,24,35,70,88,120,155].\n",
    "\n",
    "Hints: Use list comprehension to delete a bunch of element from a list. Use enumerate() to get (index, value) tuple."
   ]
  },
  {
   "cell_type": "code",
   "execution_count": 132,
   "id": "dc5fd8c3-0430-41a2-b1ac-6e7e14b95c2d",
   "metadata": {},
   "outputs": [
    {
     "name": "stdout",
     "output_type": "stream",
     "text": [
      "[24, 70, 120]\n"
     ]
    }
   ],
   "source": [
    "jj=[12,24,35,70,88,120,155]\n",
    "df=[value for index, value in enumerate(jj) if index%2!=0]\n",
    "print(df)"
   ]
  },
  {
   "cell_type": "raw",
   "id": "621c41ce-7537-4164-81ff-f4ec6b90028b",
   "metadata": {},
   "source": [
    "Question 90 Level 2:\n",
    "\n",
    "By using list comprehension, please write a program generate a 358 3D array whose each element is 0.\n",
    "\n",
    "Hints: Use list comprehension to make an array."
   ]
  },
  {
   "cell_type": "code",
   "execution_count": 133,
   "id": "1166e9b2-d946-4673-a499-d53561a4e3f7",
   "metadata": {},
   "outputs": [
    {
     "name": "stdout",
     "output_type": "stream",
     "text": [
      "[[[0, 0, 0, 0, 0, 0, 0, 0], [0, 0, 0, 0, 0, 0, 0, 0], [0, 0, 0, 0, 0, 0, 0, 0], [0, 0, 0, 0, 0, 0, 0, 0], [0, 0, 0, 0, 0, 0, 0, 0]], [[0, 0, 0, 0, 0, 0, 0, 0], [0, 0, 0, 0, 0, 0, 0, 0], [0, 0, 0, 0, 0, 0, 0, 0], [0, 0, 0, 0, 0, 0, 0, 0], [0, 0, 0, 0, 0, 0, 0, 0]], [[0, 0, 0, 0, 0, 0, 0, 0], [0, 0, 0, 0, 0, 0, 0, 0], [0, 0, 0, 0, 0, 0, 0, 0], [0, 0, 0, 0, 0, 0, 0, 0], [0, 0, 0, 0, 0, 0, 0, 0]]]\n"
     ]
    }
   ],
   "source": [
    "array= [[ [0 for col in range(8)] for col in range(5)] for row in range(3)]\n",
    "print(array)"
   ]
  },
  {
   "cell_type": "raw",
   "id": "073a3156-b760-47c4-947c-e5204466f7b9",
   "metadata": {},
   "source": [
    "Question 91 Level 2:\n",
    "\n",
    "By using list comprehension, please write a program to print the list after removing the 0th,4th,5th numbers in [12,24,35,70,88,120,155].\n",
    "\n",
    "Hints: Use list comprehension to delete a bunch of element from a list. Use enumerate() to get (index, value) tuple."
   ]
  },
  {
   "cell_type": "code",
   "execution_count": 134,
   "id": "d01994f4-6d88-4385-be9a-00e0db585aba",
   "metadata": {},
   "outputs": [
    {
     "name": "stdout",
     "output_type": "stream",
     "text": [
      "[24, 35, 70, 155]\n"
     ]
    }
   ],
   "source": [
    "js=[12,24,35,70,88,120,155]\n",
    "dg=[value for index, value in enumerate(js) if index!=0 and index!=4 and index!=5]\n",
    "print(dg)"
   ]
  },
  {
   "cell_type": "raw",
   "id": "4d813e80-e83e-4436-a16b-300e8b0244d4",
   "metadata": {},
   "source": [
    "Question 92 Level 2:\n",
    "\n",
    "By using list comprehension, please write a program to print the list after removing the value 24 in [12,24,35,24,88,120,155].\n",
    "\n",
    "Hints: Use list's remove method to delete a value."
   ]
  },
  {
   "cell_type": "code",
   "execution_count": 135,
   "id": "6e7285c8-f416-4ae5-b927-ef3ed2d5a9ce",
   "metadata": {},
   "outputs": [
    {
     "name": "stdout",
     "output_type": "stream",
     "text": [
      "[12, 35, 88, 120, 155]\n"
     ]
    }
   ],
   "source": [
    "numlist=[12,24,35,24,88,120,155]\n",
    "\n",
    "for num in numlist:\n",
    "    if num==24:\n",
    "        numlist.remove(24)\n",
    "print(numlist)"
   ]
  },
  {
   "cell_type": "code",
   "execution_count": 136,
   "id": "ec20ee1b-883a-4803-95d7-47ff557276d5",
   "metadata": {},
   "outputs": [
    {
     "name": "stdout",
     "output_type": "stream",
     "text": [
      "[12, 35, 88, 120, 155]\n"
     ]
    }
   ],
   "source": [
    "numlist=[12,24,35,24,88,120,155]\n",
    "answerlist=[x for x in numlist if x!=24]\n",
    "print(answerlist)"
   ]
  },
  {
   "cell_type": "raw",
   "id": "0e46fefe-f072-4577-b398-6c40e54e186b",
   "metadata": {},
   "source": [
    "Question 93 Level 2:\n",
    "\n",
    "With two given lists [1,3,6,78,35,55] and [12,24,35,24,88,120,155], write a program to make a list whose elements are intersection of the above given lists.\n",
    "\n",
    "Hints: Use set() and \"&=\" to do set intersection operation."
   ]
  },
  {
   "cell_type": "code",
   "execution_count": 137,
   "id": "ea95a9c9-659c-4d36-bc6f-0a677b6131ca",
   "metadata": {},
   "outputs": [
    {
     "name": "stdout",
     "output_type": "stream",
     "text": [
      "{35}\n"
     ]
    }
   ],
   "source": [
    "l1=[1,3,6,78,35,55]\n",
    "l2=[12,24,35,24,88,120,155]\n",
    "l1=set(l1)\n",
    "l2=set(l2)\n",
    "inter=l1&l2\n",
    "print(inter)"
   ]
  },
  {
   "cell_type": "raw",
   "id": "b0b98344-6f0a-49e6-86a5-d366a2465843",
   "metadata": {},
   "source": [
    "Question 94 Level 2:\n",
    "\n",
    "With a given list [12,24,35,24,88,120,155,88,120,155], write a program to print this list after removing all duplicate values with original order reserved.\n",
    "\n",
    "Hints: Use set() to store a number of values without duplicate."
   ]
  },
  {
   "cell_type": "code",
   "execution_count": 138,
   "id": "d7f57d7d-e896-4b42-85a7-61951c5ba1d8",
   "metadata": {},
   "outputs": [
    {
     "name": "stdout",
     "output_type": "stream",
     "text": [
      "[155, 120, 88, 35, 24, 12]\n"
     ]
    }
   ],
   "source": [
    "l1= [12,24,35,24,88,120,155,88,120,155]\n",
    "l1=set(l1)\n",
    "l1=list(l1)\n",
    "l1.sort(reverse=True)\n",
    "print(l1)"
   ]
  },
  {
   "cell_type": "raw",
   "id": "fc6a0572-23d3-48c8-8243-36582a8a127e",
   "metadata": {},
   "source": [
    "Question 95 Level 2:\n",
    "\n",
    "Define a class Person and its two child classes: Male and Female. All classes have a method \"getGender\" which can print \"Male\" for Male class and \"Female\" for Female class.\n",
    "\n",
    "Hints: Use Subclass(Parentclass) to define a child class."
   ]
  },
  {
   "cell_type": "code",
   "execution_count": 139,
   "id": "3439fdf3-6288-4b5d-b924-647681d28b49",
   "metadata": {},
   "outputs": [
    {
     "name": "stdout",
     "output_type": "stream",
     "text": [
      "Gender\n",
      "Male\n",
      "Female\n"
     ]
    }
   ],
   "source": [
    "\n",
    "class Person():\n",
    "    def __init__(self):\n",
    "        self.gender=\"Gender\"\n",
    "    def getGender(self):\n",
    "        return self.gender\n",
    "class Male(Person):\n",
    "    def getGender(self,gender):\n",
    "        self.gender=gender\n",
    "        return self.gender\n",
    "class Female(Person):\n",
    "    def getGender(self,gender):\n",
    "        self.gender=gender\n",
    "        return self.gender\n",
    "obj=Person()\n",
    "print(obj.getGender())\n",
    "obj1=Male()\n",
    "print(obj1.getGender(\"Male\"))\n",
    "obj2=Female()\n",
    "print(obj2.getGender(\"Female\"))"
   ]
  },
  {
   "cell_type": "raw",
   "id": "8e5143bd-6df2-405f-b9cc-f05b2c49562a",
   "metadata": {},
   "source": [
    "Question 96 Level 2:\n",
    "\n",
    "Please write a program which count and print the numbers of each character in a string input by console.\n",
    "\n",
    "Example: If the following string is given as input to the program:\n",
    "\n",
    "abcdefgabc\n",
    "\n",
    "Then, the output of the program should be:\n",
    "\n",
    "a,2 c,2 b,2 e,1 d,1 g,1 f,1\n",
    "\n",
    "Hints: Use dict to store key/value pairs. Use dict.get() method to lookup a key with default value."
   ]
  },
  {
   "cell_type": "code",
   "execution_count": 141,
   "id": "b77236c3-f23e-41a7-bcc1-08ec6f4c4863",
   "metadata": {},
   "outputs": [
    {
     "name": "stdin",
     "output_type": "stream",
     "text": [
      "Enter a string :  ertyu\n"
     ]
    },
    {
     "name": "stdout",
     "output_type": "stream",
     "text": [
      "e  :  1\n",
      "r  :  1\n",
      "t  :  1\n",
      "y  :  1\n",
      "u  :  1\n"
     ]
    }
   ],
   "source": [
    "st=input(\"Enter a string : \")\n",
    "dic={}\n",
    "for char in st:\n",
    "    if char in dic:\n",
    "        dic[char]+=1\n",
    "    else:\n",
    "        dic[char]=1\n",
    "\n",
    "keys=list(dic.keys())\n",
    "values=list(dic.values())\n",
    "for i in range(0, len(keys)):\n",
    "    print(keys[i],\" : \",values[i])"
   ]
  },
  {
   "cell_type": "raw",
   "id": "f8e05311-fedd-4157-8c57-c90ca6bfa827",
   "metadata": {},
   "source": [
    "Question 97 Level 2:\n",
    "\n",
    "Please write a program which accepts a string from console and print it in reverse order.\n",
    "\n",
    "Example: If the following string is given as input to the program:\n",
    "\n",
    "rise to vote sir\n",
    "\n",
    "Then, the output of the program should be:\n",
    "\n",
    "ris etov ot esir\n",
    "\n",
    "Hints: Use list[::-1] to iterate a list in a reverse order."
   ]
  },
  {
   "cell_type": "code",
   "execution_count": 142,
   "id": "ca4c906e-5f02-4312-90af-a27b874a6569",
   "metadata": {},
   "outputs": [
    {
     "name": "stdin",
     "output_type": "stream",
     "text": [
      "Enter a string :  hai\n"
     ]
    },
    {
     "name": "stdout",
     "output_type": "stream",
     "text": [
      "iah\n"
     ]
    }
   ],
   "source": [
    "st=input(\"Enter a string : \")\n",
    "revers=st[::-1]\n",
    "print(revers)"
   ]
  },
  {
   "cell_type": "raw",
   "id": "fe2b2fcc-ed25-46b8-8398-7d8f8c8c3681",
   "metadata": {},
   "source": [
    "Question 98 Level 2:\n",
    "\n",
    "Please write a program which accepts a string from console and print the characters that have even indexes.\n",
    "\n",
    "Example: If the following string is given as input to the program:\n",
    "\n",
    "H1e2l3l4o5w6o7r8l9d\n",
    "\n",
    "Then, the output of the program should be:\n",
    "\n",
    "Helloworld\n",
    "\n",
    "Hints: Use list[::2] to iterate a list by step 2."
   ]
  },
  {
   "cell_type": "code",
   "execution_count": 143,
   "id": "6e96a739-72b9-4374-a13d-105868ee5294",
   "metadata": {},
   "outputs": [
    {
     "name": "stdin",
     "output_type": "stream",
     "text": [
      "Enter a string :  H1e2l3l4o5w6o7r8l9d\n"
     ]
    },
    {
     "name": "stdout",
     "output_type": "stream",
     "text": [
      "Helloworld\n"
     ]
    }
   ],
   "source": [
    "st=input(\"Enter a string : \")\n",
    "answer=st[::2]\n",
    "print(answer)"
   ]
  },
  {
   "cell_type": "raw",
   "id": "cd8c8f9e-4f4b-4210-9853-b644e42ef61a",
   "metadata": {},
   "source": [
    "Question 99 Level 2:\n",
    "\n",
    "Please write a program which prints all permutations of [1,2,3]\n",
    "\n",
    "Hints: Use itertools.permutations() to get permutations of list."
   ]
  },
  {
   "cell_type": "code",
   "execution_count": 144,
   "id": "6b76e6e2-091b-4ffc-a141-63e2f3b79377",
   "metadata": {},
   "outputs": [
    {
     "name": "stdout",
     "output_type": "stream",
     "text": [
      "[(1, 2, 3), (1, 3, 2), (2, 1, 3), (2, 3, 1), (3, 1, 2), (3, 2, 1)]\n"
     ]
    }
   ],
   "source": [
    "import itertools\n",
    "print(list(itertools.permutations([1,2,3])))"
   ]
  },
  {
   "cell_type": "raw",
   "id": "36f01eaa-3def-45ed-9214-fc602bc0594b",
   "metadata": {},
   "source": [
    "Question 100 Level 2:\n",
    "\n",
    "Write a program to solve a classic ancient Chinese puzzle: We count 35 heads and 94 legs among the chickens and rabbits in a farm. How many rabbits and how many chickens do we have?\n",
    "\n",
    "Hint: Use for loop to iterate all possible solutions."
   ]
  },
  {
   "cell_type": "code",
   "execution_count": 145,
   "id": "4944263b-1e12-4c8f-8bff-69ea3bdab346",
   "metadata": {},
   "outputs": [
    {
     "name": "stdout",
     "output_type": "stream",
     "text": [
      "(23, 12)\n"
     ]
    }
   ],
   "source": [
    "def fun(heads,legs):\n",
    "    for chicken in range(0, heads+1):\n",
    "        rabbit=heads-chicken\n",
    "        if 2*chicken+4*rabbit==legs:\n",
    "            return chicken, rabbit\n",
    "        \n",
    "    return \"Not solved\"\n",
    "\n",
    "heads=35\n",
    "legs=94\n",
    "values=fun(heads,legs)\n",
    "print(values)"
   ]
  },
  {
   "cell_type": "code",
   "execution_count": 146,
   "id": "c4343b3a-192c-40c3-8031-eb0097e8f318",
   "metadata": {},
   "outputs": [
    {
     "name": "stdout",
     "output_type": "stream",
     "text": [
      "99\n",
      "c\n"
     ]
    }
   ],
   "source": [
    "print(ord('c'))##ASCII VALUE\n",
    "print(chr(99))##"
   ]
  },
  {
   "cell_type": "raw",
   "id": "a5b48aa1-22ee-4310-a5b7-0460c7cc026b",
   "metadata": {},
   "source": [
    "Another 51 questions\n",
    "Question 01: Here’s an example of the input and output values of this problem: Transpose of a given matrix\n",
    "\n",
    "The dimensions of a matrix are n x m, where n is the number of rows and m is the number of columns. After transposing a matrix, the dimensions are reversed into an m x n matrix.\n",
    "\n",
    "Input: [[1,2,3],[4,5,6],[7,8,9]] | Output: [[1,4,7],[2,5,8],[3,6,9]]"
   ]
  },
  {
   "cell_type": "code",
   "execution_count": 147,
   "id": "d4b3b515-0160-421c-9805-3e49d2852f3e",
   "metadata": {},
   "outputs": [
    {
     "name": "stdout",
     "output_type": "stream",
     "text": [
      "[[0, 0, 0], [0, 0, 0], [0, 0, 0]]\n"
     ]
    },
    {
     "data": {
      "text/plain": [
       "[[1, 4, 7], [2, 5, 8], [3, 6, 9]]"
      ]
     },
     "execution_count": 147,
     "metadata": {},
     "output_type": "execute_result"
    }
   ],
   "source": [
    "def transpose_of_matrix(original_matrix):\n",
    "    rows=len(original_matrix)\n",
    "    columns=len(original_matrix[0])\n",
    "    tra_matrix=[[0 for x in range(0,columns)] for x in range(0,rows)]\n",
    "    print(tra_matrix)\n",
    "    for i in range(0,rows):\n",
    "        for j in range(0, columns):\n",
    "            tra_matrix[i][j]=original_matrix[j][i]\n",
    "    return tra_matrix\n",
    "\n",
    "transpose_of_matrix([[1,2,3],[4,5,6],[7,8,9]])"
   ]
  },
  {
   "cell_type": "raw",
   "id": "5ef4c4d5-8665-423a-ba62-900c65397761",
   "metadata": {},
   "source": [
    "Question 02:\n",
    "\n",
    "Buddy Strings Problem\n",
    "\n",
    "In the Buddy Strings problem, you need to check if it is possible to get two strings, different from exactly a swap of two letters. If such a swap exists, the program should return True; otherwise, it should return False. The program should also return False if the two strings have different lengths.\n",
    "\n",
    "Here’s an example of the input and output values of this problem:\n",
    "\n",
    "Input: s = “ab”, goal = “ba” | Output: True\n",
    "\n",
    "The output of the above example is true because we can swap the a and b in string s to get the desired goal."
   ]
  },
  {
   "cell_type": "code",
   "execution_count": 148,
   "id": "f9a291e5-0706-4636-93c8-6b9cc01de2d3",
   "metadata": {},
   "outputs": [
    {
     "data": {
      "text/plain": [
       "True"
      ]
     },
     "execution_count": 148,
     "metadata": {},
     "output_type": "execute_result"
    }
   ],
   "source": [
    "def buddy_string(a,b):\n",
    "    if a == b[::-1]:\n",
    "        return True\n",
    "    else:\n",
    "        return False\n",
    "buddy_string(\"ab\",'ba')"
   ]
  },
  {
   "cell_type": "raw",
   "id": "5cc5fe2f-ed48-4615-bfb9-a4af2228a776",
   "metadata": {},
   "source": [
    "Question 3: Finding Uncommon Words from Two Sentences\n",
    "\n",
    "A word is considered uncommon if it occurs exactly once in one of the sentences and does not appear in the other. To solve this problem, you need to find all the words that appear only once in two given sentences.\n",
    "\n",
    "Here’s an example of the input and output values of this problem:\n",
    "\n",
    "sentence 1 = “the quick brown fox jumps over the lazy dog”,\n",
    "\n",
    "sentence 2 = “the quick brown dog jumps over the lazy fox”\n",
    "\n",
    "Output: [‘fox’, ‘dog’]\n",
    "\n",
    "In the example above, the uncommon words in these two sentences are “fox” and “dog” since they appear exactly once in each sentence and do not appear in the other."
   ]
  },
  {
   "cell_type": "code",
   "execution_count": 149,
   "id": "834194c3-81f2-4bf4-a0c5-1027b56b7ebd",
   "metadata": {},
   "outputs": [
    {
     "name": "stdin",
     "output_type": "stream",
     "text": [
      "Enter sentence 1:  the quick brown fox jumps over the lazy dog\n",
      "Enter sentense 2:  the quick brown dog jumps over the lazy fox\n"
     ]
    },
    {
     "name": "stdout",
     "output_type": "stream",
     "text": [
      "['fox', 'dog']\n"
     ]
    }
   ],
   "source": [
    "def Uncommon(s1, s2):\n",
    "    answer_list=[]\n",
    "    if len(s1)!=len(s2):\n",
    "        return \"Invalid String Length\"\n",
    "    for i in range(len(s1)):\n",
    "        if s1[i]!=s2[i]:\n",
    "            answer_list.append(s1[i])\n",
    "            answer_list.append(s2[i])\n",
    "    answer_list=set(answer_list)\n",
    "    return list(answer_list)\n",
    "\n",
    "\n",
    "sentence_1=input(\"Enter sentence 1: \")\n",
    "sentence_2=input(\"Enter sentense 2: \")\n",
    "sl1=sentence_1.split(\" \")\n",
    "sl2=sentence_2.split(\" \")\n",
    "answer=Uncommon(sl1,sl2)\n",
    "print(answer)"
   ]
  },
  {
   "cell_type": "raw",
   "id": "b3cf9898-cd03-45ee-8b10-4f8badc43e7f",
   "metadata": {},
   "source": [
    "Question:4\n",
    "\n",
    "Binary Search Algorithm The binary search algorithm is a searching algorithm used to find an element in a sorted array by repeatedly dividing the search interval in half. Below is how the Binary Search algorithm works:\n",
    "\n",
    "It starts by defining a search range that spans the entire array.\n",
    "\n",
    "Then compares the target value with the middle element of the search range.\n",
    "\n",
    "If the target value is equal to the middle element, the target is found and returns its index.\n",
    "\n",
    "If the target value is less than the middle element, the algorithm discards the upper half of the search range and repeats step 2 with the lower half.\n",
    "\n",
    "If the target value is greater than the middle element, the algorithm discards the lower half of the search range and repeats step 2 with the upper half.\n",
    "\n",
    "It repeats steps 2 through 5 until the target value is found or the search range is empty.\n",
    "\n",
    "Below is the kind of input and output you will see in the problem of binary search in your coding interviews:\n",
    "\n",
    "Input = [-1,0,3,5,9,12], target = 9 | Output = 4"
   ]
  },
  {
   "cell_type": "code",
   "execution_count": 150,
   "id": "b3b8d1f6-9e22-4d8d-ad04-d283232ec5ea",
   "metadata": {},
   "outputs": [
    {
     "name": "stdout",
     "output_type": "stream",
     "text": [
      "Element found at :4\n"
     ]
    }
   ],
   "source": [
    "def Binary_Search(num_list,element):\n",
    "    num_list.sort()\n",
    "    ##checking if length is evn or odd\n",
    "    if len(num_list)%2==0:\n",
    "        answer=\"\"\n",
    "        if element<len(num_list)//2:\n",
    "            temp=num_list[:len(num_list)//2]\n",
    "            for i in range(len(temp)):\n",
    "                if element==temp[i]:\n",
    "                    answer+= \"Element found at \"+str(i)\n",
    "                    return answer\n",
    "                    \n",
    "        elif element>len(num_list)//2:\n",
    "            temp=num_list[len(num_list)//2:]\n",
    "            for i in range(len(temp)):\n",
    "                if element==temp[i]:\n",
    "                    answer+= \"Element found at :\"+str(i+len(temp))\n",
    "                    return answer\n",
    "        else:\n",
    "            return \"Incorrect Search Element\"\n",
    "        return \"Incorrect Search Element\"\n",
    "        \n",
    "        \n",
    "        \n",
    "    ##length is odd\n",
    "    else:\n",
    "        answer=\"\"\n",
    "        if element==(len(num_list))//2:\n",
    "            return \"Element found at : \"+str(len(num_list)//2)\n",
    "        elif element<len(num_list)//2:\n",
    "            temp=num_list[:len(num_list)//2]\n",
    "            for i in range(len(temp)):\n",
    "                if element==temp[i]:\n",
    "                    answer+= \"Element found at \"+str(i)\n",
    "                    return answer\n",
    "        elif element>len(num_list)//2:\n",
    "            temp=num_list[len(num_list)//2:]\n",
    "            for i in range(len(temp)):\n",
    "                if temp[i]==element:\n",
    "                    answer+=\"Element found at : \"+str(i+len(temp))\n",
    "        else:\n",
    "            return \"Incorrect Search Element\"\n",
    "        return \"Incorrect Search Element\"\n",
    "        \n",
    "\n",
    "\n",
    "num_list=[-1,3,5,9,45,76]\n",
    "element=45\n",
    "answer=Binary_Search(num_list,element)\n",
    "print(answer)"
   ]
  },
  {
   "cell_type": "raw",
   "id": "64544030-ea86-45c7-bfdd-4752fd50e6f1",
   "metadata": {},
   "source": [
    "Question 5: Set Mismatch Problem\n",
    "\n",
    "In the Set Mismatch problem, you will be given an array of positive integers with some elements missing or duplicated. You need to identify and return the missing and duplicated numbers to solve this problem.\n",
    "\n",
    "Here’s an example of the input and output values of this problem:\n",
    "\n",
    "Input: [1, 2, 3, 4, 4, 6] | Output: [5, 4]\n",
    "\n",
    "In this example, the missing number is 5 since it is the only positive integer from 1 to 6 that is not present in the array, and the duplicate number is 4 since it appears twice."
   ]
  },
  {
   "cell_type": "code",
   "execution_count": 151,
   "id": "4c43ac93-c61f-40ac-80d5-3b1facb3bf71",
   "metadata": {},
   "outputs": [
    {
     "name": "stdout",
     "output_type": "stream",
     "text": [
      "1 9\n",
      "[1, 2, 3, 4, 5, 8]\n"
     ]
    }
   ],
   "source": [
    "def mismatch_problem(num_list):\n",
    "    min_number=min(num_list)\n",
    "    max_number=max(num_list)\n",
    "    print(min_number, max_number)\n",
    "    missing_numbers=[]\n",
    "    duplicate_numbers={}\n",
    "    for i in range(min_number, max_number+1):\n",
    "        if i not in num_list:\n",
    "            missing_numbers.append(i)\n",
    "            \n",
    "    ##duplicate numbers\n",
    "    for number in num_list:\n",
    "        #print(number, end=\",,,,\")\n",
    "        if number in duplicate_numbers:\n",
    "            duplicate_numbers[number]+=1\n",
    "        else:\n",
    "            duplicate_numbers[number]=1\n",
    "            \n",
    "    duplicate_num_list=[number for number in duplicate_numbers if duplicate_numbers[number]>1]\n",
    "    \n",
    "    duplicate_num_list=set(duplicate_num_list)\n",
    "    missing_numbers=set(missing_numbers)\n",
    "    answer_set=duplicate_num_list|missing_numbers\n",
    "    return list(answer_set)\n",
    "\n",
    "    #print(duplicate_numbers)\n",
    "        \n",
    "        \n",
    "    #return missing_numbers\n",
    "\n",
    "num_list=[1,1,3,3,9,6,7,3]\n",
    "answer=mismatch_problem(num_list)\n",
    "print(answer)"
   ]
  },
  {
   "cell_type": "raw",
   "id": "790f384e-752b-4b02-8aea-75b7c899296a",
   "metadata": {},
   "source": [
    "Question 6: Redorder routes\n",
    "\n",
    "In the problem of reordering routes to make all paths lead to city zero, you will be given an array of connections between cities in pairs of integers. Each connection will show a one-way route from one city to another. For example, [1, 0] means that there is a one-way road from city 1 to city 0. Your task is to reorder the connections such that each city can be reached from city 0, directly or indirectly. The output value should return the minimum number of edges changed.\n",
    "\n",
    "Here’s an example of the input and output values of this problem:\n",
    "\n",
    "Input: n = 5, connections = [[1,0],[1,2],[3,2],[3,4]] | Output = 2 In the above example, the output is 2 because we need to reverse two connections to make all paths lead to city zero."
   ]
  },
  {
   "cell_type": "code",
   "execution_count": 152,
   "id": "8165393c-98ca-425c-a088-b29255409a7b",
   "metadata": {},
   "outputs": [
    {
     "name": "stdout",
     "output_type": "stream",
     "text": [
      "1 0,defaultdict(<class 'list'>, {1: [(0, 1)], 0: [(1, 0)]})\n",
      "1 2,defaultdict(<class 'list'>, {1: [(0, 1), (2, 1)], 0: [(1, 0)], 2: [(1, 0)]})\n",
      "3 2,defaultdict(<class 'list'>, {1: [(0, 1), (2, 1)], 0: [(1, 0)], 2: [(1, 0), (3, 0)], 3: [(2, 1)]})\n",
      "3 4,defaultdict(<class 'list'>, {1: [(0, 1), (2, 1)], 0: [(1, 0)], 2: [(1, 0), (3, 0)], 3: [(2, 1), (4, 1)], 4: [(3, 0)]})\n",
      "2\n"
     ]
    }
   ],
   "source": [
    "from collections import defaultdict\n",
    "def minReorder(n, connections):\n",
    "    graph = defaultdict(list)\n",
    "    #print(graph)\n",
    "    for u, v, in connections:\n",
    "        print(u, v, end=\",\")\n",
    "        graph[u].append((v, 1))\n",
    "        graph[v].append((u, 0))\n",
    "        print(graph)\n",
    "            \n",
    "    def dfs(node):\n",
    "        nonlocal total\n",
    "        visited.add(node)\n",
    "            \n",
    "        for neighbor, cost in graph[node]:\n",
    "            if neighbor not in visited:\n",
    "                total += cost\n",
    "                dfs(neighbor)\n",
    "    total = 0\n",
    "    visited = set()\n",
    "    dfs(0)\n",
    "    return total\n",
    "\n",
    "n = 6\n",
    "connections = [[0,1],[1,3],[2,3],[4,0],[4,5]]\n",
    "connections = [[1,0],[1,2],[3,2],[3,4]] \n",
    "print(minReorder(n, connections))"
   ]
  },
  {
   "cell_type": "raw",
   "id": "2de98f83-62de-4b9f-a704-76556c3bf119",
   "metadata": {},
   "source": [
    "Question 7 : Detect Capital Problem\n",
    "\n",
    "In the detect capital problem, you will be given a word as input, and you need to check if:\n",
    "\n",
    "All the letters are uppercase: return True;\n",
    "\n",
    "All the letters are lowercase: return True;\n",
    "\n",
    "Only the first letter is uppercase: return True;\n",
    "\n",
    "Some letters are uppercase, and some are lowercase: return False;\n",
    "\n",
    "The first letter is lowercase with an uppercase letter in the word: return False;\n",
    "\n",
    "So in this problem, we need to check if the words containing capital letters are using capital letters correctly or not. For example, look at the input and output values of this problem shown below:\n",
    "\n",
    "Input: “USA” | Output: True\n",
    "\n",
    "Input: “aman” | Output: True\n",
    "\n",
    "Input: “Google” | Output: True\n",
    "\n",
    "Input: “FlaG” | Output: False"
   ]
  },
  {
   "cell_type": "code",
   "execution_count": 153,
   "id": "cd854f99-d426-460a-ae27-1728ea473102",
   "metadata": {},
   "outputs": [
    {
     "name": "stdin",
     "output_type": "stream",
     "text": [
      "Enter you word :  USA\n"
     ]
    },
    {
     "name": "stdout",
     "output_type": "stream",
     "text": [
      "True\n"
     ]
    }
   ],
   "source": [
    "def Upp_Problem(word):\n",
    "    if word.isupper() or word.islower() or word.istitle():\n",
    "        return True\n",
    "    else:\n",
    "        return False\n",
    "    \n",
    "word=input(\"Enter you word : \")\n",
    "answer=Upp_Problem(word)\n",
    "print(answer)\n",
    "    "
   ]
  },
  {
   "cell_type": "raw",
   "id": "62dcbb74-23aa-4c08-a823-bf7d8353acf3",
   "metadata": {},
   "source": [
    "Question 8: Perfect Number Problem\n",
    "\n",
    "In coding interviews, you will be given a number, and you need to check whether the number is equal to the sum of its divisors, excluding the number itself.\n",
    "\n",
    "For example, 6 is a perfect number because its divisors (excluding itself) are 1, 2, and 3, and 1 + 2 + 3 = 6.\n",
    "\n",
    "If it’s a perfect number, your output should return True, otherwise False.\n",
    "\n",
    "For example, look at the input and output values of this problem shown below:\n",
    "\n",
    "Input: 28 | Output: True\n",
    "\n",
    "Input: 7 | Output: False"
   ]
  },
  {
   "cell_type": "code",
   "execution_count": 154,
   "id": "103714c9-823e-4634-b33a-2081407a28c3",
   "metadata": {},
   "outputs": [
    {
     "name": "stdin",
     "output_type": "stream",
     "text": [
      "Enter a number..:  28\n"
     ]
    },
    {
     "name": "stdout",
     "output_type": "stream",
     "text": [
      "Perfect Number\n"
     ]
    }
   ],
   "source": [
    "def PerfectNumber(num):\n",
    "    total=0\n",
    "    for i in range(1,num):\n",
    "        if num%i==0:\n",
    "            total+=i\n",
    "    if num==total:\n",
    "        return \"Perfect Number\"\n",
    "    else:\n",
    "        return \"Not a perfect number\"\n",
    "            \n",
    "\n",
    "number=int(input(\"Enter a number..: \"))\n",
    "answer=PerfectNumber(number)\n",
    "print(answer)"
   ]
  },
  {
   "cell_type": "raw",
   "id": "8f17b13b-0416-4ff9-8be7-2081ce0437d9",
   "metadata": {},
   "source": [
    "Question 9 Relative Ranks Problem\n",
    "\n",
    "In the relative ranks problem, you will be given an array of integers representing the scores of athletes, and we need to assign ranks in descending order.\n",
    "\n",
    "The highest score will get the rank of “Gold Medal”,\n",
    "\n",
    "the second-highest score will get the rank of “Silver Medal”,\n",
    "\n",
    "the third-highest will get “Bronze Medal”, and the remaining scores will be ranked in descending order.\n",
    "\n",
    "For example, look at the input and output values of this problem shown below:\n",
    "\n",
    "Input: [5, 4, 3, 2, 1] | Output: [“Gold Medal”, “Silver Medal”, “Bronze Medal”, “4”, “5”]"
   ]
  },
  {
   "cell_type": "code",
   "execution_count": 155,
   "id": "2f5c08a0-b830-4c44-8aec-d56005d05104",
   "metadata": {},
   "outputs": [
    {
     "name": "stdout",
     "output_type": "stream",
     "text": [
      "[0, 1, 1, 1, 5]\n",
      "['Gold Medal', 'Silver Medal', 'Bronze Medal', 1, 5]\n"
     ]
    }
   ],
   "source": [
    "def RelativeRanks(ranks_list):\n",
    "    ranks_list.sort()\n",
    "    print(ranks_list)\n",
    "    ranks_list[0]=\"Gold Medal\"\n",
    "    ranks_list[1]=\"Silver Medal\"\n",
    "    ranks_list[2]=\"Bronze Medal\"\n",
    "    \n",
    "    return ranks_list\n",
    "    \n",
    "\n",
    "\n",
    "ranks_list=[5,1,0,1,1]\n",
    "answer=RelativeRanks(ranks_list)\n",
    "print(answer)"
   ]
  },
  {
   "cell_type": "raw",
   "id": "a53c0978-5e73-4c81-97f1-3e4da8f6d9e3",
   "metadata": {},
   "source": [
    "Question 10: Repeated Substring Pattern Problem\n",
    "\n",
    "In the Repeated Substring Pattern problem, you will be given a string. To solve this problem, you need to check if the given string can be formed by repeating a substring of the string.\n",
    "\n",
    "For example, look at the input and output of this problem shown below:\n",
    "\n",
    "Input: “abab” | Output: True\n",
    "\n",
    "In this example, there’s a string given as an input “abab”. And when a substring (“ab”) of the string (“abab”) is repeated twice, it forms the string as given in the input. So the output is true!"
   ]
  },
  {
   "cell_type": "code",
   "execution_count": 156,
   "id": "181c79a6-af08-42c8-bfd8-8c9c20399b32",
   "metadata": {},
   "outputs": [
    {
     "name": "stdin",
     "output_type": "stream",
     "text": [
      "Enter a string : abab\n"
     ]
    },
    {
     "name": "stdout",
     "output_type": "stream",
     "text": [
      "True\n"
     ]
    }
   ],
   "source": [
    "def repeatedSubString(st_data):\n",
    "    st_1=st_data[:len(st_data)//2]\n",
    "    st_2=st_data[len(st_data)//2:]\n",
    "    if st_1==st_2:\n",
    "        return True\n",
    "    else:\n",
    "        return False\n",
    "\n",
    "\n",
    "given_string=input(\"Enter a string :\")\n",
    "if len(given_string)%2!=0:\n",
    "    print(\"Invalid String Length\")\n",
    "else:\n",
    "    answer=repeatedSubString(given_string)\n",
    "    print(answer)"
   ]
  },
  {
   "cell_type": "raw",
   "id": "62254c6b-955e-40b6-a4bb-3a0d2b40e961",
   "metadata": {},
   "source": [
    "Question 11: Binary Bits Problem\n",
    "\n",
    "In the counting bits problem, you will be given an integer list. To solve this problem, return binary representaion of each element of the list where the elements will be the number of 1’s present in the binary representation of the index number of each value in the array.\n",
    "\n",
    "For example, look at the input and output of this problem shown below:\n",
    "\n",
    "Input: [0, 1, 1, 2, 1, 2] Output: 0 : 0, 1 : 1, 2 : 1, 3 : 10, 4 : 1, 5 : 10,"
   ]
  },
  {
   "cell_type": "code",
   "execution_count": 157,
   "id": "dd12e07d-b44d-4077-af50-74c577137a4a",
   "metadata": {},
   "outputs": [
    {
     "name": "stdout",
     "output_type": "stream",
     "text": [
      "['0', '1', '1', '10', '1', '10']\n"
     ]
    }
   ],
   "source": [
    "def binaryNumber(number_list):\n",
    "    answer_list=[]\n",
    "    for num in number_list:\n",
    "        answer_list.append(bin(num)[2:])\n",
    "    return answer_list\n",
    "        \n",
    "\n",
    "integer_list=[0,1,1,2,1,2]\n",
    "answer=binaryNumber(integer_list)\n",
    "print(answer)"
   ]
  },
  {
   "cell_type": "raw",
   "id": "ab502cb1-4bbd-4839-942b-47ad10ade778",
   "metadata": {},
   "source": [
    "Question 12: Valid Perfect Square using Python When we square an integer, the output is a perfect square. In the problem of validating a perfect square, you will be given an integer n. To solve this problem, you need to check whether the given integer n is a square of an integer.\n",
    "\n",
    "For example, look at the input and output of this problem shown below:\n",
    "\n",
    "Input: 16 | Output: True (4×4 = 16)\n",
    "\n",
    "Input: 14 | Output: False\n",
    "\n",
    "If the input integer is the square of a number, your output will be True. Otherwise, False."
   ]
  },
  {
   "cell_type": "code",
   "execution_count": 158,
   "id": "8dc57dde-b16b-4b1f-8f70-73585cbe7af2",
   "metadata": {},
   "outputs": [
    {
     "name": "stdin",
     "output_type": "stream",
     "text": [
      "Enter a number..:  16\n"
     ]
    },
    {
     "name": "stdout",
     "output_type": "stream",
     "text": [
      "True\n"
     ]
    }
   ],
   "source": [
    "import math\n",
    "def perfect_number(num):\n",
    "    sqaure_root=math.sqrt(num)\n",
    "    st=str(sqaure_root).split(\".\")\n",
    "    lis=['0','00','000','0000','00000','000000','0000000','00000000','000000000','0000000000']\n",
    "    if st[1] in lis:\n",
    "        return True\n",
    "    else:\n",
    "        return False\n",
    "    \n",
    "    return False\n",
    "\n",
    "num=int(input(\"Enter a number..: \"))\n",
    "result=perfect_number(num)\n",
    "print(result)"
   ]
  },
  {
   "cell_type": "raw",
   "id": "d8e68d0c-76c3-44fc-b919-3c29c9f92abc",
   "metadata": {},
   "source": [
    "Question 13 : First Unique Character in a String\n",
    "\n",
    "In the problem of finding the first unique character in a string, you will be given a string as input.\n",
    "\n",
    "To solve this problem, you need to find the index of the first character in the string that is non-repeating in the string. And if there is no unique character, your output should return -1.\n",
    "\n",
    "For example, look at the input and output of this problem shown below:\n",
    "\n",
    "Input: “amankharwal” | Output: 1 (index of m)\n",
    "\n",
    "Input: “aamm” | Output: -1 (no unique character found)"
   ]
  },
  {
   "cell_type": "code",
   "execution_count": 159,
   "id": "01a74281-d948-4e40-bcb3-475bcda5a8f5",
   "metadata": {},
   "outputs": [
    {
     "name": "stdin",
     "output_type": "stream",
     "text": [
      "Enter a string.. :  amankharwal\n"
     ]
    },
    {
     "name": "stdout",
     "output_type": "stream",
     "text": [
      "['a', 'm', 'n', 'k', 'h', 'r', 'w', 'l']\n",
      "['a']\n",
      "1\n"
     ]
    }
   ],
   "source": [
    "def UniqueChar(string):\n",
    "    unique_list=[]\n",
    "    duplicate_list=[]\n",
    "    for char in string:\n",
    "        if char not in unique_list:\n",
    "            unique_list.append(char)\n",
    "        elif char not in duplicate_list:\n",
    "            duplicate_list.append(char)\n",
    "            \n",
    "    print(unique_list)\n",
    "    print(duplicate_list)\n",
    "    ##removing duplicate elements from unique list\n",
    "    for char in duplicate_list:\n",
    "        if char in unique_list:\n",
    "            unique_list.remove(char)\n",
    "    character=unique_list[0]\n",
    "    v=string.index(character)\n",
    "    return v \n",
    "\n",
    "input_string=input(\"Enter a string.. : \")\n",
    "unique_answer=UniqueChar(input_string)\n",
    "print(unique_answer)"
   ]
  },
  {
   "cell_type": "raw",
   "id": "03f50298-5102-4fd3-9303-410f89d4aeaf",
   "metadata": {},
   "source": [
    "Question 14: Assign Cookies Problem\n",
    "\n",
    "In the assign cookies problem, you will be given a list of children with their greed factors and a list of cookies with their sizes.\n",
    "\n",
    "To solve this problem, you need to assign each child a cookie such that the child’s greed factor is less than or equal to the size of the cookie. For example, look at the input and output of this problem shown below:\n",
    "\n",
    "Number of children with greed factors (g): [1, 2, 3],\n",
    "\n",
    "Number of cookies with their sizes (s): [1, 1] |\n",
    "\n",
    "Output: 1\n",
    "\n",
    "In this example, there are two cookies with size 1, but only one child with a desired cookie size of 1.\n",
    "\n",
    "So, even though there are two cookies, only one child can be satisfied. That is why the output returns 1, as only one cookie is needed to satisfy the one child with a desired size of 1."
   ]
  },
  {
   "cell_type": "code",
   "execution_count": 160,
   "id": "d7902f8c-8700-4632-9806-6b42f356f0e3",
   "metadata": {},
   "outputs": [
    {
     "name": "stdout",
     "output_type": "stream",
     "text": [
      "[1, 2, 1]\n"
     ]
    },
    {
     "data": {
      "text/plain": [
       "3"
      ]
     },
     "execution_count": 160,
     "metadata": {},
     "output_type": "execute_result"
    }
   ],
   "source": [
    "def Assign_Cookies(greed_factor,cookie_number):\n",
    "    len_of_cookie_number=len(cookie_number)\n",
    "    greed_factor=greed_factor[:len_of_cookie_number]\n",
    "    answer_list=[]\n",
    "    for i in range(len(greed_factor)):\n",
    "        if greed_factor[i]<=cookie_number[i]:\n",
    "            answer_list.append(greed_factor[i])\n",
    "    print(answer_list)\n",
    "            \n",
    "    return len(answer_list)\n",
    "\n",
    "greed_factor=[1,2,3,1,2]\n",
    "cookie_number=[1,2,1,1]\n",
    "Assign_Cookies(greed_factor,cookie_number)"
   ]
  },
  {
   "cell_type": "raw",
   "id": "77bc9014-b24a-458a-b519-7c9f4a9f2110",
   "metadata": {},
   "source": [
    "Question 15: Hamming Distance Problem\n",
    "\n",
    "Hamming distance between two integers is a measure of the difference between two strings of equal length.\n",
    "\n",
    "In this problem, you will be given two integers, and you need to calculate the number of positions where the corresponding bits are different. For example, look at the input and output of this problem shown below:\n",
    "\n",
    "Input: x = 1, y = 4 | Output: 2\n",
    "\n",
    "In the above example, there are two integers: 1 and 4. The binary representation of 1 is 0001, and the binary representation of 4 is 0100. There are two positions where the corresponding bits of the integers are different. So the output is 2."
   ]
  },
  {
   "cell_type": "code",
   "execution_count": 161,
   "id": "be8a1b1c-eef5-4364-807e-33ad6a8d5682",
   "metadata": {},
   "outputs": [
    {
     "name": "stdin",
     "output_type": "stream",
     "text": [
      "Enter a number .:  123\n",
      "Enter a number..:  213\n"
     ]
    },
    {
     "name": "stdout",
     "output_type": "stream",
     "text": [
      "5\n"
     ]
    }
   ],
   "source": [
    "def hamming(x, y):\n",
    "    x_st=bin(x)[2:].zfill(8)\n",
    "    y_st=bin(y)[2:].zfill(8)\n",
    "    count=0\n",
    "    for i in range(len(x_st)):\n",
    "        if x_st[i]!=y_st[i]:\n",
    "            count+=1\n",
    "    return count\n",
    "\n",
    "\n",
    "x=int(input(\"Enter a number .: \"))\n",
    "y=int(input(\"Enter a number..: \"))\n",
    "value=hamming(x,y)\n",
    "print(value)"
   ]
  },
  {
   "cell_type": "raw",
   "id": "0bed1e70-56f0-465a-b583-4e72dc352d12",
   "metadata": {},
   "source": [
    "Question: 16 Max Consecutive Ones Problem\n",
    "\n",
    "In the max consecutive ones problem, we need to find the maximum number of consecutive 1s in a binary array.\n",
    "\n",
    "For example, look at the input and output of this problem shown below:\n",
    "\n",
    "Input: [1,1,0,1,1,1]| Output: 3\n",
    "\n",
    "In the example above, there are two times we can see consecutive 1s. The first time there are 2 consecutive 1s, and the second time there are 3 consecutive 1s. Since 3 is greater, the answer is 3."
   ]
  },
  {
   "cell_type": "code",
   "execution_count": 162,
   "id": "8e9cf593-df31-43be-a7fb-d542b4620b45",
   "metadata": {},
   "outputs": [
    {
     "name": "stdout",
     "output_type": "stream",
     "text": [
      "4\n"
     ]
    }
   ],
   "source": [
    "def Max_Consec(binary_array):\n",
    "    max_count=0\n",
    "    ones_count=0\n",
    "    for num in binary_array:\n",
    "        if num==1:\n",
    "            ones_count+=1\n",
    "            max_count=max(ones_count, max_count)\n",
    "        else:\n",
    "            ones_count=0\n",
    "    return max_count\n",
    "\n",
    "binary_array=[1,1,0,1,1,1,0,1,1,1,1]\n",
    "answer=Max_Consec(binary_array)\n",
    "print(answer)"
   ]
  },
  {
   "cell_type": "raw",
   "id": "8e46cbe4-0508-4451-8d7d-6cead9467c9a",
   "metadata": {},
   "source": [
    "Question 17: Construct the Rectangle Problem\n",
    "\n",
    "In the constructing rectangle problem, we need to return the dimensions of a rectangle with its given area such that its width and height differ by the smallest possible number.\n",
    "\n",
    "For example, look at the input and output of this problem shown below:\n",
    "\n",
    "Input: 24 | Output: [6, 4]\n",
    "\n",
    "In the above example, the input area is 24. So the dimensions of the rectangle can be 6×4, and the difference between 6 and 4 is 2 (smallest possible number)."
   ]
  },
  {
   "cell_type": "code",
   "execution_count": 163,
   "id": "758942c5-2632-4a11-8013-3795ca3feda8",
   "metadata": {},
   "outputs": [
    {
     "name": "stdin",
     "output_type": "stream",
     "text": [
      "Enter rectangle area..:  12\n"
     ]
    },
    {
     "name": "stdout",
     "output_type": "stream",
     "text": [
      "3\n",
      "[4, 3]\n"
     ]
    }
   ],
   "source": [
    "import math\n",
    "def rect_construct(area):\n",
    "    w = int(math.sqrt(area))\n",
    "    print(w)\n",
    "    while area % w != 0:\n",
    "        w -= 1\n",
    "    return [area // w, w]\n",
    "            \n",
    "\n",
    "area=int(input(\"Enter rectangle area..: \"))\n",
    "answer=rect_construct(area)\n",
    "print(answer)"
   ]
  },
  {
   "cell_type": "raw",
   "id": "12b12b98-c365-4eae-96df-6ec593d88f73",
   "metadata": {},
   "source": [
    "Question-18: Licence key formatting\n",
    "\n",
    "One such problem involves reformatting a license key represented as a string. The string consists of alphanumeric characters and hyphens and is separated into n + 1 groups by n hyphens (“-“). The task is to reformat the string so that each group contains exactly k characters, except for the first group, which can be shorter than k but must always contain at least one character.\n",
    "\n",
    "Also, all lowercase letters must be converted to uppercase, and a hyphen must be inserted between two groups. Let’s take a look at an example to better understand the problem:\n",
    "\n",
    "Input: s = “2-4A0r7-4k”, k = 3 | Output: “24-A0R-74K” In the example above, the input string “2-4A0r7-4k” is reformatted so that each group contains three characters (except the first group), all lowercase letters are converted to uppercase, and a hyphen is inserted between two groups."
   ]
  },
  {
   "cell_type": "code",
   "execution_count": 165,
   "id": "71bb04a1-27a4-47b4-aeb8-24b560780588",
   "metadata": {},
   "outputs": [
    {
     "name": "stdout",
     "output_type": "stream",
     "text": [
      "['K47']\n",
      "['K47', 'R0A']\n",
      "['K47', 'R0A', '42']\n",
      "24-A0R-74K\n"
     ]
    }
   ],
   "source": [
    "#Question-18: Licence key formatting\n",
    "\n",
    "\n",
    "def licenseKeyFormatting(s, k):\n",
    "    s = s.upper().replace('-', '')#24A0R74K\n",
    "    size = len(s)#8\n",
    "    s = s[::-1]#K47R0A42\n",
    "    res = []\n",
    "    for i in range(0, size, k):\n",
    "        res.append(s[i:i+k])\n",
    "        print(res)\n",
    "    return '-'.join(res)[::-1]\n",
    "\n",
    "print(licenseKeyFormatting(\"2-4A0r7-4k\", 3))"
   ]
  },
  {
   "cell_type": "raw",
   "id": "00032553-d25b-48b2-931c-461985cb0a0c",
   "metadata": {},
   "source": [
    "Question-19: Number of Segments in a String In the problem of counting the number of segments in a string, you will get a phrase or character in a string.\n",
    "\n",
    "To solve this problem, you need to find the total number of characters in the string, excluding the spaces.\n",
    "\n",
    "For example, look at the input and output of this problem shown below:\n",
    "\n",
    "Input: “Hey, my Instagram username is amankharwal.official” | Output: 6\n",
    "\n",
    "The output of the string in the above example is 6 because there are six characters in the string."
   ]
  },
  {
   "cell_type": "code",
   "execution_count": 166,
   "id": "02e2f38f-be51-4c13-b4f5-8dc49df0b438",
   "metadata": {},
   "outputs": [
    {
     "name": "stdin",
     "output_type": "stream",
     "text": [
      " aa\n"
     ]
    },
    {
     "name": "stdout",
     "output_type": "stream",
     "text": [
      "1\n"
     ]
    }
   ],
   "source": [
    "string=input().split(\" \")\n",
    "print(len(string))"
   ]
  },
  {
   "cell_type": "raw",
   "id": "c1c0ab06-add2-41d3-9587-9ce0730d6e9f",
   "metadata": {},
   "source": [
    "Question: 20: Third Maximum Number\n",
    "\n",
    "In the problem of finding the third maximum number in an array, you will be given an array of integers.\n",
    "\n",
    "To solve this problem, you need to find the third largest number in the array as an output. For example, look at the input and output of this problem shown below:\n",
    "\n",
    "Input: [3, 2, 1] | Output: 1\n",
    "\n",
    "Input: [2, 2, 3, 1] | Output: 1"
   ]
  },
  {
   "cell_type": "code",
   "execution_count": 167,
   "id": "c6635d16-4497-4dc8-9c63-c934f8f33011",
   "metadata": {},
   "outputs": [
    {
     "name": "stdout",
     "output_type": "stream",
     "text": [
      "2\n"
     ]
    }
   ],
   "source": [
    "def third_max(l):\n",
    "    l.sort(reverse=True)\n",
    "    l=list(set(l))\n",
    "    l.sort(reverse=True)\n",
    "    \n",
    "    return l[2]\n",
    "l=[2,2,3,1,5]\n",
    "print(third_max(l))"
   ]
  },
  {
   "cell_type": "raw",
   "id": "8871a6a3-212e-4393-b4aa-73f895aa8978",
   "metadata": {},
   "source": [
    "Question-21: FizzBuzz Problem\n",
    "\n",
    "In the FizzBuzz problem, you will be given an integer, and you need to return a string array where:\n",
    "\n",
    "the numbers that are divisible by 3 will be replaced with the word “Fizz”;\n",
    "\n",
    "the numbers that are divisible by 5 will be replaced with the word “Buzz”;\n",
    "\n",
    "and the numbers that are divisible by both 3 and 5 will be replaced by the word “FizzBuzz”; Below is an example of the input and output of this problem:\n",
    "\n",
    "Input: 3 | Output: [“1”, “2”, “Fizz”]\n",
    "\n",
    "Input: 5 | Output: [“1”, “2”, “Fizz”, “4”, “Buzz”]"
   ]
  },
  {
   "cell_type": "code",
   "execution_count": 169,
   "id": "fd5eb8d7-4241-4d2f-b466-35eb4409b214",
   "metadata": {},
   "outputs": [
    {
     "name": "stdin",
     "output_type": "stream",
     "text": [
      "Enter a number :  10\n"
     ]
    },
    {
     "name": "stdout",
     "output_type": "stream",
     "text": [
      "[1, 2, 'Fizz', 4, 'Buzz', 'Fizz', 7, 8, 'Fizz', 'Buzz']\n"
     ]
    }
   ],
   "source": [
    "def FizzBuzz(number):\n",
    "    number_list=[x for x in range(1,number+1)]\n",
    "    for index, number in enumerate(number_list):\n",
    "        if number%3==0 and number%5==0:\n",
    "            number_list[index]=\"FizzBuzz\"\n",
    "        elif number%3==0:\n",
    "            number_list[index]='Fizz'\n",
    "        elif number%5==0:\n",
    "            number_list[index]='Buzz'\n",
    "        else:\n",
    "            continue\n",
    "    return number_list\n",
    "\n",
    "num=int(input(\"Enter a number : \"))\n",
    "answer=FizzBuzz(num)\n",
    "print(answer)"
   ]
  },
  {
   "cell_type": "raw",
   "id": "e9c951db-6de1-4b24-bd1b-8ada1a04d9d8",
   "metadata": {},
   "source": [
    "Question-22 Reverse of a string"
   ]
  },
  {
   "cell_type": "code",
   "execution_count": 170,
   "id": "551ae17b-06cd-49d0-81f5-08bf8fcedc44",
   "metadata": {},
   "outputs": [
    {
     "name": "stdin",
     "output_type": "stream",
     "text": [
      "Enter a string..:  1qaw\n"
     ]
    },
    {
     "name": "stdout",
     "output_type": "stream",
     "text": [
      "waq1\n"
     ]
    }
   ],
   "source": [
    "st=input(\"Enter a string..: \")\n",
    "print(st[::-1])"
   ]
  },
  {
   "cell_type": "raw",
   "id": "c064a79e-5392-44b2-8abb-a95ecb382fba",
   "metadata": {},
   "source": [
    "Question-23: Power of Three using Python In the problem of the power of three, you will be given an integer. You need to return True if the integer is a power of three; otherwise, return False. Below are some examples of the input and output of this problem:\n",
    "\n",
    "Input: 27 Output: true\n",
    "\n",
    "Input: 5 Output: false"
   ]
  },
  {
   "cell_type": "code",
   "execution_count": 172,
   "id": "27bb765b-f95d-43de-b443-c98c98a1622a",
   "metadata": {},
   "outputs": [
    {
     "name": "stdout",
     "output_type": "stream",
     "text": [
      "True\n",
      "False\n"
     ]
    }
   ],
   "source": [
    "def is_power_of_three(n):\n",
    "    if n <= 0:\n",
    "        return False\n",
    "\n",
    "    power_of_three = 1\n",
    "    for _ in range(n):\n",
    "        if power_of_three == n:\n",
    "            return True\n",
    "        elif power_of_three > n:\n",
    "            break\n",
    "        power_of_three *= 3\n",
    "\n",
    "    return False\n",
    "\n",
    "# Examples\n",
    "print(is_power_of_three(81))  # Output: True\n",
    "print(is_power_of_three(5)) "
   ]
  },
  {
   "cell_type": "raw",
   "id": "82da83ca-9ff9-4ec8-993d-389274c81337",
   "metadata": {},
   "source": [
    "Question-24: Move Zeroes using Python\n",
    "\n",
    "In the problem of moving zeroes, you will be given an array of zero and non-zero elements in random order.\n",
    "\n",
    "To solve the problem of moving zeroes, you need to move all the zeroes present in the array at the end of the array.\n",
    "\n",
    "Besides moving the zeroes, you don’t need to change the order of other non-zero elements. Below is an example of the input and output of this problem:\n",
    "\n",
    "Input: [0, 1, 0, 3, 12] Output: [1, 3, 12, 0, 0]"
   ]
  },
  {
   "cell_type": "code",
   "execution_count": 173,
   "id": "21086f33-683a-48b2-b456-19960b94f0d7",
   "metadata": {},
   "outputs": [
    {
     "name": "stdout",
     "output_type": "stream",
     "text": [
      "[1, 3, 12, 0, 0]\n"
     ]
    }
   ],
   "source": [
    "def movingZeros(l):\n",
    "    for element in l:\n",
    "        if element==0:\n",
    "            l.remove(element)\n",
    "            l.append(element)\n",
    "    return l\n",
    "l=[0,1,0,3,12]\n",
    "ans=movingZeros(l)\n",
    "print(ans)"
   ]
  },
  {
   "cell_type": "raw",
   "id": "ecb43234-7bb6-40b8-a1b4-8fd3573a95bf",
   "metadata": {},
   "source": [
    "Question-25: Ugly Number using Python\n",
    "\n",
    "In the ugly number problem, you will be given an integer.\n",
    "\n",
    "You need to check if 2, 3, and 5 are the only prime factors of the integer or not.\n",
    "\n",
    "If 2, 3, and 5 are the only prime factors of the input integer, then the integer is an ugly number, and your output should return true, otherwise, return false.\n",
    "\n",
    "Below is an example of the input and output of this problem:\n",
    "\n",
    "Input: 6\n",
    "\n",
    "Output: True (2×3 = 6)"
   ]
  },
  {
   "cell_type": "code",
   "execution_count": 174,
   "id": "7c80b1b8-1603-4d2a-b74a-ddb1c7808386",
   "metadata": {},
   "outputs": [
    {
     "name": "stdout",
     "output_type": "stream",
     "text": [
      "True\n"
     ]
    }
   ],
   "source": [
    "def is_ugly(num):\n",
    "    if num <= 0:\n",
    "        return False\n",
    "\n",
    "    prime_factors = [2, 3, 5]\n",
    "    \n",
    "    for prime_factor in prime_factors:\n",
    "        while num % prime_factor == 0:\n",
    "            num //= prime_factor\n",
    "    \n",
    "    return num == 1\n",
    "\n",
    "# Example\n",
    "print(is_ugly(6))  # Output: True"
   ]
  },
  {
   "cell_type": "raw",
   "id": "517bb873-4bde-486c-899e-f798ce223abd",
   "metadata": {},
   "source": [
    "Question-26: Add Digits using Python\n",
    "\n",
    "In the problem of adding digits, you will be given an integer of more than one digit.\n",
    "\n",
    "You need to add all the digits of the integer till you get a single-digit value as the sum. Below is an example of the input and output of this problem:\n",
    "\n",
    "Input: 38 Output: 2 (3+8 = 11, 1+1 = 2)"
   ]
  },
  {
   "cell_type": "code",
   "execution_count": 177,
   "id": "026ab203-ebdb-4d31-8173-4de8f51d1ee2",
   "metadata": {},
   "outputs": [
    {
     "data": {
      "text/plain": [
       "2"
      ]
     },
     "execution_count": 177,
     "metadata": {},
     "output_type": "execute_result"
    }
   ],
   "source": [
    "def add_digits(num):\n",
    "    total=0\n",
    "    for char in str(num):\n",
    "        total+=int(char)\n",
    "    if len(str(total))>=2:\n",
    "        return add_digits(total)\n",
    "    return total\n",
    "\n",
    "add_digits(38)"
   ]
  },
  {
   "cell_type": "raw",
   "id": "3556392e-7478-40ba-a558-b340d8aff7a2",
   "metadata": {},
   "source": [
    "Question-27: Power of Two using Python\n",
    "\n",
    "In the problem of the power of two, you will be given an integer.\n",
    "\n",
    "You need to return True if the integer is a power of two; otherwise, return False.\n",
    "\n",
    "Below are some examples of the input and output of this problem:\n",
    "\n",
    "Example: 1\n",
    "\n",
    "Input: 16 --Output: true\n",
    "\n",
    "Example: 2\n",
    "\n",
    "Input: 3 ------Output: false"
   ]
  },
  {
   "cell_type": "code",
   "execution_count": 178,
   "id": "ebb9855b-262d-423a-95dc-8b57bce00659",
   "metadata": {},
   "outputs": [
    {
     "name": "stdin",
     "output_type": "stream",
     "text": [
      "Enter a number...:   16\n"
     ]
    },
    {
     "name": "stdout",
     "output_type": "stream",
     "text": [
      "4.0\n",
      "True\n"
     ]
    }
   ],
   "source": [
    "import math\n",
    "\n",
    "num=int(input(\"Enter a number...:  \"))\n",
    "sq_root=math.sqrt(num)\n",
    "print(sq_root)\n",
    "if num%sq_root==0:\n",
    "    print(True)\n",
    "else:\n",
    "    print(False)"
   ]
  },
  {
   "cell_type": "raw",
   "id": "2d86d371-214b-4024-be77-96a9baaa0f3c",
   "metadata": {},
   "source": [
    "Question-29: Find Duplicate Values using Python To write a program to find duplicate values using Python, I will define a Python function that will take a list of values in any data type. So below is a Python function for finding duplicate values in a list:"
   ]
  },
  {
   "cell_type": "code",
   "execution_count": 179,
   "id": "b963770e-1bc7-4c97-aeb9-c9e8e2d430a5",
   "metadata": {},
   "outputs": [
    {
     "name": "stdout",
     "output_type": "stream",
     "text": [
      "['Aman', 'Akanksha']\n"
     ]
    }
   ],
   "source": [
    "def duplicate_Values(names):\n",
    "    original_list=[]\n",
    "    duplicate_list=[]\n",
    "    for name in names:\n",
    "        if name not in original_list:\n",
    "            original_list.append(name)\n",
    "        elif name not in duplicate_list:\n",
    "            duplicate_list.append(name)\n",
    "            \n",
    "    return duplicate_list\n",
    "\n",
    "    \n",
    "\n",
    "names = [\"Aman\", \"Akanksha\", \"Divyansha\", \"Devyansh\", \"Aman\", \"Diksha\", \"Akanksha\"]\n",
    "print(duplicate_Values(names))"
   ]
  },
  {
   "cell_type": "code",
   "execution_count": 180,
   "id": "d06bd005-be54-4597-9f73-b8844617ece9",
   "metadata": {},
   "outputs": [
    {
     "name": "stdin",
     "output_type": "stream",
     "text": [
      "Enter a number  :  5\n"
     ]
    },
    {
     "name": "stdout",
     "output_type": "stream",
     "text": [
      "      1 \n",
      "     1 1 \n",
      "    1 2 1 \n",
      "   1 3 3 1 \n",
      "  1 4 6 4 1 \n"
     ]
    }
   ],
   "source": [
    "from math import factorial\n",
    "num=int(input(\"Enter a number  : \"))\n",
    "for i in range(num):\n",
    "    for k in range(num-i+1):\n",
    "        print(end=\" \")\n",
    "    for j in range(i+1):\n",
    "        # nCr = n!/((n-r)!*r!)\n",
    "        print(factorial(i)//(factorial(i-j)*factorial(j)), end=\" \")\n",
    "        #print(i,end=\" \")\n",
    "    print(\"\")"
   ]
  },
  {
   "cell_type": "raw",
   "id": "d46b176b-3721-42c4-b746-e0d12aa19e88",
   "metadata": {},
   "source": [
    "Question 31--Check Duplicate Values using Python\n",
    "\n",
    "In the problem of checking duplicate values, you will be given an array of integers.\n",
    "\n",
    "You need to check if any value appears more than once.\n",
    "\n",
    "Below is an example of the input and output of this problem:\n",
    "\n",
    "Input: [1, 2, 3, 1] Output: True"
   ]
  },
  {
   "cell_type": "code",
   "execution_count": 181,
   "id": "b2f58338-aa3e-424a-915f-ea30a744440e",
   "metadata": {},
   "outputs": [
    {
     "name": "stdout",
     "output_type": "stream",
     "text": [
      "[3]\n"
     ]
    }
   ],
   "source": [
    "def duplicate(l):\n",
    "    unique_list=[]\n",
    "    duplicate_list=[]\n",
    "    for item in l:\n",
    "        if item not in unique_list:\n",
    "            unique_list.append(item)\n",
    "        elif item not in duplicate_list:\n",
    "            duplicate_list.append(item)\n",
    "    return duplicate_list\n",
    "\n",
    "ll=[1,2,4,3,3]\n",
    "values=duplicate(ll)\n",
    "print(values)"
   ]
  },
  {
   "cell_type": "raw",
   "id": "6b929a0f-4c95-47ae-85f3-81ffb19e4bae",
   "metadata": {},
   "source": [
    "Question 32: Majority Element using Python\n",
    "\n",
    "In the majority element problem, you will be given an array of integers containing a majority element that appears more than [n / 2] times.\n",
    "\n",
    "To solve this problem, we need to return the value of the majority element.\n",
    "\n",
    "For example, look at the input and output of this problem below:\n",
    "\n",
    "Input: [2,2,1,1,1,2,2] Output: 2"
   ]
  },
  {
   "cell_type": "code",
   "execution_count": 182,
   "id": "716c5a2d-2e1f-401a-ad61-70756f2cbac7",
   "metadata": {},
   "outputs": [
    {
     "name": "stdout",
     "output_type": "stream",
     "text": [
      "[2]\n"
     ]
    }
   ],
   "source": [
    "def majority_Element(num_list):\n",
    "    empty={}\n",
    "    for num in num_list:\n",
    "        if num in empty:\n",
    "            empty[num]+=1\n",
    "        else:\n",
    "            empty[num]=1\n",
    "    values=list(empty.values())\n",
    "    max_repeated=max(values)\n",
    "    answer=[]\n",
    "    for index, key in enumerate(empty):\n",
    "        if empty[key]==max_repeated:\n",
    "            answer.append(key)\n",
    "        #print(\"i=\",index, \"key = \",key, end=\", \")\n",
    "    \n",
    "#     print(\"\")\n",
    "#     print(max_repeated)\n",
    "#     print(values)\n",
    "#     print(empty)\n",
    "    return answer\n",
    "    \n",
    "num_list=[2,2,1,1,1,2,2]\n",
    "repeated_elements=majority_Element(num_list)\n",
    "print(repeated_elements)"
   ]
  },
  {
   "cell_type": "raw",
   "id": "94560013-d2bb-4b1f-a9b2-2549606d1e1d",
   "metadata": {},
   "source": [
    "Question-33: Excel Sheet Column Title using Python In the excel sheet column title problem, you will be given an integer, and you need to return the corresponding column title of the integer as displayed in an excel sheet.\n",
    "\n",
    "For example, look at the column titles of the sheet in the image below.\n",
    "\n",
    "After 26 columns (A-Z), the titles are AA, AB and so on. So this is what we need to do to solve this problem.\n",
    "\n",
    "Now, look at an example of the input and output of this problem:\n",
    "\n",
    "Input: 28 Output: AB"
   ]
  },
  {
   "cell_type": "code",
   "execution_count": 185,
   "id": "b3e10081-7712-4cbb-bb84-67d8ae78f9e9",
   "metadata": {},
   "outputs": [
    {
     "name": "stdin",
     "output_type": "stream",
     "text": [
      "Enter a number..:  34\n"
     ]
    },
    {
     "name": "stdout",
     "output_type": "stream",
     "text": [
      "HA\n"
     ]
    }
   ],
   "source": [
    "def excel_sheet(num):\n",
    "    title=''\n",
    "    while num:\n",
    "        num-=1###because index starts from 0 in python\n",
    "        title+=chr(num%26+65)\n",
    "        num//=26\n",
    "    return title\n",
    "num=int(input(\"Enter a number..: \"))\n",
    "result=excel_sheet(num)\n",
    "print(result)    "
   ]
  },
  {
   "cell_type": "raw",
   "id": "0be82d17-b166-416f-a916-264757a3a05f",
   "metadata": {},
   "source": [
    "question-34: Solving the Single Number Problem using Python In the Single Number problem, you will be given an array of integers where every item appears twice except for one. To solve this problem, we need to find that one single element.\n",
    "\n",
    "For example, have a look at the input and output of this problem below: Input: [4,1,2,1,2] Output: 4"
   ]
  },
  {
   "cell_type": "code",
   "execution_count": 186,
   "id": "ecba4e9c-2cf0-42be-8469-6f79893d63f6",
   "metadata": {},
   "outputs": [
    {
     "name": "stdout",
     "output_type": "stream",
     "text": [
      "[3, 4]\n"
     ]
    }
   ],
   "source": [
    "def unique_Element(num_list):\n",
    "    unique_list=[]\n",
    "    duplicate_list=[]\n",
    "    for num in num_list:\n",
    "        if num not in unique_list:\n",
    "            unique_list.append(num)\n",
    "        elif num not in duplicate_list:\n",
    "            duplicate_list.append(num)\n",
    "    \n",
    "    unique_set=set(unique_list)\n",
    "    duplicate_set=set(duplicate_list)\n",
    "    answer=list(unique_set-duplicate_set)\n",
    "    return answer\n",
    "    \n",
    "    \n",
    "num_list=[2,2,1,1,1,2,2,3,4]\n",
    "unique_elements=unique_Element(num_list)\n",
    "print(unique_elements)"
   ]
  },
  {
   "cell_type": "raw",
   "id": "e8108f10-123b-4d13-96bc-d0df57892292",
   "metadata": {},
   "source": [
    "Question-35: Climbing Stairs using Python\n",
    "\n",
    "In the climbing stairs problem, we need to count all the possible combinations to reach the top of a staircase.\n",
    "\n",
    "As it has a constraint, we can only climb one step or two steps at a time, so we have a choice of stepping on or skipping a step.\n",
    "\n",
    "There are many ways to solve this problem.\n",
    "\n",
    "One of the simplest ways is to use the Fibonacci series method.\n",
    "\n",
    "So below is how you can solve the climbing stairs problem using the Python programming language:"
   ]
  },
  {
   "cell_type": "code",
   "execution_count": 187,
   "id": "84fccce1-a32c-4af2-812d-7bd3188ba0cc",
   "metadata": {},
   "outputs": [
    {
     "name": "stdout",
     "output_type": "stream",
     "text": [
      "[0, 1, 1, 2, 3, 5, 8, 13, 21, 34, 55, 89, 144] sum--> 375\n"
     ]
    }
   ],
   "source": [
    "def fibanocci_series(num):\n",
    "    series=[0,1]\n",
    "    num_1, num_2=0,1\n",
    "    total=0\n",
    "    for i in range(2,num):\n",
    "        num_3=num_1+num_2\n",
    "        num_1, num_2=num_2, num_3\n",
    "        total+=num_3\n",
    "        series.append(num_3)\n",
    "    return series, total\n",
    "values=fibanocci_series(13)\n",
    "print(values[0],\"sum-->\",values[1])"
   ]
  },
  {
   "cell_type": "raw",
   "id": "85a93604-e375-4bdc-ab59-f4cd14d34819",
   "metadata": {},
   "source": [
    "Question-36: Find Missing Number using Python\n",
    "\n",
    "Finding the missing number in an array means finding the numbers missing from the array according to the range of values inside the array. Most of the time, the question you get based on this problem is like:\n",
    "\n",
    "Given an array containing a range of numbers from 0 to n with a missing number, find the missing number in the input array.\n",
    "\n",
    "Input=listOfNumbers = [1, 2, 3, 5, 6, 7, 8, 9, 10, 11, 13, 14, 16], Output==[4, 12, 15]"
   ]
  },
  {
   "cell_type": "code",
   "execution_count": 188,
   "id": "67e4d9e1-3073-44f0-ba02-bdb39ffce379",
   "metadata": {},
   "outputs": [
    {
     "name": "stdout",
     "output_type": "stream",
     "text": [
      "[4, 12, 15]\n"
     ]
    }
   ],
   "source": [
    "def missing_Numbers(num_list):\n",
    "    min_number=min(num_list)\n",
    "    #print(min_number)\n",
    "    max_number=max(num_list)\n",
    "    #print(max_number)\n",
    "    missing_letters=[]\n",
    "    for i in range(min_number, max_number):\n",
    "        #print(i)\n",
    "        if i not in num_list:\n",
    "            missing_letters.append(i)\n",
    "    return missing_letters\n",
    "listOfNumbers = [1, 2, 3, 5, 6, 7, 8, 9, 10, 11, 13, 14, 16]\n",
    "output=missing_Numbers(listOfNumbers)\n",
    "print(output)"
   ]
  },
  {
   "cell_type": "raw",
   "id": "5101f3e0-aadd-43a7-95c8-b32bff8221bb",
   "metadata": {},
   "source": [
    "Question-37: Solving Two Sum using Python\n",
    "\n",
    "In the Two Sum problem, you will be given an array of integers and a target value.\n",
    "\n",
    "To solve this problem, you need to return the indices of these two integers from the array whose addition equals the target value.\n",
    "\n",
    "For example, you are given an array [1, 2, 3, 4], and the target value is 3.\n",
    "\n",
    "In this situation, the output should be 0,1 because the sum of 1 at index 0 and 2 at index 2 is equal to 3."
   ]
  },
  {
   "cell_type": "code",
   "execution_count": 189,
   "id": "fe790918-7c1e-47bf-8442-0968f609ecb3",
   "metadata": {},
   "outputs": [
    {
     "name": "stdout",
     "output_type": "stream",
     "text": [
      "[[0, 1], [2, 4]]\n"
     ]
    }
   ],
   "source": [
    "def two_Sum_Problem(num_list, target):\n",
    "    indices=[]\n",
    "    for i in range(len(num_list)):\n",
    "        for j in range(i+1,len(num_list)):\n",
    "            if num_list[i]+num_list[j]==target:\n",
    "                indices.append([i,j])\n",
    "    return indices\n",
    "    \n",
    "\n",
    "int_array=[1,2,3,4,0]\n",
    "target=3\n",
    "answer=two_Sum_Problem(int_array, target)\n",
    "print(answer)"
   ]
  },
  {
   "cell_type": "raw",
   "id": "3aa35eb6-38ff-43db-8880-c875a3dad141",
   "metadata": {},
   "source": [
    "Question 38: Plus One Problem In the plus one problem, you will be given an array of digits, and you need to increment the value of the last integer of the array by one to solve this problem.\n",
    "\n",
    "For example, look at the input and output array mentioned below:\n",
    "Input Array: [1, 2, 3]\n",
    "\n",
    "Output Array: [1, 2, 4]"
   ]
  },
  {
   "cell_type": "code",
   "execution_count": 190,
   "id": "4acd14b5-01ad-41c3-bf7a-a3162174ba2c",
   "metadata": {},
   "outputs": [
    {
     "data": {
      "text/plain": [
       "[1, 2, 4]"
      ]
     },
     "execution_count": 190,
     "metadata": {},
     "output_type": "execute_result"
    }
   ],
   "source": [
    "def  increment(l):\n",
    "    last_element=l[-1]\n",
    "    last_element+=1\n",
    "    l[-1]=last_element\n",
    "    return l\n",
    "\n",
    "input_list=[1,2,3]\n",
    "\n",
    "increment(input_list)"
   ]
  },
  {
   "cell_type": "raw",
   "id": "a6e2e428-ef30-41a2-a67b-c40f445bf205",
   "metadata": {},
   "source": [
    "Question-39: Remove Duplicates from a Sorted Array using Python\n",
    "\n",
    "To solve the problem of removing duplicates from a sorted array, you need to create a new array by only storing the unique values from the input array. For example, look at the input and output array mentioned below:\n",
    "\n",
    "Input Array: [0, 0, 1, 1, 1, 2, 2, 3, 3, 4] Output Array: [0, 1, 2, 3, 4]"
   ]
  },
  {
   "cell_type": "code",
   "execution_count": 191,
   "id": "7caaf03a-b542-42f5-80f6-3b5e81192c2b",
   "metadata": {},
   "outputs": [
    {
     "name": "stdout",
     "output_type": "stream",
     "text": [
      "[1, 2, 4, 3]\n"
     ]
    }
   ],
   "source": [
    "def duplicate(l):\n",
    "    unique_list=[]\n",
    "    duplicate_list=[]\n",
    "    for item in l:\n",
    "        if item not in unique_list:\n",
    "            unique_list.append(item)\n",
    "        elif item not in duplicate_list:\n",
    "            duplicate_list.append(item)\n",
    "    return unique_list\n",
    "\n",
    "ll=[1,2,4,3]\n",
    "values=duplicate(ll)\n",
    "print(values)"
   ]
  },
  {
   "cell_type": "raw",
   "id": "f51e6fd2-bb47-4238-8205-80167fc8c43e",
   "metadata": {},
   "source": [
    "Question-40:\n",
    "\n",
    "Python has a built-in function to calculate the square root of a number. But in the coding interviews, you are not allowed to use any built-in function to return the square root of a number. So here’s how to calculate the square root of a number using the Python programming language:"
   ]
  },
  {
   "cell_type": "code",
   "execution_count": 193,
   "id": "fe257d66-3cf4-477d-834c-6f10115d0c57",
   "metadata": {},
   "outputs": [
    {
     "name": "stdout",
     "output_type": "stream",
     "text": [
      "4\n"
     ]
    }
   ],
   "source": [
    "print(2**2)"
   ]
  },
  {
   "cell_type": "raw",
   "id": "9a30c1d0-e98a-47f4-be8c-2de823e3f6a3",
   "metadata": {},
   "source": [
    "Question-41: Merge Two Sorted Lists using Python\n",
    "\n",
    "To solve the problem of merging two sorted lists, you need to combine two sorted lists in a way that the final combined list is also in a sorted manner. For example, look at the two lists mentioned below:\n",
    "\n",
    "ist1 = [1, 3, 5, 7, 9] list2 = [2, 4, 6, 8, 10] After merging both the lists, the output list must be [1, 2, 3, 4, 5, 6, 7, 8, 9, 10]."
   ]
  },
  {
   "cell_type": "code",
   "execution_count": 194,
   "id": "38d82d36-f12e-46a9-96b7-bcf2d25850ed",
   "metadata": {},
   "outputs": [
    {
     "name": "stdout",
     "output_type": "stream",
     "text": [
      "[1, 2, 3, 4, 5, 6, 7, 8, 9, 10]\n"
     ]
    }
   ],
   "source": [
    "list_1=[1,3,5,7,9]\n",
    "list_2=[2,4,6,8,10]\n",
    "final=list_1+list_2\n",
    "#sorted(final)\n",
    "final.sort()\n",
    "print(final)"
   ]
  },
  {
   "cell_type": "raw",
   "id": "27150e89-2098-405c-ba0b-f6c33659f472",
   "metadata": {},
   "source": [
    "Question 42: Longest Common Prefix using Python\n",
    "\n",
    "To solve the Longest Common Prefix problem, you need to find the most common prefix in all the strings of an array.\n",
    "\n",
    "For example, you are given an array of strings [“flower”, “flow”, “flight”],\n",
    "\n",
    "in this array, the most common prefix among the first two items is “flo”, so, if the third element would have been “flowing”, then the longest common prefix would have been “flo”. But as the common prefix among all the strings of the array is “fl”, the output should return “fl”."
   ]
  },
  {
   "cell_type": "code",
   "execution_count": 196,
   "id": "843b9d32-9c46-4072-8618-ad55ab85c9ea",
   "metadata": {},
   "outputs": [
    {
     "name": "stdout",
     "output_type": "stream",
     "text": [
      "['flow', 'flower', 'flowht']\n",
      "flow\n"
     ]
    }
   ],
   "source": [
    "def common_prefix(word_data):\n",
    "    word_data.sort()\n",
    "    print(word_data)\n",
    "    prefix=\"\"\n",
    "    first_word=word_data[0]\n",
    "    last_word=word_data[-1]\n",
    "    for i in range(min(len(first_word),len(last_word))):\n",
    "        if first_word[i]==last_word[i]:\n",
    "            prefix+=first_word[i]\n",
    "    return prefix    \n",
    "\n",
    "word_data=[\"flower\", \"flow\", \"flowht\"]\n",
    "answer=common_prefix(word_data)\n",
    "print(answer)"
   ]
  },
  {
   "cell_type": "raw",
   "id": "eb79df04-20b5-4a20-b593-f7091defe652",
   "metadata": {},
   "source": [
    "Question-43: Group Elements of Same Indices using Python\n",
    "\n",
    "To group elements of the same index, you will initially have two or more lists inside a list like [[a, b], [c, d]].\n",
    "\n",
    "To group the elements of these lists, you need to create two new lists where you will store the elements of both the lists at index 0 [a, c] and index 1 [b, d]. That is the meaning of grouping the elements of the same indices."
   ]
  },
  {
   "cell_type": "code",
   "execution_count": 215,
   "id": "597305d3-70ab-490e-aef3-eed6ac130528",
   "metadata": {},
   "outputs": [
    {
     "name": "stdout",
     "output_type": "stream",
     "text": [
      "1 3\n",
      "{0: ['a', 'c', 'e', 'g', 'h'], 1: ['b', 'd', 'f', 'i'], 2: ['j']}\n"
     ]
    }
   ],
   "source": [
    "def group_elements(elements_list):\n",
    "    min_length=min([len(x) for x in elements_list])\n",
    "    max_length=max([len(x) for x in elements_list])\n",
    "    print(min_length,max_length)\n",
    "    d={x:[] for x in range(max_length)}\n",
    "    for index, item in enumerate(elements_list):\n",
    "        for j,value in enumerate(item):\n",
    "            d[j].append(value)\n",
    "    return d\n",
    "        \n",
    "            \n",
    "\n",
    "lists_of_lists=[['a','b'],['c','d'],['e','f'],['g'],['h','i','j']]\n",
    "ans=group_elements(lists_of_lists)\n",
    "print(ans)"
   ]
  },
  {
   "cell_type": "raw",
   "id": "57664d88-55eb-403c-9844-6ddef8c249ad",
   "metadata": {},
   "source": [
    "Question-44:\n",
    "\n",
    "Anagrams are words formed by rearranging the letters of another word, For example, car and arc, cat and act, etc. Grouping anagrams is one of the popular questions in coding interviews. So if you want to learn how to solve the problem of grouping anagrams, this article is for you. In this article, I will take you through a tutorial on how to group anagrams using Python.\n",
    "\n",
    "Group Anagrams using Python Grouping anagrams is one of the popular questions in coding interviews. Here you will be given a list of words, and you have to write an algorithm to group all the words which are anagrams of each other. So below is how you can write a Python function to group anagrams:"
   ]
  },
  {
   "cell_type": "code",
   "execution_count": 216,
   "id": "5e9b0852-d70f-4206-9333-c1d58413139b",
   "metadata": {},
   "outputs": [
    {
     "name": "stdout",
     "output_type": "stream",
     "text": [
      "[['tea', 'eat', 'ate'], ['bat'], ['arc', 'car']]\n"
     ]
    }
   ],
   "source": [
    "def group_anagrams(words):\n",
    "    anagram_groups = {}\n",
    "\n",
    "    for word in words:\n",
    "        # Use sorted characters of the word as the key\n",
    "        sorted_word = ''.join(sorted(word))\n",
    "\n",
    "        # Check if the key is already in the dictionary\n",
    "        if sorted_word in anagram_groups:\n",
    "            # If yes, add the word to the existing group\n",
    "            anagram_groups[sorted_word].append(word)\n",
    "        else:\n",
    "            # If not, create a new group with the word as the first element\n",
    "            anagram_groups[sorted_word] = [word]\n",
    "\n",
    "    # Convert the values of the dictionary to get the final list of groups\n",
    "    result = list(anagram_groups.values())\n",
    "\n",
    "    return result\n",
    "\n",
    "# Example usage\n",
    "words = [\"tea\", \"eat\", \"bat\", \"ate\", \"arc\", \"car\"]\n",
    "print(group_anagrams(words))"
   ]
  },
  {
   "cell_type": "raw",
   "id": "dd52d8c0-e6f4-4a92-bc98-602cf4e1acb6",
   "metadata": {},
   "source": [
    "Question-45: Calculation time of execution of a program"
   ]
  },
  {
   "cell_type": "code",
   "execution_count": 217,
   "id": "5df51539-88f9-4854-8025-915210f71121",
   "metadata": {},
   "outputs": [
    {
     "name": "stdout",
     "output_type": "stream",
     "text": [
      "1.1083740000030957\n"
     ]
    }
   ],
   "source": [
    "from timeit import Timer\n",
    "t = Timer(\"for i in range(100):1+1\")\n",
    "print(t.timeit())"
   ]
  },
  {
   "cell_type": "raw",
   "id": "99dc31c9-9a9b-4769-84c4-0e3f970eb8fe",
   "metadata": {},
   "source": [
    "Question46: Python Program to Count Most Frequent Words in a File\n",
    "\n",
    "Writing a program to count the most frequent words in a file is an important coding interview question that you can get in any coding interview. You can get questions based on this logic in several ways. Here you will be given a file, and you will be asked to find the most frequent words in that file along with the number of times they are present. So here’s how you can write a Python program to count the most frequent words in a file:"
   ]
  },
  {
   "cell_type": "code",
   "execution_count": 219,
   "id": "cf944070-3a65-41ba-bcf6-fdc2597e61fe",
   "metadata": {},
   "outputs": [
    {
     "name": "stdout",
     "output_type": "stream",
     "text": [
      "{'this': 1, 'is': 1, 'first': 1, 'line': 4, 'second': 1, 'third': 1, 'fourth': 1}\n"
     ]
    }
   ],
   "source": [
    "d={}\n",
    "with open(r\"D:\\JupyterNotebooks\\sample.txt\",\"r\")as file:\n",
    "    lines_of_file=file.readlines()\n",
    "    #print(lines_of_file)\n",
    "    for line in lines_of_file:\n",
    "        line=line.replace(\"\\n\",\"\")\n",
    "        word_list=line.split(\" \")\n",
    "        #print(word_list)\n",
    "        for word in word_list:\n",
    "            if word in d:\n",
    "                d[word]+=1\n",
    "            else:\n",
    "                d[word]=1\n",
    "\n",
    "print(d)"
   ]
  },
  {
   "cell_type": "raw",
   "id": "85057671-6716-45f3-8d22-13b47d635f55",
   "metadata": {},
   "source": [
    "Question-47: Index of the Maximum Value in a Python List"
   ]
  },
  {
   "cell_type": "code",
   "execution_count": 223,
   "id": "c3ec8923-46bf-4763-a1d9-a83a34b06fca",
   "metadata": {},
   "outputs": [
    {
     "name": "stdout",
     "output_type": "stream",
     "text": [
      "Max values is :  19  index --  9\n"
     ]
    }
   ],
   "source": [
    "def max_number(l):\n",
    "    max_number=0\n",
    "    index=0\n",
    "    for i in range(len(l)):\n",
    "        if max_number<l[i]:\n",
    "            max_number=l[i]\n",
    "            index=i\n",
    "            \n",
    "    return max_number,index\n",
    "\n",
    "\n",
    "in_list=[1,2,18,5,6,17,8,9,10,19]\n",
    "values=max_number(in_list)\n",
    "print(\"Max values is : \",values[0], \" index -- \",values[1])"
   ]
  },
  {
   "cell_type": "raw",
   "id": "0f690383-e8e0-4cf6-b884-a8b5d9392751",
   "metadata": {},
   "source": [
    "Question-49 : Python minimum number"
   ]
  },
  {
   "cell_type": "code",
   "execution_count": 224,
   "id": "fe913f41-fb86-4272-a162-ac055ece3a6b",
   "metadata": {},
   "outputs": [
    {
     "name": "stdout",
     "output_type": "stream",
     "text": [
      "Min values is :  -1  index --  7\n"
     ]
    }
   ],
   "source": [
    "def min_number(l):\n",
    "    min_number=0\n",
    "    index=0\n",
    "    for i in range(len(l)):\n",
    "        if min_number>l[i]:\n",
    "            min_number=l[i]\n",
    "            index=i\n",
    "            \n",
    "    return min_number,index\n",
    "\n",
    "\n",
    "in_list=[1,2,18,5,6,17,8,-1,9,10,19]\n",
    "values=min_number(in_list)\n",
    "print(\"Min values is : \",values[0], \" index -- \",values[1])"
   ]
  },
  {
   "cell_type": "raw",
   "id": "f6e1f3a8-e8a3-4869-ba96-948945d04ecd",
   "metadata": {},
   "source": [
    "Question-50: Distance Between Two Locations using Python\n",
    "\n",
    "How to Calculate Distance Between two Locations? We can use the haversine formula to calculate the distance between two locations. The haversine formula calculates the distance between two latitude and longitude points. This formula is defined as:\n",
    "\n",
    "haversine(d/R) = haversine(latitude2- latitude1 + cos(latitude1 * cos(latitude2 * haversine(longitude2 – longitude1)\n",
    "\n",
    "In this formula:\n",
    "\n",
    "d is the distance between the two points r is the radius of the earth and haversine is the haversine function defined as: haversine(theta) = sin^2(theta/2) To calculate the final distance in kilometres, you need to multiply the distance between the two points by the radius of the earth."
   ]
  },
  {
   "cell_type": "code",
   "execution_count": 225,
   "id": "1b1d4585-96fd-4f56-a0f9-37bce1127805",
   "metadata": {},
   "outputs": [
    {
     "ename": "ModuleNotFoundError",
     "evalue": "No module named 'numpy'",
     "output_type": "error",
     "traceback": [
      "\u001b[1;31m---------------------------------------------------------------------------\u001b[0m",
      "\u001b[1;31mModuleNotFoundError\u001b[0m                       Traceback (most recent call last)",
      "Cell \u001b[1;32mIn[225], line 1\u001b[0m\n\u001b[1;32m----> 1\u001b[0m \u001b[38;5;28;01mimport\u001b[39;00m \u001b[38;5;21;01mnumpy\u001b[39;00m \u001b[38;5;28;01mas\u001b[39;00m \u001b[38;5;21;01mnp\u001b[39;00m\n\u001b[0;32m      2\u001b[0m \u001b[38;5;66;03m# Set the earth's radius (in kilometers)\u001b[39;00m\n\u001b[0;32m      3\u001b[0m r \u001b[38;5;241m=\u001b[39m \u001b[38;5;241m6371\u001b[39m\n",
      "\u001b[1;31mModuleNotFoundError\u001b[0m: No module named 'numpy'"
     ]
    }
   ],
   "source": [
    "import numpy as np\n",
    "# Set the earth's radius (in kilometers)\n",
    "r = 6371\n",
    "\n",
    "# Convert degrees to radians\n",
    "def deg_to_rad(degrees):\n",
    "    return degrees * (np.pi/180)\n",
    "\n",
    "# Function to calculate the distance between two points \n",
    "# using the haversine formula\n",
    "def distcalculate(lat1, lon1, lat2, lon2):\n",
    "    d_lat = deg_to_rad(lat2-lat1)\n",
    "    d_lon = deg_to_rad(lon2-lon1)\n",
    "    a = np.sin(d_lat/2)**2 + np.cos(deg_to_rad(lat1)) * np.cos(deg_to_rad(lat2)) * np.sin(d_lon/2)**2\n",
    "    c = 2 * np.arctan2(np.sqrt(a), np.sqrt(1-a))\n",
    "    return r * c\n",
    "\n",
    "print(distcalculate(22.745049, 75.892471, 22.765049, 75.912471))"
   ]
  },
  {
   "cell_type": "raw",
   "id": "740218dd-2260-4140-b85b-afd0c78e7aad",
   "metadata": {},
   "source": [
    "Question: 51:Best Time to Buy and Sell Stock using Python The problem of finding the best time to buy and sell a stock is also known as a maximum profit finder. Here we will be given an array of closing stock prices on different days, and we need to frame a solution by choosing a single day to buy a stock and choosing another day to sell that stock in the future to maximize our profit.\n",
    "\n",
    "For example, have a look at the input and output of this problem below:\n",
    "\n",
    "Input: prices = [7, 1, 5, 3, 6, 4] Output = 5\n",
    "\n",
    "In the example above, the stock price is 7 on the first day. We bought the stock on day 2 at a price of 1 and sold it on day 5 at a price of 6. Hence profit = 5 (6 – 1)."
   ]
  },
  {
   "cell_type": "code",
   "execution_count": 251,
   "id": "ffb08ed8-e43c-4a17-8f8e-458e506d69a4",
   "metadata": {},
   "outputs": [
    {
     "name": "stdout",
     "output_type": "stream",
     "text": [
      "[1, 3]\n",
      "Profit: 5 :achieved at buy indexes: 1,3, sold indexes: 5,7\n"
     ]
    }
   ],
   "source": [
    "def maxProfit(prices):\n",
    "    if len(prices)%2!=0:\n",
    "        return -1, \"invalid_list\"\n",
    "    buy_list=prices[:len(prices)//2]\n",
    "    sell_list=prices[len(prices)//2:]\n",
    "    distance_list=[]\n",
    "    index_lists=[]\n",
    "    for i in range(len(buy_list)):\n",
    "        distance_list.append(buy_list[i]-sell_list[i])\n",
    "    min_value=min(distance_list)\n",
    "    for index, num in enumerate(distance_list):\n",
    "        if num==min_value:\n",
    "            index_lists.append(index)\n",
    "    print(index_lists)\n",
    "    st=\"Profit: \"+str(abs(min_value))+\" :achieved at buy indexes: \"+\",\".join([str(x) for x in index_lists])+\", sold indexes: \"+\",\".join([str(x+len(prices)//2) for x in index_lists])\n",
    "    return st\n",
    "prices = [7,1,5,1,3,6,4,6]\n",
    "print(maxProfit(prices))"
   ]
  },
  {
   "cell_type": "code",
   "execution_count": null,
   "id": "efc1041f-ea7f-4569-9c5e-06052d4c1eed",
   "metadata": {},
   "outputs": [],
   "source": []
  },
  {
   "cell_type": "code",
   "execution_count": null,
   "id": "1246b655-5e21-44af-8cf3-24e3219688a1",
   "metadata": {},
   "outputs": [],
   "source": []
  }
 ],
 "metadata": {
  "kernelspec": {
   "display_name": "Python 3 (ipykernel)",
   "language": "python",
   "name": "python3"
  },
  "language_info": {
   "codemirror_mode": {
    "name": "ipython",
    "version": 3
   },
   "file_extension": ".py",
   "mimetype": "text/x-python",
   "name": "python",
   "nbconvert_exporter": "python",
   "pygments_lexer": "ipython3",
   "version": "3.12.4"
  }
 },
 "nbformat": 4,
 "nbformat_minor": 5
}
