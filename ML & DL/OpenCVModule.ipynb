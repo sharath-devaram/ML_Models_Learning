{
 "cells": [
  {
   "cell_type": "markdown",
   "id": "9a0275ad-c4ba-4087-9e69-bcff934ece00",
   "metadata": {},
   "source": [
    "# Reading Images and Video using OpenCV"
   ]
  },
  {
   "cell_type": "raw",
   "id": "fa4e4dcf-b7d4-4176-a81b-074e83a039fc",
   "metadata": {},
   "source": [
    "waitkey() function of Python OpenCV allows users to display a window for given milliseconds or until any key is pressed. It takes time in milliseconds as a parameter and waits for the given time to destroy the window, if 0 is passed in the argument it waits till any key is pressed. "
   ]
  },
  {
   "cell_type": "code",
   "execution_count": 2,
   "id": "649ef72f-efb5-4bc7-bb2c-1e28ea1cecef",
   "metadata": {},
   "outputs": [],
   "source": [
    "import cv2 as cv"
   ]
  },
  {
   "cell_type": "code",
   "execution_count": 2,
   "id": "d2e999fe-1467-4059-898a-a106edb2b2fe",
   "metadata": {},
   "outputs": [],
   "source": [
    "img = cv.imread('D:/JupyterNotebooks/8525.jpg')"
   ]
  },
  {
   "cell_type": "code",
   "execution_count": 6,
   "id": "ff690bf3-8127-4d48-9d45-bc030613364d",
   "metadata": {},
   "outputs": [
    {
     "data": {
      "text/plain": [
       "103"
      ]
     },
     "execution_count": 6,
     "metadata": {},
     "output_type": "execute_result"
    }
   ],
   "source": [
    "cv.imshow('S Letter',img)#first parameter is Name of the window\" and second parameter is image size or (15,15)-->size\n",
    "cv.waitKey(2000)#0 means it will wait for infinite time, or 6000 means  6sec time it will wait\n",
    "# Wait for 2000 milliseconds (2 seconds)\n",
    "# Close the window\n",
    "cv.destroyAllWindows()"
   ]
  },
  {
   "cell_type": "code",
   "execution_count": null,
   "id": "a55a24b1-5d74-4bae-8d56-4a560a850b26",
   "metadata": {},
   "outputs": [],
   "source": []
  },
  {
   "cell_type": "code",
   "execution_count": 5,
   "id": "0abeb9af-e911-4290-996e-59cf3004214d",
   "metadata": {},
   "outputs": [],
   "source": [
    "#Reading a video\n",
    "capture = cv.VideoCapture('D:/JupyterNotebooks/Teaser.mp4')\n",
    "#capture = cv.VideoCapture(0) 0 means web camera reading, 1 means another cam, 2 means another cam,,., how many camera you connected\n",
    "while True:\n",
    "    isTrue, frame = capture.read()\n",
    "    cv.imshow('Video',frame)\n",
    "    ##stop the video playing indefinately\n",
    "    if cv.waitKey(20) & 0xFF ==ord('d'):# pressing \"d\" key from keyboard destroys windows\n",
    "        break\n",
    "capture.release()\n",
    "cv.destroyAllWindows()#destroys all windows"
   ]
  },
  {
   "cell_type": "code",
   "execution_count": 3,
   "id": "aeec7147-288e-4d4d-bf40-de164c586e01",
   "metadata": {},
   "outputs": [],
   "source": [
    "capture = cv.VideoCapture(1)"
   ]
  },
  {
   "cell_type": "code",
   "execution_count": 8,
   "id": "5b07a240-1ace-433e-aecc-27c42ba7dc48",
   "metadata": {},
   "outputs": [],
   "source": [
    "def rescale_value(frame,scale=0.25):\n",
    "    width = int(frame.shape[1]*scale)\n",
    "    height = int(frame.shape[0]*scale)\n",
    "    dimensions = (width,height)\n",
    "    return cv.resize(frame, dimensions,interpolation=cv.INTER_AREA)"
   ]
  },
  {
   "cell_type": "code",
   "execution_count": 9,
   "id": "d710bb19-0316-4952-a9b6-9e1687318341",
   "metadata": {},
   "outputs": [],
   "source": [
    "capture = cv.VideoCapture('D:/JupyterNotebooks/Teaser.mp4')\n",
    "while True:\n",
    "    isTrue, frame = capture.read()\n",
    "    frame_resized = rescale_value(frame)\n",
    "    cv.imshow('Video',frame_resized)\n",
    "    if cv.waitKey(20) &0xFF ==ord('d'):\n",
    "        break\n",
    "\n",
    "capture.release()\n",
    "cv.destroyAllWindows()#destroys all windows"
   ]
  },
  {
   "cell_type": "code",
   "execution_count": 15,
   "id": "daf5b1fe-1161-4680-acda-9537300e324b",
   "metadata": {},
   "outputs": [
    {
     "data": {
      "text/plain": [
       "-1"
      ]
     },
     "execution_count": 15,
     "metadata": {},
     "output_type": "execute_result"
    }
   ],
   "source": [
    "resized_image = rescale_value(img)\n",
    "cv.imshow('Image',resized_image)\n",
    "cv.waitKey(20)"
   ]
  },
  {
   "cell_type": "code",
   "execution_count": null,
   "id": "92d5f309-1002-400e-943b-ca9dcac49867",
   "metadata": {},
   "outputs": [],
   "source": []
  },
  {
   "cell_type": "markdown",
   "id": "4572bd65-bd40-449a-8310-13b72ec5cdfc",
   "metadata": {},
   "source": [
    "# Draw Shapes and Texts in an Image"
   ]
  },
  {
   "cell_type": "code",
   "execution_count": 6,
   "id": "c5a9bcc4-3ec2-4eb5-b7bf-4f33570b107a",
   "metadata": {},
   "outputs": [],
   "source": [
    "def resized_frame(frame,scale=0.2):\n",
    "    width=int(frame.shape[1]*scale)\n",
    "    height=int(frame.shape[0]*scale)\n",
    "    dimension = (width, height)\n",
    "    return cv.resize(frame,dimension,interpolation=cv.INTER_AREA)"
   ]
  },
  {
   "cell_type": "code",
   "execution_count": 11,
   "id": "95910231-e454-444c-b360-f0512be1572f",
   "metadata": {},
   "outputs": [],
   "source": [
    "image=cv.imread('D:/JupyterNotebooks/8525.jpg')\n",
    "resized_image=resized_frame(image)\n",
    "cv.imshow('Resized Image',resized_image)\n",
    "cv.waitKey(0)#when a key is pressed then the window will be destroyed\n",
    "cv.destroyAllWindows()"
   ]
  },
  {
   "cell_type": "code",
   "execution_count": 13,
   "id": "d72799fa-3a6f-4b61-b642-3af7195e8795",
   "metadata": {},
   "outputs": [],
   "source": [
    "import numpy as np"
   ]
  },
  {
   "cell_type": "code",
   "execution_count": 15,
   "id": "a35e5838-f4f7-4bd8-8912-49d2d0d18408",
   "metadata": {},
   "outputs": [],
   "source": [
    "# creating a blank image\n",
    "blank_image = np.zeros((500,500,3),dtype='uint8')#'unit8 is the datatype of an image'\n",
    "cv.imshow('Blank Image',blank_image)\n",
    "cv.waitKey(0)#when a key is pressed then the window will be destroyed\n",
    "cv.destroyAllWindows()"
   ]
  },
  {
   "cell_type": "code",
   "execution_count": 17,
   "id": "566eeef6-adb6-41a1-a4dc-847eaaeb14c3",
   "metadata": {},
   "outputs": [],
   "source": [
    "#1 Point the image a certain color\n",
    "blank_image[200:300,300:400]=0,255,0#green color\n",
    "cv.imshow('Resized-Green Image',blank_image)\n",
    "cv.waitKey(0)#when a key is pressed then the window will be destroyed\n",
    "cv.destroyAllWindows()"
   ]
  },
  {
   "cell_type": "code",
   "execution_count": 21,
   "id": "f8bbf083-9144-4130-b8cd-7a58163786ca",
   "metadata": {},
   "outputs": [],
   "source": [
    "#Draw a rectangle on an image\n",
    "cv.rectangle(blank_image,(0,0),(250,250),(0,255,0),thickness=2)#(0,0)-->origin,(250,250) another corner, (0,255,0)-->color green\n",
    "cv.imshow('Rectangle',blank_image)\n",
    "cv.waitKey(2000)\n",
    "cv.destroyAllWindows()\n",
    "#if thickness = cv.FILLED or thickness=-1 colore filled in rectangle"
   ]
  },
  {
   "cell_type": "code",
   "execution_count": 27,
   "id": "49768dfa-78d0-4dad-80a6-003ecc4b3507",
   "metadata": {},
   "outputs": [],
   "source": [
    "# Draw a circle\n",
    "cv.circle(blank_image,(blank_image.shape[1]//2,blank_image.shape[0]//2),radius = 40,color = (0,255,0),thickness=2)\n",
    "cv.imshow('Circle',blank_image)\n",
    "cv.waitKey(0)\n",
    "cv.destroyAllWindows()"
   ]
  },
  {
   "cell_type": "code",
   "execution_count": 35,
   "id": "0df18d35-ef9e-4edb-b1fe-d57c5d26f5b9",
   "metadata": {},
   "outputs": [],
   "source": [
    "#Draw a straight line\n",
    "# Draw a circle\n",
    "cv.line(blank_image,pt1=(400,200),pt2=(blank_image.shape[1]//2,blank_image.shape[0]//2),color = (0,0,255),thickness=2)\n",
    "cv.imshow('Line',blank_image)\n",
    "cv.waitKey(0)\n",
    "cv.destroyAllWindows()"
   ]
  },
  {
   "cell_type": "code",
   "execution_count": 38,
   "id": "e45ff5bb-10cc-4100-bc52-71722bf218f3",
   "metadata": {},
   "outputs": [],
   "source": [
    "#Writing a text on image\n",
    "cv.putText(blank_image,'Hello',(400,350),fontFace=cv.FONT_HERSHEY_DUPLEX,fontScale=1.0,color=(255,255,255),thickness=2)\n",
    "cv.imshow('Line',blank_image)\n",
    "cv.waitKey(0)\n",
    "cv.destroyAllWindows()"
   ]
  },
  {
   "cell_type": "markdown",
   "id": "2ef5b1de-eb0b-40b9-bd99-5f12f80efb9f",
   "metadata": {},
   "source": [
    "# Basic Functions in OpenCV"
   ]
  },
  {
   "cell_type": "code",
   "execution_count": 40,
   "id": "7674d1c9-3289-4bfa-99b6-37c22d850693",
   "metadata": {},
   "outputs": [],
   "source": [
    "img = cv.imread('D:/JupyterNotebooks/8525.jpg')#127x127\n",
    "cv.imshow(\"S Letter\",img)\n",
    "cv.waitKey(5000)\n",
    "cv.destroyAllWindows()"
   ]
  },
  {
   "cell_type": "code",
   "execution_count": 42,
   "id": "2b5f80a3-20dd-45f4-b9f1-6f99e8d1ab23",
   "metadata": {},
   "outputs": [],
   "source": [
    "#Converting an image to gray scale\n",
    "gray_img=cv.cvtColor(img,cv.COLOR_BGR2GRAY)\n",
    "cv.imshow(\"Gray Image\",gray_img)\n",
    "cv.waitKey(2000)\n",
    "cv.destroyAllWindows()"
   ]
  },
  {
   "cell_type": "code",
   "execution_count": 46,
   "id": "14a77c92-aa59-4048-9e9d-cd48b3683f65",
   "metadata": {},
   "outputs": [],
   "source": [
    "#Making bulr\n",
    "blur_image=cv.GaussianBlur(src=img,ksize=(5,5),sigmaX=cv.BORDER_DEFAULT)#ksize increses blur image\n",
    "cv.imshow(\"Blur Image\",blur_image)\n",
    "cv.waitKey(2000)\n",
    "cv.destroyAllWindows()"
   ]
  },
  {
   "cell_type": "code",
   "execution_count": 47,
   "id": "30a3d70d-1f84-4295-93fc-7cfbd6462809",
   "metadata": {},
   "outputs": [],
   "source": [
    "#Edge Cascade Detection\n",
    "canny_image = cv.Canny(img,threshold1=125,threshold2=175)\n",
    "cv.imshow(\"Edge Detection\",canny_image)\n",
    "cv.waitKey(2000)\n",
    "cv.destroyAllWindows()"
   ]
  },
  {
   "cell_type": "code",
   "execution_count": 54,
   "id": "b7fc3cb5-acb4-4951-91e0-8c0a3a887a5c",
   "metadata": {},
   "outputs": [],
   "source": [
    "#Dialate image using specific straucture, \n",
    "dilated_image=cv.dilate(canny_image,(7,7),iterations=1)\n",
    "cv.imshow(\"Dilated Detection\",dialated_image)\n",
    "cv.waitKey(5000)\n",
    "cv.destroyAllWindows()"
   ]
  },
  {
   "cell_type": "code",
   "execution_count": 56,
   "id": "a7830893-f0de-4f7d-838f-2bf4d339109e",
   "metadata": {},
   "outputs": [],
   "source": [
    "#Eroded image(reverse of dilated)\n",
    "eroded_image=cv.erode(dilated_image,(7,7),iterations=3)\n",
    "cv.imshow(\"Erode Image\",eroded_image)\n",
    "cv.waitKey(5000)\n",
    "cv.destroyAllWindows()"
   ]
  },
  {
   "cell_type": "code",
   "execution_count": 58,
   "id": "a5e9b1d7-6dc4-4e40-a5f5-ddb12ee8b248",
   "metadata": {},
   "outputs": [],
   "source": [
    "#Resize and crop an image\n",
    "resize_image = cv.resize(img,(500,500),interpolation=cv.INTER_CUBIC)\n",
    "#if shrinking the image use cv.resize(img,(50,50),interpolation=cv.INTER_LINEAR OR INTER_CUBIC)\n",
    "cv.imshow(\"Resized Image\",resize_image)\n",
    "cv.waitKey(5000)\n",
    "cv.destroyAllWindows()"
   ]
  },
  {
   "cell_type": "code",
   "execution_count": 60,
   "id": "65f5d054-1893-4e9c-aee3-dd38c7ac5a1d",
   "metadata": {},
   "outputs": [],
   "source": [
    "#Crop image\n",
    "cropped_image=img[50:200,40:50]\n",
    "cv.imshow(\"Cropped Image\",cropped_image)\n",
    "cv.waitKey(5000)\n",
    "cv.destroyAllWindows()"
   ]
  },
  {
   "cell_type": "markdown",
   "id": "15defc7b-9d38-43a1-a5cd-dc9c53145c61",
   "metadata": {},
   "source": [
    "# Image Transformations"
   ]
  },
  {
   "cell_type": "code",
   "execution_count": 62,
   "id": "8ae51e26-849f-43c0-9161-bd5cb8a47c0e",
   "metadata": {},
   "outputs": [],
   "source": [
    "import numpy as np\n",
    "img = cv.imread('D:/JupyterNotebooks/8525.jpg')#127x127\n",
    "cv.imshow(\"S Letter\",img)\n",
    "cv.waitKey(5000)\n",
    "cv.destroyAllWindows()"
   ]
  },
  {
   "cell_type": "code",
   "execution_count": 65,
   "id": "2e66dbc7-8531-43fe-9db6-fc4e9bf168e3",
   "metadata": {},
   "outputs": [],
   "source": [
    "# Translation ..>x,y are interchanged\n",
    "def translate(img,x,y):\n",
    "    transmat=np.float32([[1,0,x],[0,1,y]])\n",
    "    dimensions = (img.shape[1],img.shape[0])\n",
    "    return cv.warpAffine(img,transmat,dimensions)\n",
    "\n",
    "## -x-->left\n",
    "## -y-->up\n",
    "## x-->Right\n",
    "## y-->Down\n",
    "\n",
    "translated = translate(img,100,100)#shifting image down by 100, right by 100 pixels from border\n",
    "cv.imshow(\"Traslated image\",translated)\n",
    "cv.waitKey(5000)\n",
    "cv.destroyAllWindows()"
   ]
  },
  {
   "cell_type": "code",
   "execution_count": 69,
   "id": "344dc7b6-d36e-4422-aff8-e907a42b2276",
   "metadata": {},
   "outputs": [],
   "source": [
    "#Rotation\n",
    "def rotate_image(img,angle,rotPoint=None):\n",
    "    (height,width)=img.shape[:2]\n",
    "\n",
    "    if rotPoint is None:\n",
    "        rotPoint = (width//2,height//2)\n",
    "    rotMat = cv.getRotationMatrix2D(rotPoint,angle,1.0)\n",
    "    dimensions = (width,height)\n",
    "    return cv.warpAffine(img,rotMat,dimensions)\n",
    "        \n",
    "\n",
    "rotated = rotate_image(img,45)\n",
    "cv.imshow(\"Rotated image\",rotated)\n",
    "cv.waitKey(5000)\n",
    "cv.destroyAllWindows()"
   ]
  },
  {
   "cell_type": "code",
   "execution_count": 74,
   "id": "6c7a147c-44a6-476b-ad52-447464918e7b",
   "metadata": {},
   "outputs": [],
   "source": [
    "#Flipping\n",
    "flipping=cv.flip(img,0)\n",
    "#0-->means flip by x-axis\n",
    "#1-->means flip by y-axis\n",
    "#-1-->means flip by both x and y axis\n",
    "cv.imshow(\"Flip image\",flipping)\n",
    "cv.waitKey(5000)\n",
    "cv.destroyAllWindows()"
   ]
  },
  {
   "cell_type": "markdown",
   "id": "532f1227-055e-4401-894b-b68a63d757f9",
   "metadata": {},
   "source": [
    "# Contour Detection"
   ]
  },
  {
   "cell_type": "code",
   "execution_count": 77,
   "id": "f71935ed-0729-4065-b6f5-30152043c590",
   "metadata": {},
   "outputs": [
    {
     "name": "stdout",
     "output_type": "stream",
     "text": [
      "Contours found 77\n"
     ]
    }
   ],
   "source": [
    "#Contour->Boundaries of Image\n",
    "#convert image to Gray and then canny image\n",
    "contours,hirarchies = cv.findContours(canny_image,cv.RETR_LIST,cv.CHAIN_APPROX_NONE)\n",
    "print(\"Contours found\",len(contours))"
   ]
  },
  {
   "cell_type": "code",
   "execution_count": 79,
   "id": "b1fb9c67-75a3-4aa0-88d7-30400d836f96",
   "metadata": {},
   "outputs": [
    {
     "name": "stdout",
     "output_type": "stream",
     "text": [
      "Contours found 77\n"
     ]
    }
   ],
   "source": [
    "ret, threshold = cv.threshold(gray_img,125,225,cv.THRESH_BINARY)\n",
    "cv.imshow(\"Threshold image\",threshold)\n",
    "cv.waitKey(5000)\n",
    "cv.destroyAllWindows()\n",
    "contours,hirarchies = cv.findContours(threshold,cv.RETR_LIST,cv.CHAIN_APPROX_NONE)\n",
    "print(\"Contours found\",len(contours))"
   ]
  },
  {
   "cell_type": "code",
   "execution_count": 81,
   "id": "34c77728-cd92-41dc-b761-f546313805f9",
   "metadata": {},
   "outputs": [],
   "source": [
    "cv.drawContours(blank_image,contours,-1,(0,0,255),1)\n",
    "cv.imshow(\"Contours drawn\",blank_image)\n",
    "cv.waitKey(5000)\n",
    "cv.destroyAllWindows()"
   ]
  },
  {
   "cell_type": "markdown",
   "id": "f841ffbe-5bb6-4b0d-96cf-50cd5d833be5",
   "metadata": {},
   "source": [
    "# Color Spaces & Color Channels"
   ]
  },
  {
   "cell_type": "code",
   "execution_count": 82,
   "id": "1d87ea5f-e695-4890-8f91-e1e0c009ff8f",
   "metadata": {},
   "outputs": [
    {
     "ename": "error",
     "evalue": "OpenCV(4.10.0) :-1: error: (-5:Bad argument) in function 'imread'\n> Overload resolution failed:\n>  - Expected 'filename' to be a str or path-like object\n>  - Expected 'filename' to be a str or path-like object\n>  - Expected 'filename' to be a str or path-like object\n",
     "output_type": "error",
     "traceback": [
      "\u001b[1;31m---------------------------------------------------------------------------\u001b[0m",
      "\u001b[1;31merror\u001b[0m                                     Traceback (most recent call last)",
      "Cell \u001b[1;32mIn[82], line 1\u001b[0m\n\u001b[1;32m----> 1\u001b[0m photo \u001b[38;5;241m=\u001b[39m cv\u001b[38;5;241m.\u001b[39mimread(\u001b[38;5;241m0\u001b[39m)\n\u001b[0;32m      2\u001b[0m cv\u001b[38;5;241m.\u001b[39mimshow(\u001b[38;5;124m\"\u001b[39m\u001b[38;5;124mWeb cam\u001b[39m\u001b[38;5;124m\"\u001b[39m,photo)\n\u001b[0;32m      3\u001b[0m cv\u001b[38;5;241m.\u001b[39mwaitKey(\u001b[38;5;241m5000\u001b[39m)\n",
      "\u001b[1;31merror\u001b[0m: OpenCV(4.10.0) :-1: error: (-5:Bad argument) in function 'imread'\n> Overload resolution failed:\n>  - Expected 'filename' to be a str or path-like object\n>  - Expected 'filename' to be a str or path-like object\n>  - Expected 'filename' to be a str or path-like object\n"
     ]
    }
   ],
   "source": [
    "photo = cv.VideoCapture(0)\n",
    "cv.imshow(\"Web cam\",photo)\n",
    "cv.waitKey(5000)\n",
    "cv.destroyAllWindows()"
   ]
  },
  {
   "cell_type": "code",
   "execution_count": 86,
   "id": "8112f15d-da59-4203-b430-fe4b595d1d13",
   "metadata": {},
   "outputs": [],
   "source": [
    "#Capture a photo\n",
    "# Access the camera\n",
    "cap = cv.VideoCapture(0)\n",
    "\n",
    "# Read a frame from the camera\n",
    "ret, frame = cap.read()\n",
    "\n",
    "# Save the frame as an image\n",
    "cv.imwrite(\"photo.jpg\", frame)\n",
    "\n",
    "# Release the camera\n",
    "cap.release()\n",
    "cv.imshow(\"Captured image\",frame)\n",
    "cv.waitKey(5000)\n",
    "cv.destroyAllWindows()"
   ]
  },
  {
   "cell_type": "code",
   "execution_count": 3,
   "id": "ed2763c3-dcf6-4bb5-9d69-927170df6e8c",
   "metadata": {},
   "outputs": [],
   "source": [
    "import cv2 as cv\n",
    "#Capture a video\n",
    "# define a video capture object \n",
    "vid = cv.VideoCapture(0) \n",
    "  \n",
    "while(True): \n",
    "      \n",
    "    # Capture the video frame \n",
    "    # by frame \n",
    "    ret, frame = vid.read() \n",
    "  \n",
    "    # Display the resulting frame \n",
    "    cv.imshow('frame', frame) \n",
    "      \n",
    "    # the 'q' button is set as the \n",
    "    # quitting button you may use any \n",
    "    # desired button of your choice \n",
    "    if cv.waitKey(1) & 0xFF == ord('q'): \n",
    "        break\n",
    "  \n",
    "# After the loop release the cap object \n",
    "vid.release() \n",
    "# Destroy all the windows \n",
    "cv.destroyAllWindows() "
   ]
  },
  {
   "cell_type": "code",
   "execution_count": 1,
   "id": "d1c5e1a0-eeef-48f3-922b-633b0670407d",
   "metadata": {},
   "outputs": [],
   "source": [
    "import cv2 as cv"
   ]
  },
  {
   "cell_type": "code",
   "execution_count": 2,
   "id": "164a13ca-00f1-4357-b7fe-39661d689afd",
   "metadata": {},
   "outputs": [],
   "source": [
    "img = cv.imread(\"D:/JupyterNotebooks/8525.jpg\")\n",
    "cv.imshow(\"Original Image\",img)\n",
    "cv.waitKey(0)\n",
    "cv.destroyWindow(\"Original Image\")\n",
    "#BGR to GrayScale\n",
    "gray = cv.cvtColor(img,cv.COLOR_BGR2GRAY)\n",
    "cv.imshow(\"GrayScale Img\",gray)\n",
    "cv.waitKey(0)\n",
    "cv.destroyAllWindows()"
   ]
  },
  {
   "cell_type": "code",
   "execution_count": 3,
   "id": "f9dc17e5-8673-4d0f-adf9-70469abfb7df",
   "metadata": {},
   "outputs": [],
   "source": [
    "# BGR TO HueSaturationValue(HSV)\n",
    "hsv = cv.cvtColor(img,cv.COLOR_BGR2HSV)\n",
    "cv.imshow(\"HSV Img\",hsv)\n",
    "cv.waitKey(0)\n",
    "cv.destroyAllWindows()"
   ]
  },
  {
   "cell_type": "code",
   "execution_count": 4,
   "id": "f3f3a707-a3d3-4d58-86cc-d15feb2dfa62",
   "metadata": {},
   "outputs": [],
   "source": [
    "#BGR to L+a+b\n",
    "lab = cv.cvtColor(img,cv.COLOR_BGR2LAB)\n",
    "cv.imshow(\"LAB Img\",lab)\n",
    "cv.waitKey(0)\n",
    "cv.destroyAllWindows()"
   ]
  },
  {
   "cell_type": "code",
   "execution_count": 5,
   "id": "680bd4f5-c06d-49a4-832d-aea9d6b21b9c",
   "metadata": {},
   "outputs": [
    {
     "data": {
      "image/png": "[encoded data removed]",
      "text/plain": [
       "<Figure size 640x480 with 1 Axes>"
      ]
     },
     "metadata": {},
     "output_type": "display_data"
    }
   ],
   "source": [
    "import matplotlib.pyplot as plt\n",
    "plt.imshow(img)\n",
    "plt.show()"
   ]
  },
  {
   "cell_type": "code",
   "execution_count": 7,
   "id": "2212a515-06b7-446b-b3e2-871e23209f88",
   "metadata": {},
   "outputs": [
    {
     "data": {
      "image/png": "[encoded data removed]",
      "text/plain": [
       "<Figure size 640x480 with 1 Axes>"
      ]
     },
     "metadata": {},
     "output_type": "display_data"
    }
   ],
   "source": [
    "#BGR to RGB\n",
    "rgb = cv.cvtColor(img,cv.COLOR_BGR2RGB)\n",
    "cv.imshow(\"RGB Img\",rgb)\n",
    "plt.imshow(rgb)\n",
    "plt.show()\n",
    "cv.waitKey(0)\n",
    "cv.destroyAllWindows()"
   ]
  },
  {
   "cell_type": "code",
   "execution_count": 8,
   "id": "ab3c3816-cd4b-49e6-b82e-2a5d55de3550",
   "metadata": {},
   "outputs": [],
   "source": [
    "#hsv to bgr\n",
    "hsv_bgr = cv.cvtColor(hsv,cv.COLOR_HSV2BGR)\n",
    "cv.imshow(\"BGR Img\",hsv_bgr)\n",
    "cv.waitKey(0)\n",
    "cv.destroyAllWindows()"
   ]
  },
  {
   "cell_type": "code",
   "execution_count": 10,
   "id": "1ef2e576-d06e-4c76-8d1b-0bdb511a219f",
   "metadata": {},
   "outputs": [],
   "source": [
    "gray_bgr = cv.cvtColor(gray,cv.COLOR_GRAY2BGR)\n",
    "cv.imshow(\"BGR Img\",gray_bgr)\n",
    "cv.waitKey(0)\n",
    "cv.destroyAllWindows()"
   ]
  },
  {
   "cell_type": "code",
   "execution_count": 11,
   "id": "300b9b1f-44ec-4478-82f7-afcd8acba292",
   "metadata": {},
   "outputs": [],
   "source": [
    "b,g,r = cv.split(img)\n",
    "cv.imshow(\"Blue\",b)\n",
    "cv.imshow(\"Green\",g)\n",
    "cv.imshow(\"Red\",r)\n",
    "cv.waitKey(0)\n",
    "cv.destroyAllWindows()"
   ]
  },
  {
   "cell_type": "code",
   "execution_count": 12,
   "id": "38c39c55-4971-491b-b716-c39743af4578",
   "metadata": {},
   "outputs": [],
   "source": [
    "#merged\n",
    "merged = cv.merge([b,g,r])\n",
    "cv.imshow(\"Merged\",merged)\n",
    "cv.waitKey(0)\n",
    "cv.destroyAllWindows()"
   ]
  },
  {
   "cell_type": "markdown",
   "id": "92719dbf-814a-4566-9034-21aa096cddf9",
   "metadata": {},
   "source": [
    "# Blurring"
   ]
  },
  {
   "cell_type": "code",
   "execution_count": 14,
   "id": "1de6de7a-f051-410d-b136-5f85e0d80c6c",
   "metadata": {},
   "outputs": [],
   "source": [
    "#Aberaging\n",
    "average = cv.blur(img,(3,3))\n",
    "cv.imshow(\"average\",average)\n",
    "cv.waitKey(0)\n",
    "cv.destroyAllWindows()"
   ]
  },
  {
   "cell_type": "code",
   "execution_count": 16,
   "id": "6cfd9fa7-c41a-4ae1-bbbb-e2cb925fb4f6",
   "metadata": {},
   "outputs": [],
   "source": [
    "#Gaussin Blur\n",
    "g_blur = cv.GaussianBlur(img,(3,3),0)\n",
    "cv.imshow(\"G-blur\",g_blur)\n",
    "cv.waitKey(0)\n",
    "cv.destroyAllWindows()"
   ]
  },
  {
   "cell_type": "code",
   "execution_count": 17,
   "id": "1f0fdc8c-021e-4f8f-aaf5-23783e0e286b",
   "metadata": {},
   "outputs": [],
   "source": [
    "#median blur\n",
    "m_blur = cv.medianBlur(img,3)\n",
    "cv.imshow(\"Median-blur\",m_blur)\n",
    "cv.waitKey(0)\n",
    "cv.destroyAllWindows()"
   ]
  },
  {
   "cell_type": "code",
   "execution_count": 19,
   "id": "902aa3b1-b851-4dcc-865d-a1607275cd25",
   "metadata": {},
   "outputs": [],
   "source": [
    "#Bilater Blur\n",
    "b_blur = cv.bilateralFilter(img,5,15,15)\n",
    "cv.imshow(\"Bilateral-blur\",b_blur)\n",
    "cv.waitKey(0)\n",
    "cv.destroyAllWindows()"
   ]
  },
  {
   "cell_type": "markdown",
   "id": "478ea916-825b-424a-8d2d-9f5eb1f96362",
   "metadata": {},
   "source": [
    "# BITWISE operations\n",
    "AND OR NOT XOR"
   ]
  },
  {
   "cell_type": "code",
   "execution_count": 2,
   "id": "2f56d515-61cd-4253-933a-c95f4b5c22f5",
   "metadata": {},
   "outputs": [],
   "source": [
    "img = cv.imread(\"D:/JupyterNotebooks/8525.jpg\")\n",
    "cv.imshow(\"Original Image\",img)\n",
    "cv.waitKey(0)\n",
    "cv.destroyWindow(\"Original Image\")"
   ]
  },
  {
   "cell_type": "code",
   "execution_count": 1,
   "id": "9a143636-5b65-4446-a5fd-f8b16685fbcb",
   "metadata": {},
   "outputs": [],
   "source": [
    "import numpy as np"
   ]
  },
  {
   "cell_type": "code",
   "execution_count": 5,
   "id": "d2e3d088-1b5e-4b98-8b2d-3ca680ec3730",
   "metadata": {},
   "outputs": [],
   "source": [
    "blank = np.zeros((400,400),dtype='uint8')\n",
    "\n",
    "rectangle = cv.rectangle(blank.copy(),(30,30),(370,370),255,-1)\n",
    "circle = cv.circle(blank.copy(),(200,200),200,255,-1)\n",
    "cv.imshow('Rectangle',rectangle)\n",
    "cv.imshow('Circle',circle)\n",
    "cv.waitKey(0)\n",
    "cv.destroyAllWindows()"
   ]
  },
  {
   "cell_type": "code",
   "execution_count": 6,
   "id": "e61e076b-f4b5-40cd-a041-288e637bc4d5",
   "metadata": {},
   "outputs": [],
   "source": [
    "#bitwise AND --intersecting regions\n",
    "bitwise_AND = cv.bitwise_and(rectangle,circle)\n",
    "cv.imshow(\"Bitwise AND\",bitwise_AND)\n",
    "cv.waitKey(0)\n",
    "cv.destroyAllWindows()"
   ]
  },
  {
   "cell_type": "code",
   "execution_count": 7,
   "id": "3641a758-1b6d-4a4e-a699-5caa782f75be",
   "metadata": {},
   "outputs": [],
   "source": [
    "#bitwise OR-->non intersecting and intersecting regions\n",
    "bitwise_OR = cv.bitwise_or(rectangle,circle)\n",
    "cv.imshow(\"Bitwise OR\",bitwise_OR)\n",
    "cv.waitKey(0)\n",
    "cv.destroyAllWindows()"
   ]
  },
  {
   "cell_type": "code",
   "execution_count": 8,
   "id": "9916ea4e-43af-4bd5-a972-f63e838fad19",
   "metadata": {},
   "outputs": [],
   "source": [
    "#bitwise XOR non insecting regions\n",
    "bitwise_XOR = cv.bitwise_xor(rectangle,circle)\n",
    "cv.imshow(\"Bitwise XOR\",bitwise_XOR)\n",
    "cv.waitKey(0)\n",
    "cv.destroyAllWindows()"
   ]
  },
  {
   "cell_type": "code",
   "execution_count": 9,
   "id": "ab5d6111-255e-40c3-8163-5b7d9c0893cf",
   "metadata": {},
   "outputs": [],
   "source": [
    "#bitwise NOT inverse\n",
    "bitwise_NOT = cv.bitwise_not(rectangle)\n",
    "cv.imshow(\"Bitwise NOT\",bitwise_NOT)\n",
    "cv.waitKey(0)\n",
    "cv.destroyAllWindows()"
   ]
  },
  {
   "cell_type": "markdown",
   "id": "dc92011f-ca7d-4ceb-96f6-e8feec7faef4",
   "metadata": {},
   "source": [
    "# MASKING"
   ]
  },
  {
   "cell_type": "code",
   "execution_count": 4,
   "id": "9896c60e-3e42-4d5f-a293-f47b9acb4856",
   "metadata": {},
   "outputs": [],
   "source": [
    "img = cv.imread(\"D:/JupyterNotebooks/8525.jpg\")\n",
    "cv.imshow(\"Original Image\",img)\n",
    "cv.waitKey(0)\n",
    "cv.destroyWindow(\"Original Image\")"
   ]
  },
  {
   "cell_type": "code",
   "execution_count": 11,
   "id": "df74d5d7-05ca-433d-b1f7-1a379e464899",
   "metadata": {},
   "outputs": [],
   "source": [
    "blank = np.zeros((400,400),dtype='uint8')\n",
    "\n",
    "rectangle = cv.rectangle(blank.copy(),(30,30),(370,370),255,-1)\n",
    "circle = cv.circle(blank.copy(),(200,200),200,255,-1)\n",
    "cv.imshow('Rectangle',rectangle)\n",
    "cv.imshow('Circle',circle)\n",
    "cv.waitKey(0)\n",
    "cv.destroyAllWindows()"
   ]
  },
  {
   "cell_type": "code",
   "execution_count": 12,
   "id": "db79c0be-f6e4-493e-b1b3-4b7cd74da35b",
   "metadata": {},
   "outputs": [],
   "source": [
    "blank = np.zeros((400,400),dtype='uint8')\n",
    "# cv.imshow('Blank Image',blank)\n",
    "mask = cv.circle(blank.copy(),(100,100),100,255,-1)\n",
    "cv.imshow('Mask',mask)\n",
    "cv.waitKey(0)\n",
    "cv.destroyAllWindows()"
   ]
  },
  {
   "cell_type": "code",
   "execution_count": 14,
   "id": "c513d819-b3f5-4878-9984-ebd6331a11fe",
   "metadata": {},
   "outputs": [],
   "source": [
    "resized = cv.resize(img,(400,400),interpolation=cv.INTER_CUBIC)\n",
    "masked = cv.bitwise_and(resized,resized,mask=mask)\n",
    "cv.imshow('Masked',masked)\n",
    "cv.waitKey(0)\n",
    "cv.destroyAllWindows()"
   ]
  },
  {
   "cell_type": "markdown",
   "id": "8ad28a58-a5cd-40b2-a217-9665d59c94dd",
   "metadata": {},
   "source": [
    "# Histograms"
   ]
  },
  {
   "cell_type": "code",
   "execution_count": 15,
   "id": "31ce0890-b748-4d37-8a3b-f5a3e07d2d42",
   "metadata": {},
   "outputs": [],
   "source": [
    "import matplotlib.pyplot as plt"
   ]
  },
  {
   "cell_type": "code",
   "execution_count": 17,
   "id": "bca66047-8094-4fb1-83f6-d21bb1770bd2",
   "metadata": {},
   "outputs": [
    {
     "data": {
      "image/png": "[encoded data removed]",
      "text/plain": [
       "<Figure size 640x480 with 1 Axes>"
      ]
     },
     "metadata": {},
     "output_type": "display_data"
    }
   ],
   "source": [
    "#GrayScale image\n",
    "gray = cv.cvtColor(img,cv.COLOR_BGR2GRAY)\n",
    "gray_hist = cv.calcHist([gray],[0],None,[256],[0,256])\n",
    "plt.figure()\n",
    "plt.title(\"GrayScale Histogram\")\n",
    "plt.xlabel(\"Bins\")\n",
    "plt.ylabel('# No of pixels')\n",
    "plt.plot(gray_hist)\n",
    "plt.xlim([0,256])\n",
    "plt.show()"
   ]
  },
  {
   "cell_type": "code",
   "execution_count": 20,
   "id": "341211c0-5183-45fe-96c6-96e0bd82b8b1",
   "metadata": {},
   "outputs": [
    {
     "data": {
      "image/png": "[encoded data removed]",
      "text/plain": [
       "<Figure size 640x480 with 1 Axes>"
      ]
     },
     "metadata": {},
     "output_type": "display_data"
    }
   ],
   "source": [
    "#Compute histogram for a masked area\n",
    "masked_hist=cv.calcHist([masked],[0],None,[256],[0,256])\n",
    "plt.figure()\n",
    "plt.title(\"GrayScale Histogram\")\n",
    "plt.xlabel(\"Bins\")\n",
    "plt.ylabel('# No of pixels')\n",
    "plt.plot(masked_hist)\n",
    "plt.xlim([0,256])\n",
    "plt.show()"
   ]
  },
  {
   "cell_type": "code",
   "execution_count": 21,
   "id": "47f52fae-99ca-401e-aa1f-271a2a0b7210",
   "metadata": {},
   "outputs": [],
   "source": [
    "#Color histogram"
   ]
  },
  {
   "cell_type": "code",
   "execution_count": 22,
   "id": "9d7e8969-3e4a-41ab-b1c6-2a22787d90b2",
   "metadata": {},
   "outputs": [
    {
     "data": {
      "image/png": "[encoded data removed]",
      "text/plain": [
       "<Figure size 640x480 with 1 Axes>"
      ]
     },
     "metadata": {},
     "output_type": "display_data"
    }
   ],
   "source": [
    "colors = ('b','g','r')\n",
    "plt.figure()\n",
    "plt.title('Colour Histogram')\n",
    "plt.xlabel('Bins')\n",
    "plt.ylabel('# of pixels')\n",
    "for i, col in enumerate(colors):\n",
    "    hist = cv.calcHist([img],[i],None,[256],[0,256])\n",
    "    plt.plot(hist,color=col)\n",
    "    plt.xlim([0,256])\n",
    "\n",
    "plt.show()\n",
    "\n",
    "    "
   ]
  },
  {
   "cell_type": "markdown",
   "id": "c2b55d30-7c82-4b79-8ccd-f8572408c8c3",
   "metadata": {},
   "source": [
    "# Thresholding/Binarizing Images"
   ]
  },
  {
   "cell_type": "code",
   "execution_count": 27,
   "id": "c423e57d-a61f-412b-9762-1608f771ba7d",
   "metadata": {},
   "outputs": [],
   "source": [
    "# Simple Threshold\n",
    "threshold,thresh = cv.threshold(gray,225,255,cv.THRESH_BINARY)\n",
    "cv.imshow('Thresholded',thresh)\n",
    "cv.waitKey(0)\n",
    "cv.destroyAllWindows()"
   ]
  },
  {
   "cell_type": "code",
   "execution_count": 28,
   "id": "983ed59f-3a8e-426e-a765-3b6c307fd8a4",
   "metadata": {},
   "outputs": [],
   "source": [
    "threshold,thresh_inv = cv.threshold(gray,225,255,cv.THRESH_BINARY_INV)\n",
    "cv.imshow('Thresholded Inverse',thresh_inv)\n",
    "cv.waitKey(0)\n",
    "cv.destroyAllWindows()"
   ]
  },
  {
   "cell_type": "code",
   "execution_count": 32,
   "id": "13ddcb61-2a1e-449b-b833-a728a2236c98",
   "metadata": {},
   "outputs": [],
   "source": [
    "# Adaptive Threshold\n",
    "adptive_thresh = cv.adaptiveThreshold(gray,225,cv.ADAPTIVE_THRESH_MEAN_C,cv.THRESH_BINARY,11,3)\n",
    "cv.imshow('Adaptive Threshold',adptive_thresh)\n",
    "cv.waitKey(0)\n",
    "cv.destroyAllWindows()"
   ]
  },
  {
   "cell_type": "markdown",
   "id": "609792b2-f4fb-4632-b7fe-707e44ca0f92",
   "metadata": {},
   "source": [
    "# Edge Detection & Gradients"
   ]
  },
  {
   "cell_type": "code",
   "execution_count": 34,
   "id": "127b0b22-fffe-4f79-85d8-4ab9a677630e",
   "metadata": {},
   "outputs": [],
   "source": [
    " #Laplacian\n",
    "lap = cv.Laplacian(gray,cv.CV_64F)\n",
    "lap = np.uint8(np.absolute(lap))\n",
    "cv.imshow('Lapacian',lap)\n",
    "cv.waitKey(0)\n",
    "cv.destroyAllWindows()"
   ]
  },
  {
   "cell_type": "code",
   "execution_count": 38,
   "id": "4b3bfcda-05a4-4b54-acd8-ca39464001c1",
   "metadata": {},
   "outputs": [],
   "source": [
    "# Sobel \n",
    "sobelx = cv.Sobel(gray, cv.CV_64F, 1, 0)\n",
    "sobely = cv.Sobel(gray, cv.CV_64F, 0, 1)\n",
    "combined_sobel = cv.bitwise_or(sobelx, sobely)\n",
    "cv.imshow('Sobel X', sobelx)\n",
    "cv.imshow('Sobel Y', sobely)\n",
    "cv.imshow('Sobel',combined_sobel)\n",
    "cv.waitKey(0)\n",
    "cv.destroyAllWindows()"
   ]
  },
  {
   "cell_type": "code",
   "execution_count": 36,
   "id": "ce9a89ad-94dd-4338-87ad-61bbe1407786",
   "metadata": {},
   "outputs": [],
   "source": [
    "canny = cv.Canny(gray, 150, 175)\n",
    "cv.imshow('Canny', canny)\n",
    "cv.waitKey(0)\n",
    "cv.destroyAllWindows()"
   ]
  },
  {
   "cell_type": "markdown",
   "id": "181b2fee-9b22-4e8a-a6fc-ffd8a820ed65",
   "metadata": {},
   "source": [
    "# FACE DETECTION with Haar Cascades"
   ]
  },
  {
   "cell_type": "code",
   "execution_count": 39,
   "id": "e2f6c0ab-73a2-46cf-9ee0-b25195f57ae6",
   "metadata": {},
   "outputs": [],
   "source": [
    "import cv2 as cv\n",
    "import numpy as np\n",
    "import matplotlib.pyplot as plt"
   ]
  },
  {
   "cell_type": "code",
   "execution_count": 40,
   "id": "eeecfcaf-db95-433e-b776-653b845ef295",
   "metadata": {},
   "outputs": [],
   "source": [
    "img = cv.imread('D:/JupyterNotebooks/sharath01.jpg')\n",
    "#cv.imshow(\"Orignal Image\",img)\n",
    "\n",
    "gray = cv.cvtColor(img, cv.COLOR_BGR2GRAY)\n",
    "cv.imshow(\"Gray\",gray)\n",
    "cv.waitKey(0)\n",
    "cv.destroyAllWindows()"
   ]
  },
  {
   "cell_type": "code",
   "execution_count": 41,
   "id": "355b2ec6-57aa-4e4c-8720-ceee903d842b",
   "metadata": {},
   "outputs": [
    {
     "name": "stdout",
     "output_type": "stream",
     "text": [
      "Number of faces found:  1\n"
     ]
    }
   ],
   "source": [
    "# \n",
    "haar_cascade = cv.CascadeClassifier(\"D:/JupyterNotebooks/haar_cascade.xml\")\n",
    "faces_rect = haar_cascade.detectMultiScale(gray,scaleFactor=1.1,minNeighbors=3)\n",
    "#we get faces index above\n",
    "print('Number of faces found: ',len(faces_rect))"
   ]
  },
  {
   "cell_type": "code",
   "execution_count": 42,
   "id": "89cfebea-3acf-45f2-96a5-69f7bc9a5f43",
   "metadata": {},
   "outputs": [],
   "source": [
    "for (x,y,w,h) in faces_rect:\n",
    "    cv.rectangle(img,(x,y),(x+w,y+h),(0,255,0),thickness=2)\n",
    "\n",
    "cv.imshow('Detected faces ',img)\n",
    "cv.waitKey(0)\n",
    "cv.destroyAllWindows()"
   ]
  },
  {
   "cell_type": "markdown",
   "id": "7b0319f1-bfe1-4048-a2cf-d72629a56caa",
   "metadata": {},
   "source": [
    "# Face Recognition with OpenCV's built-in recognizer"
   ]
  },
  {
   "cell_type": "code",
   "execution_count": 1,
   "id": "141584b3-34cc-497f-90db-e05f9b2fd765",
   "metadata": {},
   "outputs": [],
   "source": [
    "import os\n",
    "import numpy as np\n",
    "import cv2 as cv"
   ]
  },
  {
   "cell_type": "code",
   "execution_count": 2,
   "id": "334a75b3-b432-4983-81d1-46586ddaadca",
   "metadata": {},
   "outputs": [
    {
     "data": {
      "text/plain": [
       "['Ben Afflek', 'Elton John', 'Jerry Seinfield', 'Madonna', 'Mindy Kaling']"
      ]
     },
     "execution_count": 2,
     "metadata": {},
     "output_type": "execute_result"
    }
   ],
   "source": [
    "peoples=[]\n",
    "for i in os.listdir(\"D:/JupyterNotebooks/Faces/train\"):\n",
    "    peoples.append(i)\n",
    "peoples"
   ]
  },
  {
   "cell_type": "code",
   "execution_count": 3,
   "id": "a510c138-dac5-4e81-938c-32f4d9b72225",
   "metadata": {},
   "outputs": [],
   "source": [
    "DIR=\"D:/JupyterNotebooks/Faces/train\""
   ]
  },
  {
   "cell_type": "code",
   "execution_count": 4,
   "id": "f1a63b98-01e1-446d-b6c3-fe80e4e4495b",
   "metadata": {},
   "outputs": [],
   "source": [
    "features=[]\n",
    "labels=[]\n",
    "\n",
    "haar_cascade = cv.CascadeClassifier(\"D:/JupyterNotebooks/haar_cascade.xml\")\n",
    "\n",
    "\n",
    "def create_train():\n",
    "    for person in peoples:\n",
    "        path=os.path.join(DIR,person)\n",
    "        label=peoples.index(person)\n",
    "\n",
    "        for img in os.listdir(path):\n",
    "            img_path=os.path.join(path,img)\n",
    "            img_array = cv.imread(img_path)\n",
    "            gray = cv.cvtColor(img_array,cv.COLOR_BGR2GRAY)\n",
    "\n",
    "            faces_rect = haar_cascade.detectMultiScale(gray,scaleFactor=1.1,minNeighbors=4)\n",
    "\n",
    "            for (x,y,w,h) in faces_rect:\n",
    "                faces_roi = gray[y:y+h,x:x+w]\n",
    "                features.append(faces_roi)\n",
    "                labels.append(label)\n",
    "\n",
    "create_train()"
   ]
  },
  {
   "cell_type": "code",
   "execution_count": 5,
   "id": "5f52302e-bc08-4f0d-acf9-95ba0e6f6a75",
   "metadata": {},
   "outputs": [],
   "source": [
    "features = np.array(features, dtype='object')\n",
    "labels = np.array(labels)\n",
    "\n",
    "face_recognizer = cv.face.LBPHFaceRecognizer_create()\n",
    "\n",
    "# Train the Recognizer on the features list and the labels list\n",
    "face_recognizer.train(features,labels)\n",
    "\n",
    "face_recognizer.save('D:/JupyterNotebooks/face_trained.yml')\n",
    "np.save('features.npy', features)\n",
    "np.save('labels.npy', labels)"
   ]
  },
  {
   "cell_type": "code",
   "execution_count": 6,
   "id": "f9c1e831-631b-4831-98a5-c0ad1ea1e4a0",
   "metadata": {},
   "outputs": [
    {
     "name": "stdout",
     "output_type": "stream",
     "text": [
      "Label = Elton John with a confidence of 67.00856809674691\n"
     ]
    }
   ],
   "source": [
    "face_recognizer.read('./face_trained.yml')\n",
    "img = cv.imread('D:/JupyterNotebooks/Faces/val/elton_john/1.jpg')\n",
    "gray = cv.cvtColor(img, cv.COLOR_BGR2GRAY)\n",
    "cv.imshow('Person', gray)\n",
    "\n",
    "# Detect the face in the image\n",
    "faces_rect = haar_cascade.detectMultiScale(gray, 1.1, 4)\n",
    "\n",
    "for (x,y,w,h) in faces_rect:\n",
    "    faces_roi = gray[y:y+h,x:x+w]\n",
    "\n",
    "    label, confidence = face_recognizer.predict(faces_roi)\n",
    "    print(f'Label = {peoples[label]} with a confidence of {confidence}')\n",
    "\n",
    "    cv.putText(img, str(peoples[label]), (20,20), cv.FONT_HERSHEY_COMPLEX, 1.0, (0,255,0), thickness=2)\n",
    "    cv.rectangle(img, (x,y), (x+w,y+h), (0,255,0), thickness=2)\n",
    "\n",
    "cv.imshow('Detected Face', img)\n",
    "\n",
    "cv.waitKey(0)\n",
    "cv.destroyAllWindows()"
   ]
  },
  {
   "cell_type": "markdown",
   "id": "27c80a5d-710b-4ab3-82c8-47b00259b59a",
   "metadata": {},
   "source": [
    "# Deep Computer Vision: The Simpsons"
   ]
  },
  {
   "cell_type": "code",
   "execution_count": null,
   "id": "f91452d1-a49e-4770-9c45-3035f525b96e",
   "metadata": {},
   "outputs": [],
   "source": []
  },
  {
   "cell_type": "code",
   "execution_count": null,
   "id": "9ef74318-694a-40ab-8dfb-7c8a80e93120",
   "metadata": {},
   "outputs": [],
   "source": []
  }
 ],
 "metadata": {
  "kernelspec": {
   "display_name": "Python 3 (ipykernel)",
   "language": "python",
   "name": "python3"
  },
  "language_info": {
   "codemirror_mode": {
    "name": "ipython",
    "version": 3
   },
   "file_extension": ".py",
   "mimetype": "text/x-python",
   "name": "python",
   "nbconvert_exporter": "python",
   "pygments_lexer": "ipython3",
   "version": "3.12.4"
  }
 },
 "nbformat": 4,
 "nbformat_minor": 5
}
